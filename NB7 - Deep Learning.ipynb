{
 "cells": [
  {
   "cell_type": "markdown",
   "metadata": {},
   "source": [
    "<center>\n",
    "    <h1><b><font color=\"blue\"> Notebook 7 - Deep Learning</font> </b></h1>\n",
    "</center>"
   ]
  },
  {
   "cell_type": "markdown",
   "metadata": {},
   "source": [
    "<b>Objectif du notebook :</b>\n",
    "<p>Tester des modèles de Deep learning pour prédire RainTomorrow et comparer leurs performances avec celles des modèles de machine learning classique.</p>\n",
    "\n",
    "<b>Plan :</b>\n",
    "<ol>\n",
    "<li> Modèles à couches Dense de Keras</li>\n",
    "<li> Modèles FastAI</li>\n",
    "</ol>"
   ]
  },
  {
   "cell_type": "markdown",
   "metadata": {},
   "source": [
    "<hr>\n",
    "<h1> Importation des librairies Python </h1>\n",
    "<hr>"
   ]
  },
  {
   "cell_type": "code",
   "execution_count": 1,
   "metadata": {
    "execution": {
     "iopub.execute_input": "2022-04-22T16:13:38.815142Z",
     "iopub.status.busy": "2022-04-22T16:13:38.814800Z",
     "iopub.status.idle": "2022-04-22T16:13:47.120752Z",
     "shell.execute_reply": "2022-04-22T16:13:47.119822Z",
     "shell.execute_reply.started": "2022-04-22T16:13:38.815051Z"
    }
   },
   "outputs": [],
   "source": [
    "import matplotlib.pyplot as plt\n",
    "%matplotlib inline\n",
    "import numpy as np\n",
    "import pandas as pd\n",
    "import seaborn as sns\n",
    "\n",
    "import tensorflow as tf\n",
    "from tensorflow import keras\n",
    "from tensorflow.keras.layers import Input, Dense, Dropout\n",
    "from tensorflow.keras.models import Model, Sequential\n",
    "from tensorflow.keras.utils import to_categorical\n",
    "from tensorflow.keras.callbacks import EarlyStopping, ReduceLROnPlateau\n",
    "\n",
    "from sklearn.model_selection import train_test_split\n",
    "from sklearn.preprocessing import MinMaxScaler\n",
    "from sklearn.metrics import classification_report, confusion_matrix\n",
    "\n",
    "from imblearn.under_sampling import RandomUnderSampler\n",
    "from imblearn.over_sampling import RandomOverSampler\n",
    "\n",
    "from tqdm import tqdm\n",
    "import time\n",
    "\n",
    "from joblib import dump, load"
   ]
  },
  {
   "cell_type": "markdown",
   "metadata": {},
   "source": [
    "<hr>\n",
    "<h1> Importation du jeu de données </h1>\n",
    "<hr>"
   ]
  },
  {
   "cell_type": "code",
   "execution_count": 2,
   "metadata": {
    "execution": {
     "iopub.execute_input": "2022-04-22T16:13:47.122391Z",
     "iopub.status.busy": "2022-04-22T16:13:47.122160Z",
     "iopub.status.idle": "2022-04-22T16:13:48.523264Z",
     "shell.execute_reply": "2022-04-22T16:13:48.522269Z",
     "shell.execute_reply.started": "2022-04-22T16:13:47.122363Z"
    }
   },
   "outputs": [
    {
     "name": "stdout",
     "output_type": "stream",
     "text": [
      "<class 'pandas.core.frame.DataFrame'>\n",
      "RangeIndex: 145460 entries, 0 to 145459\n",
      "Data columns (total 47 columns):\n",
      " #   Column              Non-Null Count   Dtype  \n",
      "---  ------              --------------   -----  \n",
      " 0   Unnamed: 0          145460 non-null  int64  \n",
      " 1   Date                145460 non-null  object \n",
      " 2   Location            145460 non-null  object \n",
      " 3   MinTemp             143975 non-null  float64\n",
      " 4   MaxTemp             144199 non-null  float64\n",
      " 5   Rainfall            142199 non-null  float64\n",
      " 6   Evaporation         82670 non-null   float64\n",
      " 7   Sunshine            75625 non-null   float64\n",
      " 8   WindGustSpeed       135197 non-null  float64\n",
      " 9   WindSpeed9am        143693 non-null  float64\n",
      " 10  WindSpeed3pm        142398 non-null  float64\n",
      " 11  Humidity9am         142806 non-null  float64\n",
      " 12  Humidity3pm         140953 non-null  float64\n",
      " 13  Pressure9am         130395 non-null  float64\n",
      " 14  Pressure3pm         130432 non-null  float64\n",
      " 15  Cloud9am            89572 non-null   float64\n",
      " 16  Cloud3pm            86102 non-null   float64\n",
      " 17  Temp9am             143693 non-null  float64\n",
      " 18  Temp3pm             141851 non-null  float64\n",
      " 19  RainToday_Num       145460 non-null  int64  \n",
      " 20  RainTomorrow_Num    145460 non-null  int64  \n",
      " 21  Mois                145460 non-null  int64  \n",
      " 22  Trimestre           145460 non-null  int64  \n",
      " 23  Annee               145460 non-null  int64  \n",
      " 24  WindGust_Ang        135134 non-null  float64\n",
      " 25  Wind9am_Ang         134894 non-null  float64\n",
      " 26  Wind3pm_Ang         141232 non-null  float64\n",
      " 27  WindGust_cos        135134 non-null  float64\n",
      " 28  Wind9am_cos         134894 non-null  float64\n",
      " 29  Wind3pm_cos         141232 non-null  float64\n",
      " 30  WindGust_sin        135134 non-null  float64\n",
      " 31  Wind9am_sin         134894 non-null  float64\n",
      " 32  Wind3pm_sin         141232 non-null  float64\n",
      " 33  Latitude            145460 non-null  float64\n",
      " 34  Longitude           145460 non-null  float64\n",
      " 35  Climat_Koppen       145460 non-null  object \n",
      " 36  Rain_J-1            145459 non-null  float64\n",
      " 37  Rain_J-2            145458 non-null  float64\n",
      " 38  Rain_J+2            145458 non-null  float64\n",
      " 39  Rain_J+3            145457 non-null  float64\n",
      " 40  Mois_sin            145460 non-null  float64\n",
      " 41  Mois_cos            145460 non-null  float64\n",
      " 42  clim_méditerranéen  145460 non-null  int64  \n",
      " 43  clim_océanique      145460 non-null  int64  \n",
      " 44  clim_sec            145460 non-null  int64  \n",
      " 45  clim_subtropical    145460 non-null  int64  \n",
      " 46  clim_tropical       145460 non-null  int64  \n",
      "dtypes: float64(33), int64(11), object(3)\n",
      "memory usage: 52.2+ MB\n"
     ]
    },
    {
     "data": {
      "text/html": [
       "<div>\n",
       "<style scoped>\n",
       "    .dataframe tbody tr th:only-of-type {\n",
       "        vertical-align: middle;\n",
       "    }\n",
       "\n",
       "    .dataframe tbody tr th {\n",
       "        vertical-align: top;\n",
       "    }\n",
       "\n",
       "    .dataframe thead th {\n",
       "        text-align: right;\n",
       "    }\n",
       "</style>\n",
       "<table border=\"1\" class=\"dataframe\">\n",
       "  <thead>\n",
       "    <tr style=\"text-align: right;\">\n",
       "      <th></th>\n",
       "      <th>Unnamed: 0</th>\n",
       "      <th>Date</th>\n",
       "      <th>Location</th>\n",
       "      <th>MinTemp</th>\n",
       "      <th>MaxTemp</th>\n",
       "      <th>Rainfall</th>\n",
       "      <th>Evaporation</th>\n",
       "      <th>Sunshine</th>\n",
       "      <th>WindGustSpeed</th>\n",
       "      <th>WindSpeed9am</th>\n",
       "      <th>...</th>\n",
       "      <th>Rain_J-2</th>\n",
       "      <th>Rain_J+2</th>\n",
       "      <th>Rain_J+3</th>\n",
       "      <th>Mois_sin</th>\n",
       "      <th>Mois_cos</th>\n",
       "      <th>clim_méditerranéen</th>\n",
       "      <th>clim_océanique</th>\n",
       "      <th>clim_sec</th>\n",
       "      <th>clim_subtropical</th>\n",
       "      <th>clim_tropical</th>\n",
       "    </tr>\n",
       "  </thead>\n",
       "  <tbody>\n",
       "    <tr>\n",
       "      <th>0</th>\n",
       "      <td>96320</td>\n",
       "      <td>2008-07-01</td>\n",
       "      <td>Adelaide</td>\n",
       "      <td>8.8</td>\n",
       "      <td>15.7</td>\n",
       "      <td>5.0</td>\n",
       "      <td>1.6</td>\n",
       "      <td>2.6</td>\n",
       "      <td>48.0</td>\n",
       "      <td>13.0</td>\n",
       "      <td>...</td>\n",
       "      <td>NaN</td>\n",
       "      <td>0.0</td>\n",
       "      <td>0.0</td>\n",
       "      <td>1.224647e-16</td>\n",
       "      <td>-1.0</td>\n",
       "      <td>1</td>\n",
       "      <td>0</td>\n",
       "      <td>0</td>\n",
       "      <td>0</td>\n",
       "      <td>0</td>\n",
       "    </tr>\n",
       "    <tr>\n",
       "      <th>1</th>\n",
       "      <td>96321</td>\n",
       "      <td>2008-07-02</td>\n",
       "      <td>Adelaide</td>\n",
       "      <td>12.7</td>\n",
       "      <td>15.8</td>\n",
       "      <td>0.8</td>\n",
       "      <td>1.4</td>\n",
       "      <td>7.8</td>\n",
       "      <td>35.0</td>\n",
       "      <td>13.0</td>\n",
       "      <td>...</td>\n",
       "      <td>NaN</td>\n",
       "      <td>0.0</td>\n",
       "      <td>0.0</td>\n",
       "      <td>1.224647e-16</td>\n",
       "      <td>-1.0</td>\n",
       "      <td>1</td>\n",
       "      <td>0</td>\n",
       "      <td>0</td>\n",
       "      <td>0</td>\n",
       "      <td>0</td>\n",
       "    </tr>\n",
       "    <tr>\n",
       "      <th>2</th>\n",
       "      <td>96322</td>\n",
       "      <td>2008-07-03</td>\n",
       "      <td>Adelaide</td>\n",
       "      <td>6.2</td>\n",
       "      <td>15.1</td>\n",
       "      <td>0.0</td>\n",
       "      <td>1.8</td>\n",
       "      <td>2.1</td>\n",
       "      <td>20.0</td>\n",
       "      <td>2.0</td>\n",
       "      <td>...</td>\n",
       "      <td>1.0</td>\n",
       "      <td>0.0</td>\n",
       "      <td>0.0</td>\n",
       "      <td>1.224647e-16</td>\n",
       "      <td>-1.0</td>\n",
       "      <td>1</td>\n",
       "      <td>0</td>\n",
       "      <td>0</td>\n",
       "      <td>0</td>\n",
       "      <td>0</td>\n",
       "    </tr>\n",
       "    <tr>\n",
       "      <th>3</th>\n",
       "      <td>96323</td>\n",
       "      <td>2008-07-04</td>\n",
       "      <td>Adelaide</td>\n",
       "      <td>5.3</td>\n",
       "      <td>15.9</td>\n",
       "      <td>0.0</td>\n",
       "      <td>1.4</td>\n",
       "      <td>8.0</td>\n",
       "      <td>30.0</td>\n",
       "      <td>6.0</td>\n",
       "      <td>...</td>\n",
       "      <td>0.0</td>\n",
       "      <td>0.0</td>\n",
       "      <td>1.0</td>\n",
       "      <td>1.224647e-16</td>\n",
       "      <td>-1.0</td>\n",
       "      <td>1</td>\n",
       "      <td>0</td>\n",
       "      <td>0</td>\n",
       "      <td>0</td>\n",
       "      <td>0</td>\n",
       "    </tr>\n",
       "    <tr>\n",
       "      <th>4</th>\n",
       "      <td>96324</td>\n",
       "      <td>2008-07-05</td>\n",
       "      <td>Adelaide</td>\n",
       "      <td>9.8</td>\n",
       "      <td>15.4</td>\n",
       "      <td>0.0</td>\n",
       "      <td>NaN</td>\n",
       "      <td>0.9</td>\n",
       "      <td>30.0</td>\n",
       "      <td>9.0</td>\n",
       "      <td>...</td>\n",
       "      <td>0.0</td>\n",
       "      <td>1.0</td>\n",
       "      <td>1.0</td>\n",
       "      <td>1.224647e-16</td>\n",
       "      <td>-1.0</td>\n",
       "      <td>1</td>\n",
       "      <td>0</td>\n",
       "      <td>0</td>\n",
       "      <td>0</td>\n",
       "      <td>0</td>\n",
       "    </tr>\n",
       "  </tbody>\n",
       "</table>\n",
       "<p>5 rows × 47 columns</p>\n",
       "</div>"
      ],
      "text/plain": [
       "   Unnamed: 0        Date  Location  MinTemp  MaxTemp  Rainfall  Evaporation  \\\n",
       "0       96320  2008-07-01  Adelaide      8.8     15.7       5.0          1.6   \n",
       "1       96321  2008-07-02  Adelaide     12.7     15.8       0.8          1.4   \n",
       "2       96322  2008-07-03  Adelaide      6.2     15.1       0.0          1.8   \n",
       "3       96323  2008-07-04  Adelaide      5.3     15.9       0.0          1.4   \n",
       "4       96324  2008-07-05  Adelaide      9.8     15.4       0.0          NaN   \n",
       "\n",
       "   Sunshine  WindGustSpeed  WindSpeed9am  ...  Rain_J-2  Rain_J+2  Rain_J+3  \\\n",
       "0       2.6           48.0          13.0  ...       NaN       0.0       0.0   \n",
       "1       7.8           35.0          13.0  ...       NaN       0.0       0.0   \n",
       "2       2.1           20.0           2.0  ...       1.0       0.0       0.0   \n",
       "3       8.0           30.0           6.0  ...       0.0       0.0       1.0   \n",
       "4       0.9           30.0           9.0  ...       0.0       1.0       1.0   \n",
       "\n",
       "       Mois_sin  Mois_cos  clim_méditerranéen  clim_océanique  clim_sec  \\\n",
       "0  1.224647e-16      -1.0                   1               0         0   \n",
       "1  1.224647e-16      -1.0                   1               0         0   \n",
       "2  1.224647e-16      -1.0                   1               0         0   \n",
       "3  1.224647e-16      -1.0                   1               0         0   \n",
       "4  1.224647e-16      -1.0                   1               0         0   \n",
       "\n",
       "   clim_subtropical  clim_tropical  \n",
       "0                 0              0  \n",
       "1                 0              0  \n",
       "2                 0              0  \n",
       "3                 0              0  \n",
       "4                 0              0  \n",
       "\n",
       "[5 rows x 47 columns]"
      ]
     },
     "execution_count": 2,
     "metadata": {},
     "output_type": "execute_result"
    }
   ],
   "source": [
    "df = pd.read_csv(\"weatherAUS_nan.csv\")\n",
    "df.info()\n",
    "df.head()"
   ]
  },
  {
   "cell_type": "markdown",
   "metadata": {},
   "source": [
    "<hr>\n",
    "<h1> Preprocessing </h1>\n",
    "<hr>"
   ]
  },
  {
   "cell_type": "code",
   "execution_count": 3,
   "metadata": {},
   "outputs": [],
   "source": [
    "# suppression des valeurs manquantes\n",
    "df = df.dropna()"
   ]
  },
  {
   "cell_type": "code",
   "execution_count": 4,
   "metadata": {
    "execution": {
     "iopub.execute_input": "2022-04-22T16:13:55.631926Z",
     "iopub.status.busy": "2022-04-22T16:13:55.631495Z",
     "iopub.status.idle": "2022-04-22T16:13:55.637828Z",
     "shell.execute_reply": "2022-04-22T16:13:55.636674Z",
     "shell.execute_reply.started": "2022-04-22T16:13:55.631880Z"
    }
   },
   "outputs": [],
   "source": [
    "# sélection des variables explicatives\n",
    "features = [\"RainToday_Num\",\"Rain_J-1\",\"Rain_J-2\",\"MinTemp\",\"MaxTemp\",\"Sunshine\",\"Evaporation\",\n",
    "            \"Humidity3pm\",\"Humidity9am\",\"Pressure9am\",\"Pressure3pm\",\"Cloud3pm\",\"Cloud9am\", \n",
    "            \"Wind9am_cos\",\"Wind3pm_cos\",\"WindGust_cos\",\"Wind9am_sin\",\"Wind3pm_sin\",\"WindGust_sin\",\n",
    "            \"Mois_sin\", \"Mois_cos\", \"Climat_Koppen\"]"
   ]
  },
  {
   "cell_type": "code",
   "execution_count": 5,
   "metadata": {
    "execution": {
     "iopub.execute_input": "2022-04-22T16:13:58.859613Z",
     "iopub.status.busy": "2022-04-22T16:13:58.859330Z",
     "iopub.status.idle": "2022-04-22T16:13:58.875679Z",
     "shell.execute_reply": "2022-04-22T16:13:58.875081Z",
     "shell.execute_reply.started": "2022-04-22T16:13:58.859584Z"
    }
   },
   "outputs": [],
   "source": [
    "# création des jeu de données features / target\n",
    "X = df[features]\n",
    "y = df[\"RainTomorrow_Num\"]"
   ]
  },
  {
   "cell_type": "code",
   "execution_count": 6,
   "metadata": {
    "execution": {
     "iopub.execute_input": "2022-04-22T16:14:03.218978Z",
     "iopub.status.busy": "2022-04-22T16:14:03.218689Z",
     "iopub.status.idle": "2022-04-22T16:14:03.279140Z",
     "shell.execute_reply": "2022-04-22T16:14:03.278587Z",
     "shell.execute_reply.started": "2022-04-22T16:14:03.218945Z"
    }
   },
   "outputs": [
    {
     "name": "stdout",
     "output_type": "stream",
     "text": [
      "<class 'pandas.core.frame.DataFrame'>\n",
      "Int64Index: 56564 entries, 9273 to 145431\n",
      "Data columns (total 29 columns):\n",
      " #   Column         Non-Null Count  Dtype  \n",
      "---  ------         --------------  -----  \n",
      " 0   RainToday_Num  56564 non-null  int64  \n",
      " 1   Rain_J-1       56564 non-null  float64\n",
      " 2   Rain_J-2       56564 non-null  float64\n",
      " 3   MinTemp        56564 non-null  float64\n",
      " 4   MaxTemp        56564 non-null  float64\n",
      " 5   Sunshine       56564 non-null  float64\n",
      " 6   Evaporation    56564 non-null  float64\n",
      " 7   Humidity3pm    56564 non-null  float64\n",
      " 8   Humidity9am    56564 non-null  float64\n",
      " 9   Pressure9am    56564 non-null  float64\n",
      " 10  Pressure3pm    56564 non-null  float64\n",
      " 11  Cloud3pm       56564 non-null  float64\n",
      " 12  Cloud9am       56564 non-null  float64\n",
      " 13  Wind9am_cos    56564 non-null  float64\n",
      " 14  Wind3pm_cos    56564 non-null  float64\n",
      " 15  WindGust_cos   56564 non-null  float64\n",
      " 16  Wind9am_sin    56564 non-null  float64\n",
      " 17  Wind3pm_sin    56564 non-null  float64\n",
      " 18  WindGust_sin   56564 non-null  float64\n",
      " 19  Mois_sin       56564 non-null  float64\n",
      " 20  Mois_cos       56564 non-null  float64\n",
      " 21  Clim_Am        56564 non-null  uint8  \n",
      " 22  Clim_Aw        56564 non-null  uint8  \n",
      " 23  Clim_BSh       56564 non-null  uint8  \n",
      " 24  Clim_BSk       56564 non-null  uint8  \n",
      " 25  Clim_Bwh       56564 non-null  uint8  \n",
      " 26  Clim_Cfa       56564 non-null  uint8  \n",
      " 27  Clim_Cfb       56564 non-null  uint8  \n",
      " 28  Clim_Csb       56564 non-null  uint8  \n",
      "dtypes: float64(20), int64(1), uint8(8)\n",
      "memory usage: 9.9 MB\n"
     ]
    }
   ],
   "source": [
    "# numérisation des climats (classes de Koppen)\n",
    "X = pd.get_dummies(X, columns=['Climat_Koppen'], prefix='Clim')\n",
    "X.info()"
   ]
  },
  {
   "cell_type": "code",
   "execution_count": 7,
   "metadata": {
    "execution": {
     "iopub.execute_input": "2022-04-22T16:14:09.081023Z",
     "iopub.status.busy": "2022-04-22T16:14:09.080734Z",
     "iopub.status.idle": "2022-04-22T16:14:09.143522Z",
     "shell.execute_reply": "2022-04-22T16:14:09.142907Z",
     "shell.execute_reply.started": "2022-04-22T16:14:09.080991Z"
    }
   },
   "outputs": [],
   "source": [
    "# préparation des jeux de données d'entrainement et de test\n",
    "X_tr, X_te, y_tr, y_te = train_test_split(X, y, test_size=0.2, random_state=123)"
   ]
  },
  {
   "cell_type": "code",
   "execution_count": 8,
   "metadata": {
    "execution": {
     "iopub.execute_input": "2022-04-22T16:14:10.525126Z",
     "iopub.status.busy": "2022-04-22T16:14:10.524546Z",
     "iopub.status.idle": "2022-04-22T16:14:10.793587Z",
     "shell.execute_reply": "2022-04-22T16:14:10.792670Z",
     "shell.execute_reply.started": "2022-04-22T16:14:10.525085Z"
    }
   },
   "outputs": [
    {
     "name": "stdout",
     "output_type": "stream",
     "text": [
      "sous-échantillonage : 19912 lignes.\n",
      "sur-échantillonage : 70590 lignes.\n"
     ]
    }
   ],
   "source": [
    "# préparation des jeux de données sous-échantillonnés et sur-échantillonnés\n",
    "rus = RandomUnderSampler()\n",
    "X_train_ru, y_train_ru = rus.fit_resample(X_tr, y_tr)\n",
    "print(\"sous-échantillonage :\", X_train_ru.shape[0], \"lignes.\")\n",
    "\n",
    "ros = RandomOverSampler()\n",
    "X_train_ro, y_train_ro = ros.fit_resample(X_tr, y_tr)\n",
    "print(\"sur-échantillonage :\", X_train_ro.shape[0], \"lignes.\")"
   ]
  },
  {
   "cell_type": "markdown",
   "metadata": {},
   "source": [
    "Les algorithmes de deep learning nécessitent de standardiser les données pour mettre toutes les variables à la même échelle."
   ]
  },
  {
   "cell_type": "code",
   "execution_count": 9,
   "metadata": {
    "execution": {
     "iopub.execute_input": "2022-04-22T16:14:12.598203Z",
     "iopub.status.busy": "2022-04-22T16:14:12.597266Z",
     "iopub.status.idle": "2022-04-22T16:14:12.795449Z",
     "shell.execute_reply": "2022-04-22T16:14:12.794459Z",
     "shell.execute_reply.started": "2022-04-22T16:14:12.598150Z"
    }
   },
   "outputs": [],
   "source": [
    "# Standardisation Min-Max\n",
    "scaler = MinMaxScaler()\n",
    "X_train = scaler.fit_transform(X_tr)\n",
    "X_test = scaler.transform(X_te)\n",
    "\n",
    "scaler_ru = MinMaxScaler()\n",
    "X_train_ru = scaler_ru.fit_transform(X_train_ru)\n",
    "X_test_ru = scaler_ru.transform(X_te)\n",
    "\n",
    "scaler_ro = MinMaxScaler()\n",
    "X_train_ro = scaler_ro.fit_transform(X_train_ro)\n",
    "X_test_ro = scaler_ro.transform(X_te)"
   ]
  },
  {
   "cell_type": "markdown",
   "metadata": {},
   "source": [
    "Les algorithmes de deep learning nécessitent de créer autant de variables cibles que de classes à prédire (deux dans notre cas). Les couches Dense de sortie contiendront donc deux neurones."
   ]
  },
  {
   "cell_type": "code",
   "execution_count": 10,
   "metadata": {
    "execution": {
     "iopub.execute_input": "2022-04-22T16:14:14.710293Z",
     "iopub.status.busy": "2022-04-22T16:14:14.710046Z",
     "iopub.status.idle": "2022-04-22T16:14:14.721849Z",
     "shell.execute_reply": "2022-04-22T16:14:14.720877Z",
     "shell.execute_reply.started": "2022-04-22T16:14:14.710268Z"
    }
   },
   "outputs": [],
   "source": [
    "# Encodage One Hot des labels\n",
    "y_train = to_categorical(y_tr)\n",
    "y_test = to_categorical(y_te)\n",
    "\n",
    "y_train_ru = to_categorical(y_train_ru)\n",
    "y_test_ru = to_categorical(y_te)\n",
    "\n",
    "y_train_ro = to_categorical(y_train_ro)\n",
    "y_test_ro = to_categorical(y_te)"
   ]
  },
  {
   "cell_type": "markdown",
   "metadata": {},
   "source": [
    "Nous testerons les algorithmes de deep learning sur le jeu de données avant et après rééquilibrage de la classe minoritaire."
   ]
  },
  {
   "cell_type": "markdown",
   "metadata": {},
   "source": [
    "<hr>\n",
    "<h1> 1 - Modèles à couches Dense de Keras </h1>\n",
    "<hr>"
   ]
  },
  {
   "cell_type": "markdown",
   "metadata": {},
   "source": [
    "## 1.1 - Jeu de données déséquilibré (non rééchantillonné)"
   ]
  },
  {
   "cell_type": "markdown",
   "metadata": {},
   "source": [
    "### Modèles avec 4 couches Dense et un nombre réduit de neurones"
   ]
  },
  {
   "cell_type": "markdown",
   "metadata": {},
   "source": [
    "#### 1e modèle de référence \n",
    "- nombre d'époques = 20\n",
    "- batch_size = 32\n",
    "- fonction d'activation = tangente hyperbolique (tanh)\n",
    "- initialiseur = normal"
   ]
  },
  {
   "cell_type": "code",
   "execution_count": 12,
   "metadata": {
    "execution": {
     "iopub.execute_input": "2022-04-22T16:14:20.142253Z",
     "iopub.status.busy": "2022-04-22T16:14:20.141528Z",
     "iopub.status.idle": "2022-04-22T16:16:15.978755Z",
     "shell.execute_reply": "2022-04-22T16:16:15.977880Z",
     "shell.execute_reply.started": "2022-04-22T16:14:20.142204Z"
    },
    "scrolled": false
   },
   "outputs": [
    {
     "name": "stdout",
     "output_type": "stream",
     "text": [
      "Model: \"model_1\"\n",
      "_________________________________________________________________\n",
      " Layer (type)                Output Shape              Param #   \n",
      "=================================================================\n",
      " Input (InputLayer)          [(None, 29)]              0         \n",
      "                                                                 \n",
      " couche1 (Dense)             (None, 20)                600       \n",
      "                                                                 \n",
      " couche2 (Dense)             (None, 16)                336       \n",
      "                                                                 \n",
      " couche3 (Dense)             (None, 8)                 136       \n",
      "                                                                 \n",
      " couche4 (Dense)             (None, 2)                 18        \n",
      "                                                                 \n",
      "=================================================================\n",
      "Total params: 1,090\n",
      "Trainable params: 1,090\n",
      "Non-trainable params: 0\n",
      "_________________________________________________________________\n",
      "Epoch 1/20\n",
      "1132/1132 [==============================] - 3s 2ms/step - loss: 0.4287 - accuracy: 0.8159 - val_loss: 0.3566 - val_accuracy: 0.8422\n",
      "Epoch 2/20\n",
      "1132/1132 [==============================] - 2s 2ms/step - loss: 0.3583 - accuracy: 0.8411 - val_loss: 0.3483 - val_accuracy: 0.8471\n",
      "Epoch 3/20\n",
      "1132/1132 [==============================] - 2s 2ms/step - loss: 0.3534 - accuracy: 0.8445 - val_loss: 0.3456 - val_accuracy: 0.8459\n",
      "Epoch 4/20\n",
      "1132/1132 [==============================] - 2s 2ms/step - loss: 0.3523 - accuracy: 0.8443 - val_loss: 0.3523 - val_accuracy: 0.8418\n",
      "Epoch 5/20\n",
      "1132/1132 [==============================] - 2s 2ms/step - loss: 0.3502 - accuracy: 0.8451 - val_loss: 0.3423 - val_accuracy: 0.8480\n",
      "Epoch 6/20\n",
      "1132/1132 [==============================] - 2s 2ms/step - loss: 0.3502 - accuracy: 0.8444 - val_loss: 0.3428 - val_accuracy: 0.8502\n",
      "Epoch 7/20\n",
      "1132/1132 [==============================] - 2s 2ms/step - loss: 0.3495 - accuracy: 0.8444 - val_loss: 0.3461 - val_accuracy: 0.8466\n",
      "Epoch 8/20\n",
      "1132/1132 [==============================] - 2s 2ms/step - loss: 0.3481 - accuracy: 0.8455 - val_loss: 0.3412 - val_accuracy: 0.8494\n",
      "Epoch 9/20\n",
      "1132/1132 [==============================] - 2s 2ms/step - loss: 0.3478 - accuracy: 0.8461 - val_loss: 0.3414 - val_accuracy: 0.8482\n",
      "Epoch 10/20\n",
      "1132/1132 [==============================] - 2s 2ms/step - loss: 0.3471 - accuracy: 0.8463 - val_loss: 0.3412 - val_accuracy: 0.8484\n",
      "Epoch 11/20\n",
      "1132/1132 [==============================] - 2s 2ms/step - loss: 0.3465 - accuracy: 0.8462 - val_loss: 0.3427 - val_accuracy: 0.8505\n",
      "Epoch 12/20\n",
      "1132/1132 [==============================] - 2s 2ms/step - loss: 0.3452 - accuracy: 0.8476 - val_loss: 0.3382 - val_accuracy: 0.8505\n",
      "Epoch 13/20\n",
      "1132/1132 [==============================] - 2s 2ms/step - loss: 0.3442 - accuracy: 0.8475 - val_loss: 0.3381 - val_accuracy: 0.8474\n",
      "Epoch 14/20\n",
      "1132/1132 [==============================] - 2s 2ms/step - loss: 0.3432 - accuracy: 0.8470 - val_loss: 0.3373 - val_accuracy: 0.8516\n",
      "Epoch 15/20\n",
      "1132/1132 [==============================] - 2s 2ms/step - loss: 0.3422 - accuracy: 0.8490 - val_loss: 0.3353 - val_accuracy: 0.8520\n",
      "Epoch 16/20\n",
      "1132/1132 [==============================] - 2s 2ms/step - loss: 0.3415 - accuracy: 0.8492 - val_loss: 0.3350 - val_accuracy: 0.8521\n",
      "Epoch 17/20\n",
      "1132/1132 [==============================] - 2s 2ms/step - loss: 0.3395 - accuracy: 0.8506 - val_loss: 0.3382 - val_accuracy: 0.8465\n",
      "Epoch 18/20\n",
      "1132/1132 [==============================] - 2s 2ms/step - loss: 0.3397 - accuracy: 0.8494 - val_loss: 0.3327 - val_accuracy: 0.8526\n",
      "Epoch 19/20\n",
      "1132/1132 [==============================] - 2s 2ms/step - loss: 0.3380 - accuracy: 0.8501 - val_loss: 0.3365 - val_accuracy: 0.8481\n",
      "Epoch 20/20\n",
      "1132/1132 [==============================] - 2s 2ms/step - loss: 0.3384 - accuracy: 0.8498 - val_loss: 0.3328 - val_accuracy: 0.8508\n",
      "_________________________________________________________________\n",
      "354/354 [==============================] - 0s 1ms/step - loss: 0.3425 - accuracy: 0.8470\n",
      "Valeur de loss : 0.34253230690956116\n",
      "_________________________________________________________________\n",
      "performances sur train :\n",
      "               precision    recall  f1-score   support\n",
      "\n",
      "           0       0.89      0.92      0.91     35295\n",
      "           1       0.68      0.60      0.64      9956\n",
      "\n",
      "    accuracy                           0.85     45251\n",
      "   macro avg       0.79      0.76      0.77     45251\n",
      "weighted avg       0.84      0.85      0.85     45251\n",
      "\n",
      "________________________________________________________________\n",
      "performances sur test :\n",
      "               precision    recall  f1-score   support\n",
      "\n",
      "           0       0.89      0.92      0.90      8842\n",
      "           1       0.67      0.58      0.62      2471\n",
      "\n",
      "    accuracy                           0.85     11313\n",
      "   macro avg       0.78      0.75      0.76     11313\n",
      "weighted avg       0.84      0.85      0.84     11313\n",
      "\n",
      "Wall time: 38.4 s\n"
     ]
    },
    {
     "data": {
      "image/png": "[encoded data removed]",
      "text/plain": [
       "<Figure size 1080x360 with 2 Axes>"
      ]
     },
     "metadata": {
      "needs_background": "light"
     },
     "output_type": "display_data"
    }
   ],
   "source": [
    "%%time\n",
    "\n",
    "#inputs des hyperparamètres\n",
    "epochs = 20\n",
    "batch_size = 32\n",
    "u1 = 20\n",
    "u2 = 16\n",
    "u3 = 8\n",
    "activation = 'tanh'\n",
    "initializer = 'normal'\n",
    "\n",
    "#construction du modèle\n",
    "inputs = Input(shape = X_train.shape[1], name='Input')\n",
    "\n",
    "dense1 = Dense(units = u1, activation = activation, kernel_initializer = initializer, name = 'couche1')\n",
    "dense2 = Dense(units = u2, activation = activation, kernel_initializer = initializer, name = 'couche2')\n",
    "dense3 = Dense(units = u3, activation = activation, kernel_initializer = initializer, name = 'couche3')\n",
    "dense4 = Dense(units = 2, activation = 'softmax', kernel_initializer = initializer, name = 'couche4')\n",
    "\n",
    "x = dense1(inputs)\n",
    "x = dense2(x)\n",
    "x = dense3(x)\n",
    "outputs = dense4(x)\n",
    "\n",
    "model = Model(inputs = inputs, outputs = outputs)\n",
    "model.summary()\n",
    "\n",
    "#compilation et entrainement du modèle\n",
    "model.compile(loss = 'BinaryCrossentropy', optimizer = 'adam', metrics = ['accuracy'])\n",
    "train_hist = model.fit(X_train, y_train, \n",
    "                       epochs = epochs, \n",
    "                       batch_size = batch_size, \n",
    "                       validation_split = 0.2, \n",
    "                       verbose = True)\n",
    "\n",
    "#visualisation de l'évolution de la fonction coût\n",
    "plt.figure(figsize=(15,5))\n",
    "plt.subplot(121)\n",
    "plt.plot(train_hist.history['loss'], label='loss')\n",
    "plt.plot(train_hist.history['val_loss'], label='val_loss')\n",
    "plt.xlabel('Epoch')\n",
    "plt.ylabel('Loss')\n",
    "plt.legend()\n",
    "plt.grid(True)\n",
    "plt.title(\"Evolution de la fonction coût\");\n",
    "\n",
    "#visualisation de l'évolution de l'accuracy\n",
    "plt.subplot(122)\n",
    "plt.plot(train_hist.history['accuracy'], label='train')\n",
    "plt.plot(train_hist.history['val_accuracy'], label='validation')\n",
    "plt.xlabel('Epoch')\n",
    "plt.ylabel('Accuracy')\n",
    "plt.legend()\n",
    "plt.grid(True)\n",
    "plt.title(\"Evolution de l'accuracy\");\n",
    "print(\"_________________________________________________________________\")\n",
    "\n",
    "#évaluation du modèle\n",
    "print(\"Valeur de loss :\", model.evaluate(X_test, y_test)[0])\n",
    "print(\"_________________________________________________________________\")\n",
    "\n",
    "y_pred_train = model.predict(X_train)\n",
    "y_pred_train_class = np.argmax(y_pred_train, axis=1)\n",
    "\n",
    "y_pred_test = model.predict(X_test)\n",
    "y_pred_test_class = np.argmax(y_pred_test, axis=1)\n",
    "\n",
    "y_test_class = np.argmax(y_test, axis=1)\n",
    "y_train_class = np.argmax(y_train, axis=1)\n",
    "\n",
    "print(\"performances sur train :\\n\", classification_report(y_train_class, y_pred_train_class))\n",
    "print(\"________________________________________________________________\")\n",
    "print(\"performances sur test :\\n\", classification_report(y_test_class, y_pred_test_class))\n"
   ]
  },
  {
   "cell_type": "markdown",
   "metadata": {},
   "source": [
    "Conclusions : \n",
    "\n",
    "Ce premier modèle obtient des performances satisfaisantes avec une accuracy de 85 % et un score F1 dépassant les 60 %.\n",
    "\n",
    "Pour tenter d'améliorer encore ces performances, nous testerons différentes fonctions d'activation et différents initialiseurs. Le choix de l'initialiseur ne doit pas être négliger car il les poids initiaux du modèle peuvent avoir des conséquences dramatiques sur l'évolution du gradient au cours de l'entrainement.\n",
    "https://github.com/christianversloot/machine-learning-articles/blob/main/random-initialization-vanishing-and-exploding-gradients.md\n",
    "\n",
    "Nous testerons deux initialiseurs :\n",
    "- initialiseur Xavier qui s'utilise avec la fonction d'activation tanh\n",
    "- initialiseur HeNormal qui s'utilise avec la fonction d'activation ReLu (la plus utilisée)\n",
    "https://github.com/christianversloot/machine-learning-articles/blob/main/he-xavier-initialization-activation-functions-choose-wisely.md\n",
    "\n",
    "Nous implémenterons aussi les callbacks EarlyStopping et ReduceLROnPlateau.\n",
    "L'entrainement sur un très grand nombre d'époques sans callbacks a été testé et ne donne pas de résultats satisfaisants (non présenté ici)."
   ]
  },
  {
   "cell_type": "markdown",
   "metadata": {},
   "source": [
    "#### Initialiseur Xavier\n",
    "- nombre d'époques = 100 max (early stopping)\n",
    "- batch_size = 32\n",
    "- fonction d'activation = tangente hyperbolique (tanh)\n",
    "- initialiseur = Xavier (GlorotNormal)"
   ]
  },
  {
   "cell_type": "code",
   "execution_count": 16,
   "metadata": {
    "execution": {
     "iopub.execute_input": "2022-04-22T16:16:15.982003Z",
     "iopub.status.busy": "2022-04-22T16:16:15.981375Z",
     "iopub.status.idle": "2022-04-22T16:18:19.918628Z",
     "shell.execute_reply": "2022-04-22T16:18:19.918013Z",
     "shell.execute_reply.started": "2022-04-22T16:16:15.981957Z"
    },
    "scrolled": false
   },
   "outputs": [
    {
     "name": "stdout",
     "output_type": "stream",
     "text": [
      "Model: \"model_5\"\n",
      "_________________________________________________________________\n",
      " Layer (type)                Output Shape              Param #   \n",
      "=================================================================\n",
      " Input (InputLayer)          [(None, 29)]              0         \n",
      "                                                                 \n",
      " couche1 (Dense)             (None, 20)                600       \n",
      "                                                                 \n",
      " couche2 (Dense)             (None, 16)                336       \n",
      "                                                                 \n",
      " couche3 (Dense)             (None, 8)                 136       \n",
      "                                                                 \n",
      " couche4 (Dense)             (None, 2)                 18        \n",
      "                                                                 \n",
      "=================================================================\n",
      "Total params: 1,090\n",
      "Trainable params: 1,090\n",
      "Non-trainable params: 0\n",
      "_________________________________________________________________\n",
      "Epoch 1/100\n",
      "1132/1132 [==============================] - 3s 2ms/step - loss: 0.3886 - accuracy: 0.8295 - val_loss: 0.3567 - val_accuracy: 0.8437 - lr: 0.0010\n",
      "Epoch 2/100\n",
      "1132/1132 [==============================] - 2s 2ms/step - loss: 0.3525 - accuracy: 0.8425 - val_loss: 0.3404 - val_accuracy: 0.8506 - lr: 0.0010\n",
      "Epoch 3/100\n",
      "1132/1132 [==============================] - 2s 2ms/step - loss: 0.3460 - accuracy: 0.8454 - val_loss: 0.3397 - val_accuracy: 0.8533 - lr: 0.0010\n",
      "Epoch 4/100\n",
      "1132/1132 [==============================] - 2s 2ms/step - loss: 0.3415 - accuracy: 0.8480 - val_loss: 0.3343 - val_accuracy: 0.8523 - lr: 0.0010\n",
      "Epoch 5/100\n",
      "1132/1132 [==============================] - 2s 2ms/step - loss: 0.3388 - accuracy: 0.8489 - val_loss: 0.3329 - val_accuracy: 0.8535 - lr: 0.0010\n",
      "Epoch 6/100\n",
      "1132/1132 [==============================] - 2s 2ms/step - loss: 0.3369 - accuracy: 0.8502 - val_loss: 0.3285 - val_accuracy: 0.8542 - lr: 0.0010\n",
      "Epoch 7/100\n",
      "1132/1132 [==============================] - 2s 2ms/step - loss: 0.3353 - accuracy: 0.8517 - val_loss: 0.3281 - val_accuracy: 0.8554 - lr: 0.0010\n",
      "Epoch 8/100\n",
      "1132/1132 [==============================] - 2s 2ms/step - loss: 0.3340 - accuracy: 0.8522 - val_loss: 0.3322 - val_accuracy: 0.8503 - lr: 0.0010\n",
      "Epoch 9/100\n",
      "1132/1132 [==============================] - 2s 2ms/step - loss: 0.3326 - accuracy: 0.8518 - val_loss: 0.3228 - val_accuracy: 0.8575 - lr: 0.0010\n",
      "Epoch 10/100\n",
      "1105/1132 [============================>.] - ETA: 0s - loss: 0.3320 - accuracy: 0.8534\n",
      "Epoch 10: ReduceLROnPlateau reducing learning rate to 0.00010000000474974513.\n",
      "1132/1132 [==============================] - 2s 2ms/step - loss: 0.3319 - accuracy: 0.8536 - val_loss: 0.3307 - val_accuracy: 0.8558 - lr: 0.0010\n",
      "Epoch 11/100\n",
      "1132/1132 [==============================] - 2s 2ms/step - loss: 0.3267 - accuracy: 0.8550 - val_loss: 0.3203 - val_accuracy: 0.8595 - lr: 1.0000e-04\n",
      "Epoch 12/100\n",
      "1132/1132 [==============================] - 2s 2ms/step - loss: 0.3258 - accuracy: 0.8560 - val_loss: 0.3212 - val_accuracy: 0.8590 - lr: 1.0000e-04\n",
      "Epoch 13/100\n",
      "1132/1132 [==============================] - 2s 2ms/step - loss: 0.3255 - accuracy: 0.8557 - val_loss: 0.3203 - val_accuracy: 0.8597 - lr: 1.0000e-04\n",
      "Epoch 14/100\n",
      "1132/1132 [==============================] - 2s 2ms/step - loss: 0.3253 - accuracy: 0.8553 - val_loss: 0.3200 - val_accuracy: 0.8595 - lr: 1.0000e-04\n",
      "Epoch 15/100\n",
      "1132/1132 [==============================] - 2s 2ms/step - loss: 0.3253 - accuracy: 0.8553 - val_loss: 0.3197 - val_accuracy: 0.8608 - lr: 1.0000e-04\n",
      "Epoch 16/100\n",
      "1104/1132 [============================>.] - ETA: 0s - loss: 0.3255 - accuracy: 0.8550\n",
      "Epoch 16: ReduceLROnPlateau reducing learning rate to 1.0000000474974514e-05.\n",
      "1132/1132 [==============================] - 2s 2ms/step - loss: 0.3251 - accuracy: 0.8554 - val_loss: 0.3200 - val_accuracy: 0.8606 - lr: 1.0000e-04\n",
      "Epoch 17/100\n",
      "1132/1132 [==============================] - 2s 2ms/step - loss: 0.3246 - accuracy: 0.8565 - val_loss: 0.3194 - val_accuracy: 0.8595 - lr: 1.0000e-05\n",
      "Epoch 18/100\n",
      "1132/1132 [==============================] - 2s 2ms/step - loss: 0.3245 - accuracy: 0.8565 - val_loss: 0.3194 - val_accuracy: 0.8591 - lr: 1.0000e-05\n",
      "Epoch 19/100\n",
      "1132/1132 [==============================] - 2s 2ms/step - loss: 0.3244 - accuracy: 0.8563 - val_loss: 0.3194 - val_accuracy: 0.8595 - lr: 1.0000e-05\n",
      "Epoch 20/100\n",
      "1132/1132 [==============================] - 2s 2ms/step - loss: 0.3244 - accuracy: 0.8563 - val_loss: 0.3193 - val_accuracy: 0.8602 - lr: 1.0000e-05\n",
      "Epoch 21/100\n",
      "1132/1132 [==============================] - 2s 2ms/step - loss: 0.3244 - accuracy: 0.8562 - val_loss: 0.3193 - val_accuracy: 0.8601 - lr: 1.0000e-05\n",
      "Epoch 21: early stopping\n",
      "_________________________________________________________________\n",
      "354/354 [==============================] - 0s 1ms/step - loss: 0.3335 - accuracy: 0.8564\n",
      "Valeur de loss : 0.33353808522224426\n",
      "_________________________________________________________________\n",
      "performances sur train :\n",
      "               precision    recall  f1-score   support\n",
      "\n",
      "           0       0.88      0.94      0.91     35295\n",
      "           1       0.73      0.56      0.63      9956\n",
      "\n",
      "    accuracy                           0.86     45251\n",
      "   macro avg       0.81      0.75      0.77     45251\n",
      "weighted avg       0.85      0.86      0.85     45251\n",
      "\n",
      "________________________________________________________________\n",
      "performances sur test :\n",
      "               precision    recall  f1-score   support\n",
      "\n",
      "           0       0.88      0.94      0.91      8842\n",
      "           1       0.72      0.55      0.63      2471\n",
      "\n",
      "    accuracy                           0.86     11313\n",
      "   macro avg       0.80      0.75      0.77     11313\n",
      "weighted avg       0.85      0.86      0.85     11313\n",
      "\n",
      "Wall time: 42.8 s\n"
     ]
    },
    {
     "data": {
      "image/png": "[encoded data removed]",
      "text/plain": [
       "<Figure size 1080x360 with 2 Axes>"
      ]
     },
     "metadata": {
      "needs_background": "light"
     },
     "output_type": "display_data"
    }
   ],
   "source": [
    "%%time\n",
    "\n",
    "#création des callbacks\n",
    "early_stopping = EarlyStopping(monitor = 'val_loss',\n",
    "                               min_delta = 0.005,\n",
    "                               patience = 12,\n",
    "                               mode = 'min',\n",
    "                               verbose = 1)\n",
    "\n",
    "reduce_learning_rate = ReduceLROnPlateau(monitor = 'val_loss',\n",
    "                                         factor = 0.1,\n",
    "                                         patience = 4,\n",
    "                                         min_delta = 0.01,\n",
    "                                         cooldown = 3,\n",
    "                                         verbose = 1)\n",
    "\n",
    "#inputs des hyperparamètres\n",
    "epochs = 100\n",
    "batch_size = 32\n",
    "u1 = 20\n",
    "u2 = 16\n",
    "u3 = 8\n",
    "activation = 'tanh'\n",
    "initializer = tf.keras.initializers.GlorotNormal()\n",
    "\n",
    "#construction du modèle\n",
    "inputs = Input(shape = X_train.shape[1], name='Input')\n",
    "\n",
    "dense1 = Dense(units = u1, activation = activation, kernel_initializer = initializer, name = 'couche1')\n",
    "dense2 = Dense(units = u2, activation = activation, kernel_initializer = initializer, name = 'couche2')\n",
    "dense3 = Dense(units = u3, activation = activation, kernel_initializer = initializer, name = 'couche3')\n",
    "dense4 = Dense(units = 2, activation = 'softmax', kernel_initializer = initializer, name = 'couche4')\n",
    "\n",
    "x = dense1(inputs)\n",
    "x = dense2(x)\n",
    "x = dense3(x)\n",
    "outputs = dense4(x)\n",
    "\n",
    "model = Model(inputs = inputs, outputs = outputs)\n",
    "model.summary()\n",
    "\n",
    "#compilation et entrainement du modèle\n",
    "model.compile(loss = 'BinaryCrossentropy', \n",
    "              optimizer = 'adam', \n",
    "              metrics = ['accuracy'])\n",
    "\n",
    "train_hist = model.fit(X_train, y_train, \n",
    "                       epochs = epochs, \n",
    "                       batch_size = batch_size, \n",
    "                       validation_split = 0.2,\n",
    "                       callbacks = [reduce_learning_rate, early_stopping],\n",
    "                       verbose = True)\n",
    "\n",
    "#visualisation de l'évolution de la fonction coût\n",
    "plt.figure(figsize=(15,5))\n",
    "plt.subplot(121)\n",
    "plt.plot(train_hist.history['loss'], label='loss')\n",
    "plt.plot(train_hist.history['val_loss'], label='val_loss')\n",
    "plt.xlabel('Epoch')\n",
    "plt.ylabel('Loss')\n",
    "plt.legend()\n",
    "plt.grid(True)\n",
    "plt.title(\"Evolution de la fonction coût\");\n",
    "\n",
    "#visualisation de l'évolution de l'accuracy\n",
    "plt.subplot(122)\n",
    "plt.plot(train_hist.history['accuracy'], label='train')\n",
    "plt.plot(train_hist.history['val_accuracy'], label='validation')\n",
    "plt.xlabel('Epoch')\n",
    "plt.ylabel('Accuracy')\n",
    "plt.legend()\n",
    "plt.grid(True)\n",
    "plt.title(\"Evolution de l'accuracy\");\n",
    "print(\"_________________________________________________________________\")\n",
    "\n",
    "#évaluation du modèle\n",
    "print(\"Valeur de loss :\", model.evaluate(X_test, y_test)[0])\n",
    "print(\"_________________________________________________________________\")\n",
    "\n",
    "y_pred_train = model.predict(X_train)\n",
    "y_pred_train_class = np.argmax(y_pred_train, axis=1)\n",
    "\n",
    "y_pred_test = model.predict(X_test)\n",
    "y_pred_test_class = np.argmax(y_pred_test, axis=1)\n",
    "\n",
    "y_test_class = np.argmax(y_test, axis=1)\n",
    "y_train_class = np.argmax(y_train, axis=1)\n",
    "\n",
    "print(\"performances sur train :\\n\", classification_report(y_train_class, y_pred_train_class))\n",
    "print(\"________________________________________________________________\")\n",
    "print(\"performances sur test :\\n\", classification_report(y_test_class, y_pred_test_class))\n"
   ]
  },
  {
   "cell_type": "markdown",
   "metadata": {},
   "source": [
    "Conclusion :\n",
    "\n",
    "Les performances sont très proches du modèles de référence, tantôt légèrement meilleures, tantôt légèrement moins bonnes, selon les entrainements. L'évolution des courbes apparait toutefois plus régulière avec une bonne stabilisation des métriques après 10 époques."
   ]
  },
  {
   "cell_type": "markdown",
   "metadata": {},
   "source": [
    "#### Initialiseur HeNormal\n",
    "- nombre d'époques = 100 max (early stopping)\n",
    "- batch_size = 32\n",
    "- fonction d'activation = ReLu\n",
    "- initialiseur = HeNormal"
   ]
  },
  {
   "cell_type": "code",
   "execution_count": 18,
   "metadata": {
    "execution": {
     "iopub.execute_input": "2022-04-22T16:20:25.961525Z",
     "iopub.status.busy": "2022-04-22T16:20:25.960843Z",
     "iopub.status.idle": "2022-04-22T16:22:35.494652Z",
     "shell.execute_reply": "2022-04-22T16:22:35.494019Z",
     "shell.execute_reply.started": "2022-04-22T16:20:25.961480Z"
    },
    "scrolled": false
   },
   "outputs": [
    {
     "name": "stdout",
     "output_type": "stream",
     "text": [
      "Model: \"model_7\"\n",
      "_________________________________________________________________\n",
      " Layer (type)                Output Shape              Param #   \n",
      "=================================================================\n",
      " Input (InputLayer)          [(None, 29)]              0         \n",
      "                                                                 \n",
      " couche1 (Dense)             (None, 20)                600       \n",
      "                                                                 \n",
      " couche2 (Dense)             (None, 16)                336       \n",
      "                                                                 \n",
      " couche3 (Dense)             (None, 8)                 136       \n",
      "                                                                 \n",
      " couche4 (Dense)             (None, 2)                 18        \n",
      "                                                                 \n",
      "=================================================================\n",
      "Total params: 1,090\n",
      "Trainable params: 1,090\n",
      "Non-trainable params: 0\n",
      "_________________________________________________________________\n",
      "Epoch 1/100\n",
      "1132/1132 [==============================] - 3s 2ms/step - loss: 0.4061 - accuracy: 0.8204 - val_loss: 0.3458 - val_accuracy: 0.8459 - lr: 0.0010\n",
      "Epoch 2/100\n",
      "1132/1132 [==============================] - 2s 2ms/step - loss: 0.3497 - accuracy: 0.8428 - val_loss: 0.3380 - val_accuracy: 0.8512 - lr: 0.0010\n",
      "Epoch 3/100\n",
      "1132/1132 [==============================] - 2s 2ms/step - loss: 0.3440 - accuracy: 0.8472 - val_loss: 0.3383 - val_accuracy: 0.8517 - lr: 0.0010\n",
      "Epoch 4/100\n",
      "1132/1132 [==============================] - 2s 2ms/step - loss: 0.3405 - accuracy: 0.8479 - val_loss: 0.3308 - val_accuracy: 0.8531 - lr: 0.0010\n",
      "Epoch 5/100\n",
      "1132/1132 [==============================] - 2s 2ms/step - loss: 0.3385 - accuracy: 0.8491 - val_loss: 0.3395 - val_accuracy: 0.8462 - lr: 0.0010\n",
      "Epoch 6/100\n",
      "1132/1132 [==============================] - 2s 2ms/step - loss: 0.3364 - accuracy: 0.8500 - val_loss: 0.3292 - val_accuracy: 0.8538 - lr: 0.0010\n",
      "Epoch 7/100\n",
      "1132/1132 [==============================] - 2s 2ms/step - loss: 0.3348 - accuracy: 0.8519 - val_loss: 0.3293 - val_accuracy: 0.8569 - lr: 0.0010\n",
      "Epoch 8/100\n",
      "1131/1132 [============================>.] - ETA: 0s - loss: 0.3337 - accuracy: 0.8529\n",
      "Epoch 8: ReduceLROnPlateau reducing learning rate to 0.00010000000474974513.\n",
      "1132/1132 [==============================] - 2s 2ms/step - loss: 0.3338 - accuracy: 0.8528 - val_loss: 0.3277 - val_accuracy: 0.8552 - lr: 0.0010\n",
      "Epoch 9/100\n",
      "1132/1132 [==============================] - 2s 2ms/step - loss: 0.3290 - accuracy: 0.8544 - val_loss: 0.3261 - val_accuracy: 0.8558 - lr: 1.0000e-04\n",
      "Epoch 10/100\n",
      "1132/1132 [==============================] - 2s 2ms/step - loss: 0.3287 - accuracy: 0.8544 - val_loss: 0.3260 - val_accuracy: 0.8564 - lr: 1.0000e-04\n",
      "Epoch 11/100\n",
      "1132/1132 [==============================] - 2s 2ms/step - loss: 0.3284 - accuracy: 0.8543 - val_loss: 0.3259 - val_accuracy: 0.8564 - lr: 1.0000e-04\n",
      "Epoch 12/100\n",
      "1132/1132 [==============================] - 2s 2ms/step - loss: 0.3283 - accuracy: 0.8552 - val_loss: 0.3260 - val_accuracy: 0.8566 - lr: 1.0000e-04\n",
      "Epoch 13/100\n",
      "1132/1132 [==============================] - 2s 2ms/step - loss: 0.3282 - accuracy: 0.8547 - val_loss: 0.3257 - val_accuracy: 0.8550 - lr: 1.0000e-04\n",
      "Epoch 14/100\n",
      "1097/1132 [============================>.] - ETA: 0s - loss: 0.3280 - accuracy: 0.8552\n",
      "Epoch 14: ReduceLROnPlateau reducing learning rate to 1.0000000474974514e-05.\n",
      "1132/1132 [==============================] - 2s 2ms/step - loss: 0.3279 - accuracy: 0.8550 - val_loss: 0.3270 - val_accuracy: 0.8579 - lr: 1.0000e-04\n",
      "Epoch 15/100\n",
      "1132/1132 [==============================] - 2s 2ms/step - loss: 0.3275 - accuracy: 0.8555 - val_loss: 0.3255 - val_accuracy: 0.8559 - lr: 1.0000e-05\n",
      "Epoch 16/100\n",
      "1132/1132 [==============================] - 2s 2ms/step - loss: 0.3273 - accuracy: 0.8560 - val_loss: 0.3255 - val_accuracy: 0.8563 - lr: 1.0000e-05\n",
      "Epoch 17/100\n",
      "1132/1132 [==============================] - 2s 2ms/step - loss: 0.3273 - accuracy: 0.8560 - val_loss: 0.3255 - val_accuracy: 0.8559 - lr: 1.0000e-05\n",
      "Epoch 18/100\n",
      "1132/1132 [==============================] - 2s 2ms/step - loss: 0.3273 - accuracy: 0.8559 - val_loss: 0.3255 - val_accuracy: 0.8564 - lr: 1.0000e-05\n",
      "Epoch 19/100\n",
      "1132/1132 [==============================] - 2s 2ms/step - loss: 0.3273 - accuracy: 0.8560 - val_loss: 0.3255 - val_accuracy: 0.8566 - lr: 1.0000e-05\n",
      "Epoch 20/100\n",
      "1132/1132 [==============================] - ETA: 0s - loss: 0.3272 - accuracy: 0.8560\n",
      "Epoch 20: ReduceLROnPlateau reducing learning rate to 1.0000000656873453e-06.\n",
      "1132/1132 [==============================] - 2s 2ms/step - loss: 0.3272 - accuracy: 0.8560 - val_loss: 0.3254 - val_accuracy: 0.8560 - lr: 1.0000e-05\n",
      "Epoch 21/100\n",
      "1132/1132 [==============================] - 2s 2ms/step - loss: 0.3272 - accuracy: 0.8559 - val_loss: 0.3254 - val_accuracy: 0.8563 - lr: 1.0000e-06\n",
      "Epoch 22/100\n",
      "1132/1132 [==============================] - 2s 2ms/step - loss: 0.3272 - accuracy: 0.8560 - val_loss: 0.3254 - val_accuracy: 0.8564 - lr: 1.0000e-06\n",
      "Epoch 23/100\n",
      "1132/1132 [==============================] - 2s 2ms/step - loss: 0.3272 - accuracy: 0.8560 - val_loss: 0.3254 - val_accuracy: 0.8564 - lr: 1.0000e-06\n",
      "Epoch 24/100\n",
      "1132/1132 [==============================] - 2s 2ms/step - loss: 0.3272 - accuracy: 0.8558 - val_loss: 0.3254 - val_accuracy: 0.8565 - lr: 1.0000e-06\n",
      "Epoch 25/100\n",
      "1132/1132 [==============================] - 2s 2ms/step - loss: 0.3272 - accuracy: 0.8560 - val_loss: 0.3254 - val_accuracy: 0.8564 - lr: 1.0000e-06\n",
      "Epoch 25: early stopping\n",
      "_________________________________________________________________\n",
      "354/354 [==============================] - 0s 1ms/step - loss: 0.3385 - accuracy: 0.8515\n",
      "Valeur de loss : 0.33847859501838684\n",
      "_________________________________________________________________\n",
      "performances sur train :\n",
      "               precision    recall  f1-score   support\n",
      "\n",
      "           0       0.88      0.94      0.91     35295\n",
      "           1       0.73      0.55      0.63      9956\n",
      "\n",
      "    accuracy                           0.86     45251\n",
      "   macro avg       0.80      0.75      0.77     45251\n",
      "weighted avg       0.85      0.86      0.85     45251\n",
      "\n",
      "________________________________________________________________\n",
      "performances sur test :\n",
      "               precision    recall  f1-score   support\n",
      "\n",
      "           0       0.88      0.94      0.91      8842\n",
      "           1       0.72      0.53      0.61      2471\n",
      "\n",
      "    accuracy                           0.85     11313\n",
      "   macro avg       0.80      0.74      0.76     11313\n",
      "weighted avg       0.84      0.85      0.84     11313\n",
      "\n",
      "Wall time: 50.1 s\n"
     ]
    },
    {
     "data": {
      "image/png": "[encoded data removed]",
      "text/plain": [
       "<Figure size 1080x360 with 2 Axes>"
      ]
     },
     "metadata": {
      "needs_background": "light"
     },
     "output_type": "display_data"
    }
   ],
   "source": [
    "%%time\n",
    "\n",
    "#création des callbacks\n",
    "early_stopping = EarlyStopping(monitor = 'val_loss',\n",
    "                               min_delta = 0.005,\n",
    "                               patience = 12,\n",
    "                               mode = 'min',\n",
    "                               verbose = 1)\n",
    "\n",
    "reduce_learning_rate = ReduceLROnPlateau(monitor = 'val_loss',\n",
    "                                         factor = 0.1,\n",
    "                                         patience = 4,\n",
    "                                         min_delta = 0.01,\n",
    "                                         cooldown = 3,\n",
    "                                         verbose = 1)\n",
    "\n",
    "#inputs des hyperparamètres\n",
    "epochs = 100\n",
    "batch_size = 32\n",
    "u1 = 20\n",
    "u2 = 16\n",
    "u3 = 8\n",
    "activation = 'relu'\n",
    "initializer = tf.keras.initializers.HeNormal()\n",
    "\n",
    "#construction du modèle\n",
    "inputs = Input(shape = X_train.shape[1], name='Input')\n",
    "\n",
    "dense1 = Dense(units = u1, activation = activation, kernel_initializer = initializer, name = 'couche1')\n",
    "dense2 = Dense(units = u2, activation = activation, kernel_initializer = initializer, name = 'couche2')\n",
    "dense3 = Dense(units = u3, activation = activation, kernel_initializer = initializer, name = 'couche3')\n",
    "dense4 = Dense(units = 2, activation = 'softmax', kernel_initializer = initializer, name = 'couche4')\n",
    "\n",
    "x = dense1(inputs)\n",
    "x = dense2(x)\n",
    "x = dense3(x)\n",
    "outputs = dense4(x)\n",
    "\n",
    "model = Model(inputs = inputs, outputs = outputs)\n",
    "model.summary()\n",
    "\n",
    "#compilation et entrainement du modèle\n",
    "model.compile(loss = 'BinaryCrossentropy', \n",
    "              optimizer = 'adam', \n",
    "              metrics = ['accuracy'])\n",
    "\n",
    "train_hist = model.fit(X_train, y_train, \n",
    "                       epochs = epochs, \n",
    "                       batch_size = batch_size, \n",
    "                       validation_split = 0.2,\n",
    "                       callbacks = [reduce_learning_rate, early_stopping],\n",
    "                       verbose = True)\n",
    "\n",
    "#visualisation de l'évolution de la fonction coût\n",
    "plt.figure(figsize=(15,5))\n",
    "plt.subplot(121)\n",
    "plt.plot(train_hist.history['loss'], label='loss')\n",
    "plt.plot(train_hist.history['val_loss'], label='val_loss')\n",
    "plt.xlabel('Epoch')\n",
    "plt.ylabel('Loss')\n",
    "plt.legend()\n",
    "plt.grid(True)\n",
    "plt.title(\"Evolution de la fonction coût\");\n",
    "\n",
    "#visualisation de l'évolution de l'accuracy\n",
    "plt.subplot(122)\n",
    "plt.plot(train_hist.history['accuracy'], label='train')\n",
    "plt.plot(train_hist.history['val_accuracy'], label='validation')\n",
    "plt.xlabel('Epoch')\n",
    "plt.ylabel('Accuracy')\n",
    "plt.legend()\n",
    "plt.grid(True)\n",
    "plt.title(\"Evolution de l'accuracy\");\n",
    "print(\"_________________________________________________________________\")\n",
    "\n",
    "#évaluation du modèle\n",
    "print(\"Valeur de loss :\", model.evaluate(X_test, y_test)[0])\n",
    "print(\"_________________________________________________________________\")\n",
    "\n",
    "y_pred_train = model.predict(X_train)\n",
    "y_pred_train_class = np.argmax(y_pred_train, axis=1)\n",
    "\n",
    "y_pred_test = model.predict(X_test)\n",
    "y_pred_test_class = np.argmax(y_pred_test, axis=1)\n",
    "\n",
    "y_test_class = np.argmax(y_test, axis=1)\n",
    "y_train_class = np.argmax(y_train, axis=1)\n",
    "\n",
    "print(\"performances sur train :\\n\", classification_report(y_train_class, y_pred_train_class))\n",
    "print(\"________________________________________________________________\")\n",
    "print(\"performances sur test :\\n\", classification_report(y_test_class, y_pred_test_class))\n"
   ]
  },
  {
   "cell_type": "markdown",
   "metadata": {},
   "source": [
    "Conclusion : \n",
    "\n",
    "Les performances sont similaires à celles du modèles de référence. Notons toutefois que les valeurs de la fonction coût et de l'accuracy de l'échantillon de validation convergent mieux vers celles de l'entrainement que les modèles précédents. \n",
    "Nous conserverons ces hyperparamètres pour cette raison et parce que ce sont les plus utilisés actuellement (en particulier la fonction d'activation ReLu).\n",
    "\n",
    "L'objectif de la prochaine session est de tester une taille de batch plus petite."
   ]
  },
  {
   "cell_type": "markdown",
   "metadata": {},
   "source": [
    "#### batch de taille 16\n",
    "- nombre d'époques = 100 max (early stopping)\n",
    "- batch_size = 16\n",
    "- fonction d'activation = ReLu\n",
    "- initialiseur = HeNormal"
   ]
  },
  {
   "cell_type": "code",
   "execution_count": 19,
   "metadata": {
    "execution": {
     "iopub.execute_input": "2022-04-22T16:23:28.207609Z",
     "iopub.status.busy": "2022-04-22T16:23:28.207057Z",
     "iopub.status.idle": "2022-04-22T16:27:43.436857Z",
     "shell.execute_reply": "2022-04-22T16:27:43.435920Z",
     "shell.execute_reply.started": "2022-04-22T16:23:28.207572Z"
    },
    "scrolled": false
   },
   "outputs": [
    {
     "name": "stdout",
     "output_type": "stream",
     "text": [
      "Model: \"model_8\"\n",
      "_________________________________________________________________\n",
      " Layer (type)                Output Shape              Param #   \n",
      "=================================================================\n",
      " Input (InputLayer)          [(None, 29)]              0         \n",
      "                                                                 \n",
      " couche1 (Dense)             (None, 20)                600       \n",
      "                                                                 \n",
      " couche2 (Dense)             (None, 16)                336       \n",
      "                                                                 \n",
      " couche3 (Dense)             (None, 8)                 136       \n",
      "                                                                 \n",
      " couche4 (Dense)             (None, 2)                 18        \n",
      "                                                                 \n",
      "=================================================================\n",
      "Total params: 1,090\n",
      "Trainable params: 1,090\n",
      "Non-trainable params: 0\n",
      "_________________________________________________________________\n",
      "Epoch 1/100\n",
      "2263/2263 [==============================] - 4s 2ms/step - loss: 0.3883 - accuracy: 0.8241 - val_loss: 0.3474 - val_accuracy: 0.8457 - lr: 0.0010\n",
      "Epoch 2/100\n",
      "2263/2263 [==============================] - 4s 2ms/step - loss: 0.3485 - accuracy: 0.8445 - val_loss: 0.3391 - val_accuracy: 0.8494 - lr: 0.0010\n",
      "Epoch 3/100\n",
      "2263/2263 [==============================] - 4s 2ms/step - loss: 0.3425 - accuracy: 0.8486 - val_loss: 0.3344 - val_accuracy: 0.8522 - lr: 0.0010\n",
      "Epoch 4/100\n",
      "2263/2263 [==============================] - 4s 2ms/step - loss: 0.3401 - accuracy: 0.8484 - val_loss: 0.3376 - val_accuracy: 0.8462 - lr: 0.0010\n",
      "Epoch 5/100\n",
      "2263/2263 [==============================] - 3s 1ms/step - loss: 0.3373 - accuracy: 0.8497 - val_loss: 0.3309 - val_accuracy: 0.8556 - lr: 0.0010\n",
      "Epoch 6/100\n",
      "2263/2263 [==============================] - 4s 2ms/step - loss: 0.3357 - accuracy: 0.8505 - val_loss: 0.3305 - val_accuracy: 0.8556 - lr: 0.0010\n",
      "Epoch 7/100\n",
      "2240/2263 [============================>.] - ETA: 0s - loss: 0.3341 - accuracy: 0.8526\n",
      "Epoch 7: ReduceLROnPlateau reducing learning rate to 0.00010000000474974513.\n",
      "2263/2263 [==============================] - 4s 2ms/step - loss: 0.3340 - accuracy: 0.8524 - val_loss: 0.3300 - val_accuracy: 0.8545 - lr: 0.0010\n",
      "Epoch 8/100\n",
      "2263/2263 [==============================] - 4s 2ms/step - loss: 0.3286 - accuracy: 0.8543 - val_loss: 0.3260 - val_accuracy: 0.8574 - lr: 1.0000e-04\n",
      "Epoch 9/100\n",
      "2263/2263 [==============================] - 4s 2ms/step - loss: 0.3275 - accuracy: 0.8554 - val_loss: 0.3256 - val_accuracy: 0.8577 - lr: 1.0000e-04\n",
      "Epoch 10/100\n",
      "2263/2263 [==============================] - 4s 2ms/step - loss: 0.3272 - accuracy: 0.8555 - val_loss: 0.3251 - val_accuracy: 0.8575 - lr: 1.0000e-04\n",
      "Epoch 11/100\n",
      "2263/2263 [==============================] - 4s 2ms/step - loss: 0.3269 - accuracy: 0.8558 - val_loss: 0.3252 - val_accuracy: 0.8602 - lr: 1.0000e-04\n",
      "Epoch 12/100\n",
      "2263/2263 [==============================] - 4s 2ms/step - loss: 0.3267 - accuracy: 0.8558 - val_loss: 0.3250 - val_accuracy: 0.8575 - lr: 1.0000e-04\n",
      "Epoch 13/100\n",
      "2228/2263 [============================>.] - ETA: 0s - loss: 0.3266 - accuracy: 0.8562\n",
      "Epoch 13: ReduceLROnPlateau reducing learning rate to 1.0000000474974514e-05.\n",
      "2263/2263 [==============================] - 4s 2ms/step - loss: 0.3265 - accuracy: 0.8563 - val_loss: 0.3247 - val_accuracy: 0.8586 - lr: 1.0000e-04\n",
      "Epoch 14/100\n",
      "2263/2263 [==============================] - 3s 2ms/step - loss: 0.3258 - accuracy: 0.8568 - val_loss: 0.3245 - val_accuracy: 0.8584 - lr: 1.0000e-05\n",
      "Epoch 15/100\n",
      "2263/2263 [==============================] - 4s 2ms/step - loss: 0.3257 - accuracy: 0.8566 - val_loss: 0.3244 - val_accuracy: 0.8586 - lr: 1.0000e-05\n",
      "Epoch 16/100\n",
      "2263/2263 [==============================] - 4s 2ms/step - loss: 0.3256 - accuracy: 0.8567 - val_loss: 0.3244 - val_accuracy: 0.8592 - lr: 1.0000e-05\n",
      "Epoch 17/100\n",
      "2263/2263 [==============================] - 4s 2ms/step - loss: 0.3256 - accuracy: 0.8569 - val_loss: 0.3244 - val_accuracy: 0.8582 - lr: 1.0000e-05\n",
      "Epoch 18/100\n",
      "2263/2263 [==============================] - 4s 2ms/step - loss: 0.3256 - accuracy: 0.8565 - val_loss: 0.3244 - val_accuracy: 0.8584 - lr: 1.0000e-05\n",
      "Epoch 19/100\n",
      "2243/2263 [============================>.] - ETA: 0s - loss: 0.3251 - accuracy: 0.8567\n",
      "Epoch 19: ReduceLROnPlateau reducing learning rate to 1.0000000656873453e-06.\n",
      "2263/2263 [==============================] - 4s 2ms/step - loss: 0.3256 - accuracy: 0.8565 - val_loss: 0.3244 - val_accuracy: 0.8581 - lr: 1.0000e-05\n",
      "Epoch 20/100\n",
      "2263/2263 [==============================] - 4s 2ms/step - loss: 0.3255 - accuracy: 0.8569 - val_loss: 0.3244 - val_accuracy: 0.8582 - lr: 1.0000e-06\n",
      "Epoch 21/100\n",
      "2263/2263 [==============================] - 4s 2ms/step - loss: 0.3255 - accuracy: 0.8571 - val_loss: 0.3244 - val_accuracy: 0.8579 - lr: 1.0000e-06\n",
      "Epoch 21: early stopping\n",
      "_________________________________________________________________\n",
      "354/354 [==============================] - 0s 1ms/step - loss: 0.3360 - accuracy: 0.8527\n",
      "Valeur de loss : 0.3360138237476349\n",
      "_________________________________________________________________\n",
      "performances sur train :\n",
      "               precision    recall  f1-score   support\n",
      "\n",
      "           0       0.88      0.94      0.91     35295\n",
      "           1       0.73      0.56      0.63      9956\n",
      "\n",
      "    accuracy                           0.86     45251\n",
      "   macro avg       0.81      0.75      0.77     45251\n",
      "weighted avg       0.85      0.86      0.85     45251\n",
      "\n",
      "________________________________________________________________\n",
      "performances sur test :\n",
      "               precision    recall  f1-score   support\n",
      "\n",
      "           0       0.88      0.94      0.91      8842\n",
      "           1       0.72      0.54      0.61      2471\n",
      "\n",
      "    accuracy                           0.85     11313\n",
      "   macro avg       0.80      0.74      0.76     11313\n",
      "weighted avg       0.84      0.85      0.84     11313\n",
      "\n",
      "Wall time: 1min 18s\n"
     ]
    },
    {
     "data": {
      "image/png": "[encoded data removed]",
      "text/plain": [
       "<Figure size 1080x360 with 2 Axes>"
      ]
     },
     "metadata": {
      "needs_background": "light"
     },
     "output_type": "display_data"
    }
   ],
   "source": [
    "%%time\n",
    "\n",
    "#création des callbacks\n",
    "early_stopping = EarlyStopping(monitor = 'val_loss',\n",
    "                               min_delta = 0.005,\n",
    "                               patience = 12,\n",
    "                               mode = 'min',\n",
    "                               verbose = 1)\n",
    "\n",
    "reduce_learning_rate = ReduceLROnPlateau(monitor = 'val_loss',\n",
    "                                         factor = 0.1,\n",
    "                                         patience = 4,\n",
    "                                         min_delta = 0.01,\n",
    "                                         cooldown = 3,\n",
    "                                         verbose = 1)\n",
    "\n",
    "#inputs des hyperparamètres\n",
    "epochs = 100\n",
    "batch_size = 16\n",
    "u1 = 20\n",
    "u2 = 16\n",
    "u3 = 8\n",
    "activation = 'relu'\n",
    "initializer = tf.keras.initializers.HeNormal()\n",
    "\n",
    "#construction du modèle\n",
    "inputs = Input(shape = X_train.shape[1], name='Input')\n",
    "\n",
    "dense1 = Dense(units = u1, activation = activation, kernel_initializer = initializer, name = 'couche1')\n",
    "dense2 = Dense(units = u2, activation = activation, kernel_initializer = initializer, name = 'couche2')\n",
    "dense3 = Dense(units = u3, activation = activation, kernel_initializer = initializer, name = 'couche3')\n",
    "dense4 = Dense(units = 2, activation = 'softmax', kernel_initializer = initializer, name = 'couche4')\n",
    "\n",
    "x = dense1(inputs)\n",
    "x = dense2(x)\n",
    "x = dense3(x)\n",
    "outputs = dense4(x)\n",
    "\n",
    "model = Model(inputs = inputs, outputs = outputs)\n",
    "model.summary()\n",
    "\n",
    "#compilation et entrainement du modèle\n",
    "model.compile(loss = 'BinaryCrossentropy', \n",
    "              optimizer = 'adam', \n",
    "              metrics = ['accuracy'])\n",
    "\n",
    "train_hist = model.fit(X_train, y_train, \n",
    "                       epochs = epochs, \n",
    "                       batch_size = batch_size, \n",
    "                       validation_split = 0.2,\n",
    "                       callbacks = [reduce_learning_rate, early_stopping],\n",
    "                       verbose = True)\n",
    "\n",
    "#visualisation de l'évolution de la fonction coût\n",
    "plt.figure(figsize=(15,5))\n",
    "plt.subplot(121)\n",
    "plt.plot(train_hist.history['loss'], label='loss')\n",
    "plt.plot(train_hist.history['val_loss'], label='val_loss')\n",
    "plt.xlabel('Epoch')\n",
    "plt.ylabel('Loss')\n",
    "plt.legend()\n",
    "plt.grid(True)\n",
    "plt.title(\"Evolution de la fonction coût\");\n",
    "\n",
    "#visualisation de l'évolution de l'accuracy\n",
    "plt.subplot(122)\n",
    "plt.plot(train_hist.history['accuracy'], label='train')\n",
    "plt.plot(train_hist.history['val_accuracy'], label='validation')\n",
    "plt.xlabel('Epoch')\n",
    "plt.ylabel('Accuracy')\n",
    "plt.legend()\n",
    "plt.grid(True)\n",
    "plt.title(\"Evolution de l'accuracy\");\n",
    "print(\"_________________________________________________________________\")\n",
    "\n",
    "#évaluation du modèle\n",
    "print(\"Valeur de loss :\", model.evaluate(X_test, y_test)[0])\n",
    "print(\"_________________________________________________________________\")\n",
    "\n",
    "y_pred_train = model.predict(X_train)\n",
    "y_pred_train_class = np.argmax(y_pred_train, axis=1)\n",
    "\n",
    "y_pred_test = model.predict(X_test)\n",
    "y_pred_test_class = np.argmax(y_pred_test, axis=1)\n",
    "\n",
    "y_test_class = np.argmax(y_test, axis=1)\n",
    "y_train_class = np.argmax(y_train, axis=1)\n",
    "\n",
    "print(\"performances sur train :\\n\", classification_report(y_train_class, y_pred_train_class))\n",
    "print(\"________________________________________________________________\")\n",
    "print(\"performances sur test :\\n\", classification_report(y_test_class, y_pred_test_class))\n"
   ]
  },
  {
   "cell_type": "markdown",
   "metadata": {},
   "source": [
    "Conclusion :\n",
    "\n",
    "La modification de la taille du batch n'a pas eu de conséquence sur les performances. \n",
    "\n",
    "<i>Remarque : Nous avons également testé d'autres tailles de batch, notamment 64, non présentées ici.</i>\n",
    "\n",
    "Dans la section suivante, nous testons un réseau plus important composé de 5 couches contenant plus de neurones."
   ]
  },
  {
   "cell_type": "markdown",
   "metadata": {},
   "source": [
    "### 5 couches Dense avec plus de neurones\n",
    "- nombre d'époques = 100 max (early stopping)\n",
    "- batch_size = 32\n",
    "- fonction d'activation = ReLu\n",
    "- initialiseur = HeNormal"
   ]
  },
  {
   "cell_type": "code",
   "execution_count": 21,
   "metadata": {
    "execution": {
     "iopub.execute_input": "2022-04-22T16:33:55.051431Z",
     "iopub.status.busy": "2022-04-22T16:33:55.051131Z",
     "iopub.status.idle": "2022-04-22T16:38:58.028634Z",
     "shell.execute_reply": "2022-04-22T16:38:58.027845Z",
     "shell.execute_reply.started": "2022-04-22T16:33:55.051391Z"
    },
    "scrolled": false
   },
   "outputs": [
    {
     "name": "stdout",
     "output_type": "stream",
     "text": [
      "Model: \"model_10\"\n",
      "_________________________________________________________________\n",
      " Layer (type)                Output Shape              Param #   \n",
      "=================================================================\n",
      " Input (InputLayer)          [(None, 29)]              0         \n",
      "                                                                 \n",
      " couche1 (Dense)             (None, 256)               7680      \n",
      "                                                                 \n",
      " couche2 (Dense)             (None, 128)               32896     \n",
      "                                                                 \n",
      " couche3 (Dense)             (None, 64)                8256      \n",
      "                                                                 \n",
      " couche4 (Dense)             (None, 32)                2080      \n",
      "                                                                 \n",
      " couche5 (Dense)             (None, 2)                 66        \n",
      "                                                                 \n",
      "=================================================================\n",
      "Total params: 50,978\n",
      "Trainable params: 50,978\n",
      "Non-trainable params: 0\n",
      "_________________________________________________________________\n",
      "Epoch 1/100\n",
      "1132/1132 [==============================] - 3s 3ms/step - loss: 0.3586 - accuracy: 0.8400 - val_loss: 0.3346 - val_accuracy: 0.8528 - lr: 0.0010\n",
      "Epoch 2/100\n",
      "1132/1132 [==============================] - 3s 2ms/step - loss: 0.3386 - accuracy: 0.8484 - val_loss: 0.3322 - val_accuracy: 0.8544 - lr: 0.0010\n",
      "Epoch 3/100\n",
      "1132/1132 [==============================] - 3s 2ms/step - loss: 0.3325 - accuracy: 0.8525 - val_loss: 0.3254 - val_accuracy: 0.8558 - lr: 0.0010\n",
      "Epoch 4/100\n",
      "1132/1132 [==============================] - 3s 2ms/step - loss: 0.3266 - accuracy: 0.8554 - val_loss: 0.3234 - val_accuracy: 0.8566 - lr: 0.0010\n",
      "Epoch 5/100\n",
      "1132/1132 [==============================] - 3s 3ms/step - loss: 0.3236 - accuracy: 0.8590 - val_loss: 0.3212 - val_accuracy: 0.8578 - lr: 0.0010\n",
      "Epoch 6/100\n",
      "1132/1132 [==============================] - 3s 3ms/step - loss: 0.3202 - accuracy: 0.8586 - val_loss: 0.3171 - val_accuracy: 0.8582 - lr: 0.0010\n",
      "Epoch 7/100\n",
      "1132/1132 [==============================] - 3s 2ms/step - loss: 0.3153 - accuracy: 0.8610 - val_loss: 0.3186 - val_accuracy: 0.8584 - lr: 0.0010\n",
      "Epoch 8/100\n",
      "1122/1132 [============================>.] - ETA: 0s - loss: 0.3130 - accuracy: 0.8616\n",
      "Epoch 8: ReduceLROnPlateau reducing learning rate to 0.00010000000474974513.\n",
      "1132/1132 [==============================] - 3s 3ms/step - loss: 0.3129 - accuracy: 0.8616 - val_loss: 0.3188 - val_accuracy: 0.8552 - lr: 0.0010\n",
      "Epoch 9/100\n",
      "1132/1132 [==============================] - 3s 2ms/step - loss: 0.2990 - accuracy: 0.8676 - val_loss: 0.3119 - val_accuracy: 0.8603 - lr: 1.0000e-04\n",
      "Epoch 10/100\n",
      "1132/1132 [==============================] - 3s 3ms/step - loss: 0.2943 - accuracy: 0.8693 - val_loss: 0.3129 - val_accuracy: 0.8597 - lr: 1.0000e-04\n",
      "Epoch 11/100\n",
      "1132/1132 [==============================] - 3s 3ms/step - loss: 0.2922 - accuracy: 0.8699 - val_loss: 0.3124 - val_accuracy: 0.8612 - lr: 1.0000e-04\n",
      "Epoch 12/100\n",
      "1132/1132 [==============================] - 3s 3ms/step - loss: 0.2903 - accuracy: 0.8717 - val_loss: 0.3143 - val_accuracy: 0.8594 - lr: 1.0000e-04\n",
      "Epoch 13/100\n",
      "1132/1132 [==============================] - 3s 3ms/step - loss: 0.2888 - accuracy: 0.8720 - val_loss: 0.3124 - val_accuracy: 0.8610 - lr: 1.0000e-04\n",
      "Epoch 14/100\n",
      "1116/1132 [============================>.] - ETA: 0s - loss: 0.2874 - accuracy: 0.8725\n",
      "Epoch 14: ReduceLROnPlateau reducing learning rate to 1.0000000474974514e-05.\n",
      "1132/1132 [==============================] - 3s 3ms/step - loss: 0.2873 - accuracy: 0.8726 - val_loss: 0.3141 - val_accuracy: 0.8605 - lr: 1.0000e-04\n",
      "Epoch 15/100\n",
      "1132/1132 [==============================] - 3s 2ms/step - loss: 0.2840 - accuracy: 0.8744 - val_loss: 0.3136 - val_accuracy: 0.8607 - lr: 1.0000e-05\n",
      "Epoch 16/100\n",
      "1132/1132 [==============================] - 3s 2ms/step - loss: 0.2836 - accuracy: 0.8749 - val_loss: 0.3137 - val_accuracy: 0.8613 - lr: 1.0000e-05\n",
      "Epoch 17/100\n",
      "1132/1132 [==============================] - 3s 2ms/step - loss: 0.2834 - accuracy: 0.8748 - val_loss: 0.3138 - val_accuracy: 0.8612 - lr: 1.0000e-05\n",
      "Epoch 18/100\n",
      "1132/1132 [==============================] - 3s 3ms/step - loss: 0.2831 - accuracy: 0.8750 - val_loss: 0.3140 - val_accuracy: 0.8608 - lr: 1.0000e-05\n",
      "Epoch 19/100\n",
      "1132/1132 [==============================] - 3s 3ms/step - loss: 0.2830 - accuracy: 0.8746 - val_loss: 0.3140 - val_accuracy: 0.8612 - lr: 1.0000e-05\n",
      "Epoch 20/100\n",
      "1101/1132 [============================>.] - ETA: 0s - loss: 0.2820 - accuracy: 0.8755\n",
      "Epoch 20: ReduceLROnPlateau reducing learning rate to 1.0000000656873453e-06.\n",
      "1132/1132 [==============================] - 3s 2ms/step - loss: 0.2828 - accuracy: 0.8751 - val_loss: 0.3140 - val_accuracy: 0.8609 - lr: 1.0000e-05\n",
      "Epoch 21/100\n",
      "1132/1132 [==============================] - 3s 2ms/step - loss: 0.2824 - accuracy: 0.8750 - val_loss: 0.3140 - val_accuracy: 0.8608 - lr: 1.0000e-06\n",
      "Epoch 21: early stopping\n",
      "_________________________________________________________________\n",
      "354/354 [==============================] - 0s 1ms/step - loss: 0.3354 - accuracy: 0.8558\n",
      "Valeur de loss : 0.33544400334358215\n",
      "_________________________________________________________________\n",
      "performances sur train :\n",
      "               precision    recall  f1-score   support\n",
      "\n",
      "           0       0.89      0.95      0.92     35295\n",
      "           1       0.77      0.60      0.67      9956\n",
      "\n",
      "    accuracy                           0.87     45251\n",
      "   macro avg       0.83      0.77      0.80     45251\n",
      "weighted avg       0.87      0.87      0.87     45251\n",
      "\n",
      "________________________________________________________________\n",
      "performances sur test :\n",
      "               precision    recall  f1-score   support\n",
      "\n",
      "           0       0.88      0.94      0.91      8842\n",
      "           1       0.72      0.55      0.63      2471\n",
      "\n",
      "    accuracy                           0.86     11313\n",
      "   macro avg       0.80      0.75      0.77     11313\n",
      "weighted avg       0.85      0.86      0.85     11313\n",
      "\n",
      "Wall time: 1min 3s\n"
     ]
    },
    {
     "data": {
      "image/png": "[encoded data removed]",
      "text/plain": [
       "<Figure size 1080x360 with 2 Axes>"
      ]
     },
     "metadata": {
      "needs_background": "light"
     },
     "output_type": "display_data"
    }
   ],
   "source": [
    "%%time\n",
    "\n",
    "#création des callbacks\n",
    "early_stopping = EarlyStopping(monitor = 'val_loss',\n",
    "                               min_delta = 0.005,\n",
    "                               patience = 12,\n",
    "                               mode = 'min',\n",
    "                               verbose = 1)\n",
    "\n",
    "reduce_learning_rate = ReduceLROnPlateau(monitor = 'val_loss',\n",
    "                                         factor = 0.1,\n",
    "                                         patience = 4,\n",
    "                                         min_delta = 0.01,\n",
    "                                         cooldown = 3,\n",
    "                                         verbose = 1)\n",
    "\n",
    "#inputs des hyperparamètres\n",
    "epochs = 100\n",
    "batch_size = 32\n",
    "u1 = 256\n",
    "u2 = 128\n",
    "u3 = 64\n",
    "u4 = 32\n",
    "activation = 'relu'\n",
    "initializer = tf.keras.initializers.HeNormal()\n",
    "\n",
    "#construction du modèle\n",
    "inputs = Input(shape = X_train.shape[1], name='Input')\n",
    "\n",
    "dense1 = Dense(units = u1, activation = activation, kernel_initializer = initializer, name = 'couche1')\n",
    "dense2 = Dense(units = u2, activation = activation, kernel_initializer = initializer, name = 'couche2')\n",
    "dense3 = Dense(units = u3, activation = activation, kernel_initializer = initializer, name = 'couche3')\n",
    "dense4 = Dense(units = u4, activation = activation, kernel_initializer = initializer, name = 'couche4')\n",
    "dense5 = Dense(units = 2, activation = 'softmax', kernel_initializer = initializer, name = 'couche5')\n",
    "\n",
    "x = dense1(inputs)\n",
    "x = dense2(x)\n",
    "x = dense3(x)\n",
    "x = dense4(x)\n",
    "outputs = dense5(x)\n",
    "\n",
    "model = Model(inputs = inputs, outputs = outputs)\n",
    "model.summary()\n",
    "\n",
    "#compilation et entrainement du modèle\n",
    "model.compile(loss = 'BinaryCrossentropy', \n",
    "              optimizer = 'adam', \n",
    "              metrics = ['accuracy'])\n",
    "\n",
    "train_hist = model.fit(X_train, y_train, \n",
    "                       epochs = epochs, \n",
    "                       batch_size = batch_size, \n",
    "                       validation_split = 0.2,\n",
    "                       callbacks = [reduce_learning_rate, early_stopping],\n",
    "                       verbose = True)\n",
    "\n",
    "#visualisation de l'évolution de la fonction coût\n",
    "plt.figure(figsize=(15,5))\n",
    "plt.subplot(121)\n",
    "plt.plot(train_hist.history['loss'], label='loss')\n",
    "plt.plot(train_hist.history['val_loss'], label='val_loss')\n",
    "plt.xlabel('Epoch')\n",
    "plt.ylabel('Loss')\n",
    "plt.legend()\n",
    "plt.grid(True)\n",
    "plt.title(\"Evolution de la fonction coût\");\n",
    "\n",
    "#visualisation de l'évolution de l'accuracy\n",
    "plt.subplot(122)\n",
    "plt.plot(train_hist.history['accuracy'], label='train')\n",
    "plt.plot(train_hist.history['val_accuracy'], label='validation')\n",
    "plt.xlabel('Epoch')\n",
    "plt.ylabel('Accuracy')\n",
    "plt.legend()\n",
    "plt.grid(True)\n",
    "plt.title(\"Evolution de l'accuracy\");\n",
    "print(\"_________________________________________________________________\")\n",
    "\n",
    "#évaluation du modèle\n",
    "print(\"Valeur de loss :\", model.evaluate(X_test, y_test)[0])\n",
    "print(\"_________________________________________________________________\")\n",
    "\n",
    "y_pred_train = model.predict(X_train)\n",
    "y_pred_train_class = np.argmax(y_pred_train, axis=1)\n",
    "\n",
    "y_pred_test = model.predict(X_test)\n",
    "y_pred_test_class = np.argmax(y_pred_test, axis=1)\n",
    "\n",
    "y_test_class = np.argmax(y_test, axis=1)\n",
    "y_train_class = np.argmax(y_train, axis=1)\n",
    "\n",
    "print(\"performances sur train :\\n\", classification_report(y_train_class, y_pred_train_class))\n",
    "print(\"________________________________________________________________\")\n",
    "print(\"performances sur test :\\n\", classification_report(y_test_class, y_pred_test_class))\n"
   ]
  },
  {
   "cell_type": "markdown",
   "metadata": {},
   "source": [
    "Conclusion : \n",
    "\n",
    "Les performances sont similaires à celles obtenues par le réseau plus petit. On note que les métriques sur l'échantillon de validation se stabilisent après huit époques alors qu'elles continuent d'évoluer sur l'échantillon d'entrainement.\n",
    "\n",
    "<i>Remarque : L'ajout d'encore plus de neurones ne permet pas d'améliorer les performances (autres réseaux non présentés ici).</i>"
   ]
  },
  {
   "cell_type": "markdown",
   "metadata": {},
   "source": [
    "## 1.2 - Jeu de données sous-échantillonné"
   ]
  },
  {
   "cell_type": "markdown",
   "metadata": {},
   "source": [
    "Le modèle est entrainé sur le jeu de données rééchantillonné par l'algorithme RandomUnderSampler."
   ]
  },
  {
   "cell_type": "markdown",
   "metadata": {},
   "source": [
    "#### Avec callbacks\n",
    "- nombre d'époques = 100 max (early stopping)\n",
    "- batch_size = 32\n",
    "- fonction d'activation = ReLu\n",
    "- initialiseur = HeNormal"
   ]
  },
  {
   "cell_type": "code",
   "execution_count": 23,
   "metadata": {
    "execution": {
     "iopub.execute_input": "2022-04-22T16:38:58.031063Z",
     "iopub.status.busy": "2022-04-22T16:38:58.030486Z",
     "iopub.status.idle": "2022-04-22T16:41:11.283733Z",
     "shell.execute_reply": "2022-04-22T16:41:11.282831Z",
     "shell.execute_reply.started": "2022-04-22T16:38:58.031018Z"
    },
    "scrolled": false
   },
   "outputs": [
    {
     "name": "stdout",
     "output_type": "stream",
     "text": [
      "Model: \"model_11\"\n",
      "_________________________________________________________________\n",
      " Layer (type)                Output Shape              Param #   \n",
      "=================================================================\n",
      " Input (InputLayer)          [(None, 29)]              0         \n",
      "                                                                 \n",
      " couche1 (Dense)             (None, 256)               7680      \n",
      "                                                                 \n",
      " couche2 (Dense)             (None, 128)               32896     \n",
      "                                                                 \n",
      " couche3 (Dense)             (None, 64)                8256      \n",
      "                                                                 \n",
      " couche4 (Dense)             (None, 32)                2080      \n",
      "                                                                 \n",
      " couche5 (Dense)             (None, 2)                 66        \n",
      "                                                                 \n",
      "=================================================================\n",
      "Total params: 50,978\n",
      "Trainable params: 50,978\n",
      "Non-trainable params: 0\n",
      "_________________________________________________________________\n",
      "Epoch 1/100\n",
      "498/498 [==============================] - 2s 3ms/step - loss: 0.4506 - accuracy: 0.7832 - val_loss: 0.5829 - val_accuracy: 0.7241 - lr: 0.0010\n",
      "Epoch 2/100\n",
      "498/498 [==============================] - 1s 2ms/step - loss: 0.4147 - accuracy: 0.8057 - val_loss: 0.6604 - val_accuracy: 0.6701 - lr: 0.0010\n",
      "Epoch 3/100\n",
      "498/498 [==============================] - 1s 2ms/step - loss: 0.4073 - accuracy: 0.8092 - val_loss: 0.6654 - val_accuracy: 0.6623 - lr: 0.0010\n",
      "Epoch 4/100\n",
      "498/498 [==============================] - 1s 2ms/step - loss: 0.4030 - accuracy: 0.8086 - val_loss: 0.5538 - val_accuracy: 0.7278 - lr: 0.0010\n",
      "Epoch 5/100\n",
      "498/498 [==============================] - 1s 2ms/step - loss: 0.3956 - accuracy: 0.8125 - val_loss: 0.5004 - val_accuracy: 0.7514 - lr: 0.0010\n",
      "Epoch 6/100\n",
      "498/498 [==============================] - 1s 2ms/step - loss: 0.3914 - accuracy: 0.8155 - val_loss: 0.4095 - val_accuracy: 0.8180 - lr: 0.0010\n",
      "Epoch 7/100\n",
      "498/498 [==============================] - 1s 2ms/step - loss: 0.3874 - accuracy: 0.8180 - val_loss: 0.6142 - val_accuracy: 0.6847 - lr: 0.0010\n",
      "Epoch 8/100\n",
      "498/498 [==============================] - 1s 2ms/step - loss: 0.3798 - accuracy: 0.8202 - val_loss: 0.6393 - val_accuracy: 0.6816 - lr: 0.0010\n",
      "Epoch 9/100\n",
      "498/498 [==============================] - 1s 2ms/step - loss: 0.3737 - accuracy: 0.8238 - val_loss: 0.6137 - val_accuracy: 0.7037 - lr: 0.0010\n",
      "Epoch 10/100\n",
      "493/498 [============================>.] - ETA: 0s - loss: 0.3681 - accuracy: 0.8263\n",
      "Epoch 10: ReduceLROnPlateau reducing learning rate to 0.00010000000474974513.\n",
      "498/498 [==============================] - 1s 2ms/step - loss: 0.3689 - accuracy: 0.8259 - val_loss: 0.5240 - val_accuracy: 0.7344 - lr: 0.0010\n",
      "Epoch 11/100\n",
      "498/498 [==============================] - 1s 2ms/step - loss: 0.3473 - accuracy: 0.8354 - val_loss: 0.5842 - val_accuracy: 0.7233 - lr: 1.0000e-04\n",
      "Epoch 12/100\n",
      "498/498 [==============================] - 1s 2ms/step - loss: 0.3402 - accuracy: 0.8399 - val_loss: 0.5215 - val_accuracy: 0.7524 - lr: 1.0000e-04\n",
      "Epoch 13/100\n",
      "498/498 [==============================] - 1s 2ms/step - loss: 0.3366 - accuracy: 0.8399 - val_loss: 0.6424 - val_accuracy: 0.6965 - lr: 1.0000e-04\n",
      "Epoch 14/100\n",
      "498/498 [==============================] - 1s 2ms/step - loss: 0.3339 - accuracy: 0.8418 - val_loss: 0.6022 - val_accuracy: 0.7243 - lr: 1.0000e-04\n",
      "Epoch 15/100\n",
      "498/498 [==============================] - 1s 2ms/step - loss: 0.3308 - accuracy: 0.8442 - val_loss: 0.5840 - val_accuracy: 0.7266 - lr: 1.0000e-04\n",
      "Epoch 16/100\n",
      "478/498 [===========================>..] - ETA: 0s - loss: 0.3293 - accuracy: 0.8440\n",
      "Epoch 16: ReduceLROnPlateau reducing learning rate to 1.0000000474974514e-05.\n",
      "498/498 [==============================] - 1s 2ms/step - loss: 0.3285 - accuracy: 0.8448 - val_loss: 0.6049 - val_accuracy: 0.7228 - lr: 1.0000e-04\n",
      "Epoch 17/100\n",
      "498/498 [==============================] - 1s 2ms/step - loss: 0.3233 - accuracy: 0.8478 - val_loss: 0.6020 - val_accuracy: 0.7223 - lr: 1.0000e-05\n",
      "Epoch 18/100\n",
      "498/498 [==============================] - 1s 2ms/step - loss: 0.3228 - accuracy: 0.8471 - val_loss: 0.6045 - val_accuracy: 0.7206 - lr: 1.0000e-05\n",
      "Epoch 18: early stopping\n",
      "_________________________________________________________________\n",
      "354/354 [==============================] - 1s 1ms/step - loss: 0.3770 - accuracy: 0.8294\n",
      "Valeur de loss : 0.37704765796661377\n",
      "_________________________________________________________________\n",
      "performances sur train :\n",
      "               precision    recall  f1-score   support\n",
      "\n",
      "           0       0.78      0.89      0.83      9956\n",
      "           1       0.87      0.76      0.81      9956\n",
      "\n",
      "    accuracy                           0.82     19912\n",
      "   macro avg       0.83      0.82      0.82     19912\n",
      "weighted avg       0.83      0.82      0.82     19912\n",
      "\n",
      "________________________________________________________________\n",
      "performances sur test :\n",
      "               precision    recall  f1-score   support\n",
      "\n",
      "           0       0.91      0.86      0.89      8842\n",
      "           1       0.59      0.71      0.65      2471\n",
      "\n",
      "    accuracy                           0.83     11313\n",
      "   macro avg       0.75      0.79      0.77     11313\n",
      "weighted avg       0.84      0.83      0.83     11313\n",
      "\n",
      "Wall time: 24.3 s\n",
      "Parser   : 351 ms\n"
     ]
    },
    {
     "data": {
      "image/png": "[encoded data removed]",
      "text/plain": [
       "<Figure size 1080x360 with 2 Axes>"
      ]
     },
     "metadata": {
      "needs_background": "light"
     },
     "output_type": "display_data"
    }
   ],
   "source": [
    "%%time\n",
    "\n",
    "#création des callbacks\n",
    "early_stopping = EarlyStopping(monitor = 'val_loss',\n",
    "                               min_delta = 0.005,\n",
    "                               patience = 12,\n",
    "                               mode = 'min',\n",
    "                               verbose = 1)\n",
    "\n",
    "reduce_learning_rate = ReduceLROnPlateau(monitor = 'val_loss',\n",
    "                                         factor = 0.1,\n",
    "                                         patience = 4,\n",
    "                                         min_delta = 0.01,\n",
    "                                         cooldown = 3,\n",
    "                                         verbose = 1)\n",
    "\n",
    "#inputs des hyperparamètres\n",
    "epochs = 100\n",
    "batch_size = 32\n",
    "u1 = 256\n",
    "u2 = 128\n",
    "u3 = 64\n",
    "u4 = 32\n",
    "activation = 'relu'\n",
    "initializer = tf.keras.initializers.HeNormal()\n",
    "\n",
    "#construction du modèle\n",
    "inputs = Input(shape = X_train.shape[1], name='Input')\n",
    "\n",
    "dense1 = Dense(units = u1, activation = activation, kernel_initializer = initializer, name = 'couche1')\n",
    "dense2 = Dense(units = u2, activation = activation, kernel_initializer = initializer, name = 'couche2')\n",
    "dense3 = Dense(units = u3, activation = activation, kernel_initializer = initializer, name = 'couche3')\n",
    "dense4 = Dense(units = u4, activation = activation, kernel_initializer = initializer, name = 'couche4')\n",
    "dense5 = Dense(units = 2, activation = 'softmax', kernel_initializer = initializer, name = 'couche5')\n",
    "\n",
    "x = dense1(inputs)\n",
    "x = dense2(x)\n",
    "x = dense3(x)\n",
    "x = dense4(x)\n",
    "outputs = dense5(x)\n",
    "\n",
    "model = Model(inputs = inputs, outputs = outputs)\n",
    "model.summary()\n",
    "\n",
    "#compilation et entrainement du modèle\n",
    "model.compile(loss = 'BinaryCrossentropy', \n",
    "              optimizer = 'adam', \n",
    "              metrics = ['accuracy'])\n",
    "\n",
    "train_hist = model.fit(X_train_ru, y_train_ru, \n",
    "                       epochs = epochs, \n",
    "                       batch_size = batch_size, \n",
    "                       validation_split = 0.2,\n",
    "                       callbacks = [reduce_learning_rate, early_stopping],\n",
    "                       verbose = True)\n",
    "\n",
    "#visualisation de l'évolution de la fonction coût\n",
    "plt.figure(figsize=(15,5))\n",
    "plt.subplot(121)\n",
    "plt.plot(train_hist.history['loss'], label='loss')\n",
    "plt.plot(train_hist.history['val_loss'], label='val_loss')\n",
    "plt.xlabel('Epoch')\n",
    "plt.ylabel('Loss')\n",
    "plt.legend()\n",
    "plt.grid(True)\n",
    "plt.title(\"Evolution de la fonction coût\");\n",
    "\n",
    "#visualisation de l'évolution de l'accuracy\n",
    "plt.subplot(122)\n",
    "plt.plot(train_hist.history['accuracy'], label='train')\n",
    "plt.plot(train_hist.history['val_accuracy'], label='validation')\n",
    "plt.xlabel('Epoch')\n",
    "plt.ylabel('Accuracy')\n",
    "plt.legend()\n",
    "plt.grid(True)\n",
    "plt.title(\"Evolution de l'accuracy\");\n",
    "print(\"_________________________________________________________________\")\n",
    "\n",
    "#évaluation du modèle\n",
    "print(\"Valeur de loss :\", model.evaluate(X_test_ru, y_test_ru)[0])\n",
    "print(\"_________________________________________________________________\")\n",
    "\n",
    "y_pred_train_ru = model.predict(X_train_ru)\n",
    "y_pred_train_class_ru = np.argmax(y_pred_train_ru, axis=1)\n",
    "\n",
    "y_pred_test_ru = model.predict(X_test_ru)\n",
    "y_pred_test_class_ru = np.argmax(y_pred_test_ru, axis=1)\n",
    "\n",
    "y_test_class_ru = np.argmax(y_test_ru, axis=1)\n",
    "y_train_class_ru = np.argmax(y_train_ru, axis=1)\n",
    "\n",
    "print(\"performances sur train :\\n\", classification_report(y_train_class_ru, y_pred_train_class_ru))\n",
    "print(\"________________________________________________________________\")\n",
    "print(\"performances sur test :\\n\", classification_report(y_test_class_ru, y_pred_test_class_ru))"
   ]
  },
  {
   "cell_type": "markdown",
   "metadata": {},
   "source": [
    "Conclusion :\n",
    "Les métriques globales montrent des performances similaires à celles obtenues sur le jeu de données déséquilibré avec une accuracy dépassant 80 % et un score F1 proche de 65 %.\n",
    "\n",
    "Comme pour les modèles de machine learning classiques, la précision est moins bonne mais le rappel est meilleur que sur le jeu de données déséquilibré.\n",
    "\n",
    "L'évolution de la fonction coût et de l'accuracy est très irrégulière et leur stabilisation n'est pas évidente sur 18 époques. Nous allons donc tester le modèle sur 50 époques sans callbacks."
   ]
  },
  {
   "cell_type": "markdown",
   "metadata": {},
   "source": [
    "#### Essai sur 50 epochs sans callbacks\n",
    "- nombre d'époques = 50\n",
    "- batch_size = 32\n",
    "- fonction d'activation = ReLu\n",
    "- initialiseur = HeNormal\n",
    "##### Objectif : visualiser l'évolution des courbes d'accuracy et de fonction coût"
   ]
  },
  {
   "cell_type": "code",
   "execution_count": 24,
   "metadata": {
    "execution": {
     "iopub.execute_input": "2022-04-22T16:41:30.516999Z",
     "iopub.status.busy": "2022-04-22T16:41:30.516713Z",
     "iopub.status.idle": "2022-04-22T16:53:31.311052Z",
     "shell.execute_reply": "2022-04-22T16:53:31.309948Z",
     "shell.execute_reply.started": "2022-04-22T16:41:30.516969Z"
    },
    "scrolled": false
   },
   "outputs": [
    {
     "name": "stdout",
     "output_type": "stream",
     "text": [
      "Model: \"model_12\"\n",
      "_________________________________________________________________\n",
      " Layer (type)                Output Shape              Param #   \n",
      "=================================================================\n",
      " Input (InputLayer)          [(None, 29)]              0         \n",
      "                                                                 \n",
      " couche1 (Dense)             (None, 256)               7680      \n",
      "                                                                 \n",
      " couche2 (Dense)             (None, 128)               32896     \n",
      "                                                                 \n",
      " couche3 (Dense)             (None, 64)                8256      \n",
      "                                                                 \n",
      " couche4 (Dense)             (None, 32)                2080      \n",
      "                                                                 \n",
      " couche5 (Dense)             (None, 2)                 66        \n",
      "                                                                 \n",
      "=================================================================\n",
      "Total params: 50,978\n",
      "Trainable params: 50,978\n",
      "Non-trainable params: 0\n",
      "_________________________________________________________________\n",
      "Epoch 1/50\n",
      "498/498 [==============================] - 2s 3ms/step - loss: 0.4550 - accuracy: 0.7796 - val_loss: 0.7124 - val_accuracy: 0.6465\n",
      "Epoch 2/50\n",
      "498/498 [==============================] - 1s 3ms/step - loss: 0.4163 - accuracy: 0.8035 - val_loss: 0.4975 - val_accuracy: 0.7685\n",
      "Epoch 3/50\n",
      "498/498 [==============================] - 1s 2ms/step - loss: 0.4070 - accuracy: 0.8084 - val_loss: 0.7106 - val_accuracy: 0.6515\n",
      "Epoch 4/50\n",
      "498/498 [==============================] - 1s 2ms/step - loss: 0.4005 - accuracy: 0.8098 - val_loss: 0.5929 - val_accuracy: 0.7042\n",
      "Epoch 5/50\n",
      "498/498 [==============================] - 1s 2ms/step - loss: 0.3938 - accuracy: 0.8142 - val_loss: 0.3906 - val_accuracy: 0.8320\n",
      "Epoch 6/50\n",
      "498/498 [==============================] - 1s 3ms/step - loss: 0.3899 - accuracy: 0.8166 - val_loss: 0.5099 - val_accuracy: 0.7502\n",
      "Epoch 7/50\n",
      "498/498 [==============================] - 1s 3ms/step - loss: 0.3835 - accuracy: 0.8209 - val_loss: 0.6291 - val_accuracy: 0.6889\n",
      "Epoch 8/50\n",
      "498/498 [==============================] - 1s 3ms/step - loss: 0.3781 - accuracy: 0.8252 - val_loss: 0.7485 - val_accuracy: 0.6307\n",
      "Epoch 9/50\n",
      "498/498 [==============================] - 1s 2ms/step - loss: 0.3712 - accuracy: 0.8262 - val_loss: 0.4354 - val_accuracy: 0.7873\n",
      "Epoch 10/50\n",
      "498/498 [==============================] - 1s 2ms/step - loss: 0.3688 - accuracy: 0.8265 - val_loss: 0.6005 - val_accuracy: 0.6980\n",
      "Epoch 11/50\n",
      "498/498 [==============================] - 1s 2ms/step - loss: 0.3630 - accuracy: 0.8309 - val_loss: 0.4749 - val_accuracy: 0.7778\n",
      "Epoch 12/50\n",
      "498/498 [==============================] - 1s 2ms/step - loss: 0.3548 - accuracy: 0.8345 - val_loss: 0.6008 - val_accuracy: 0.7065\n",
      "Epoch 13/50\n",
      "498/498 [==============================] - 1s 2ms/step - loss: 0.3501 - accuracy: 0.8373 - val_loss: 0.7257 - val_accuracy: 0.6360\n",
      "Epoch 14/50\n",
      "498/498 [==============================] - 1s 2ms/step - loss: 0.3428 - accuracy: 0.8426 - val_loss: 0.5723 - val_accuracy: 0.7311\n",
      "Epoch 15/50\n",
      "498/498 [==============================] - 1s 2ms/step - loss: 0.3339 - accuracy: 0.8480 - val_loss: 0.5909 - val_accuracy: 0.7160\n",
      "Epoch 16/50\n",
      "498/498 [==============================] - 1s 2ms/step - loss: 0.3250 - accuracy: 0.8524 - val_loss: 0.6207 - val_accuracy: 0.7070\n",
      "Epoch 17/50\n",
      "498/498 [==============================] - 1s 3ms/step - loss: 0.3176 - accuracy: 0.8534 - val_loss: 0.6897 - val_accuracy: 0.6924\n",
      "Epoch 18/50\n",
      "498/498 [==============================] - 1s 2ms/step - loss: 0.3110 - accuracy: 0.8585 - val_loss: 0.6804 - val_accuracy: 0.7090\n",
      "Epoch 19/50\n",
      "498/498 [==============================] - 1s 2ms/step - loss: 0.2987 - accuracy: 0.8643 - val_loss: 0.5940 - val_accuracy: 0.7557\n",
      "Epoch 20/50\n",
      "498/498 [==============================] - 1s 2ms/step - loss: 0.2872 - accuracy: 0.8680 - val_loss: 0.7258 - val_accuracy: 0.7060\n",
      "Epoch 21/50\n",
      "498/498 [==============================] - 1s 3ms/step - loss: 0.2817 - accuracy: 0.8727 - val_loss: 0.5920 - val_accuracy: 0.7248\n",
      "Epoch 22/50\n",
      "498/498 [==============================] - 1s 2ms/step - loss: 0.2730 - accuracy: 0.8798 - val_loss: 0.6752 - val_accuracy: 0.7042\n",
      "Epoch 23/50\n",
      "498/498 [==============================] - 1s 2ms/step - loss: 0.2600 - accuracy: 0.8832 - val_loss: 0.6732 - val_accuracy: 0.7243\n",
      "Epoch 24/50\n",
      "498/498 [==============================] - 1s 3ms/step - loss: 0.2511 - accuracy: 0.8887 - val_loss: 0.8388 - val_accuracy: 0.6970\n",
      "Epoch 25/50\n",
      "498/498 [==============================] - 1s 3ms/step - loss: 0.2426 - accuracy: 0.8936 - val_loss: 0.6979 - val_accuracy: 0.7273\n",
      "Epoch 26/50\n",
      "498/498 [==============================] - 1s 2ms/step - loss: 0.2346 - accuracy: 0.8986 - val_loss: 0.7621 - val_accuracy: 0.7226\n",
      "Epoch 27/50\n",
      "498/498 [==============================] - 1s 2ms/step - loss: 0.2249 - accuracy: 0.9011 - val_loss: 0.7560 - val_accuracy: 0.7311\n",
      "Epoch 28/50\n",
      "498/498 [==============================] - 1s 2ms/step - loss: 0.2108 - accuracy: 0.9100 - val_loss: 0.7756 - val_accuracy: 0.7256\n",
      "Epoch 29/50\n",
      "498/498 [==============================] - 1s 2ms/step - loss: 0.2031 - accuracy: 0.9114 - val_loss: 0.7744 - val_accuracy: 0.7414\n",
      "Epoch 30/50\n",
      "498/498 [==============================] - 1s 2ms/step - loss: 0.1966 - accuracy: 0.9171 - val_loss: 0.8490 - val_accuracy: 0.7173\n",
      "Epoch 31/50\n",
      "498/498 [==============================] - 1s 2ms/step - loss: 0.1829 - accuracy: 0.9242 - val_loss: 1.0774 - val_accuracy: 0.7057\n",
      "Epoch 32/50\n",
      "498/498 [==============================] - 1s 2ms/step - loss: 0.1756 - accuracy: 0.9254 - val_loss: 0.9783 - val_accuracy: 0.7073\n",
      "Epoch 33/50\n",
      "498/498 [==============================] - 1s 2ms/step - loss: 0.1760 - accuracy: 0.9250 - val_loss: 1.1163 - val_accuracy: 0.6867\n",
      "Epoch 34/50\n",
      "498/498 [==============================] - 1s 2ms/step - loss: 0.1612 - accuracy: 0.9310 - val_loss: 1.0650 - val_accuracy: 0.7000\n",
      "Epoch 35/50\n",
      "498/498 [==============================] - 1s 3ms/step - loss: 0.1581 - accuracy: 0.9331 - val_loss: 1.1779 - val_accuracy: 0.6965\n",
      "Epoch 36/50\n",
      "498/498 [==============================] - 1s 2ms/step - loss: 0.1483 - accuracy: 0.9379 - val_loss: 0.9360 - val_accuracy: 0.7346\n",
      "Epoch 37/50\n",
      "498/498 [==============================] - 1s 2ms/step - loss: 0.1453 - accuracy: 0.9408 - val_loss: 1.1076 - val_accuracy: 0.7349\n",
      "Epoch 38/50\n",
      "498/498 [==============================] - 1s 2ms/step - loss: 0.1387 - accuracy: 0.9446 - val_loss: 1.0341 - val_accuracy: 0.7434\n",
      "Epoch 39/50\n",
      "498/498 [==============================] - 1s 2ms/step - loss: 0.1359 - accuracy: 0.9435 - val_loss: 1.0900 - val_accuracy: 0.7218\n",
      "Epoch 40/50\n",
      "498/498 [==============================] - 1s 2ms/step - loss: 0.1229 - accuracy: 0.9478 - val_loss: 1.3377 - val_accuracy: 0.7070\n",
      "Epoch 41/50\n",
      "498/498 [==============================] - 1s 3ms/step - loss: 0.1199 - accuracy: 0.9504 - val_loss: 1.2421 - val_accuracy: 0.7251\n",
      "Epoch 42/50\n",
      "498/498 [==============================] - 1s 2ms/step - loss: 0.1171 - accuracy: 0.9532 - val_loss: 1.4675 - val_accuracy: 0.7015\n",
      "Epoch 43/50\n",
      "498/498 [==============================] - 1s 3ms/step - loss: 0.1150 - accuracy: 0.9536 - val_loss: 1.2890 - val_accuracy: 0.7050\n",
      "Epoch 44/50\n",
      "498/498 [==============================] - 1s 3ms/step - loss: 0.1102 - accuracy: 0.9560 - val_loss: 1.2844 - val_accuracy: 0.7032\n",
      "Epoch 45/50\n",
      "498/498 [==============================] - 1s 2ms/step - loss: 0.1084 - accuracy: 0.9570 - val_loss: 1.5029 - val_accuracy: 0.7113\n",
      "Epoch 46/50\n",
      "498/498 [==============================] - 1s 2ms/step - loss: 0.0980 - accuracy: 0.9598 - val_loss: 1.4000 - val_accuracy: 0.7216\n",
      "Epoch 47/50\n",
      "498/498 [==============================] - 1s 2ms/step - loss: 0.0975 - accuracy: 0.9631 - val_loss: 1.6496 - val_accuracy: 0.7060\n",
      "Epoch 48/50\n",
      "498/498 [==============================] - 1s 3ms/step - loss: 0.1077 - accuracy: 0.9558 - val_loss: 1.8044 - val_accuracy: 0.6553\n",
      "Epoch 49/50\n",
      "498/498 [==============================] - 1s 3ms/step - loss: 0.0913 - accuracy: 0.9633 - val_loss: 1.4185 - val_accuracy: 0.7138\n"
     ]
    },
    {
     "name": "stdout",
     "output_type": "stream",
     "text": [
      "Epoch 50/50\n",
      "498/498 [==============================] - 1s 2ms/step - loss: 0.1006 - accuracy: 0.9614 - val_loss: 1.7302 - val_accuracy: 0.6824\n",
      "_________________________________________________________________\n",
      "354/354 [==============================] - 1s 1ms/step - loss: 0.9834 - accuracy: 0.8029\n",
      "Valeur de loss : 0.9834005832672119\n",
      "_________________________________________________________________\n",
      "performances sur train :\n",
      "               precision    recall  f1-score   support\n",
      "\n",
      "           0       0.86      0.98      0.92      9956\n",
      "           1       0.98      0.84      0.90      9956\n",
      "\n",
      "    accuracy                           0.91     19912\n",
      "   macro avg       0.92      0.91      0.91     19912\n",
      "weighted avg       0.92      0.91      0.91     19912\n",
      "\n",
      "________________________________________________________________\n",
      "performances sur test :\n",
      "               precision    recall  f1-score   support\n",
      "\n",
      "           0       0.90      0.84      0.87      8842\n",
      "           1       0.54      0.67      0.60      2471\n",
      "\n",
      "    accuracy                           0.80     11313\n",
      "   macro avg       0.72      0.75      0.73     11313\n",
      "weighted avg       0.82      0.80      0.81     11313\n",
      "\n",
      "Wall time: 1min 3s\n"
     ]
    },
    {
     "data": {
      "image/png": "[encoded data removed]",
      "text/plain": [
       "<Figure size 1080x360 with 2 Axes>"
      ]
     },
     "metadata": {
      "needs_background": "light"
     },
     "output_type": "display_data"
    }
   ],
   "source": [
    "%%time\n",
    "\n",
    "#inputs des hyperparamètres\n",
    "epochs = 50\n",
    "batch_size = 32\n",
    "u1 = 256\n",
    "u2 = 128\n",
    "u3 = 64\n",
    "u4 = 32\n",
    "activation = 'relu'\n",
    "initializer = tf.keras.initializers.HeNormal()\n",
    "\n",
    "#construction du modèle\n",
    "inputs = Input(shape = X_train.shape[1], name='Input')\n",
    "\n",
    "dense1 = Dense(units = u1, activation = activation, kernel_initializer = initializer, name = 'couche1')\n",
    "dense2 = Dense(units = u2, activation = activation, kernel_initializer = initializer, name = 'couche2')\n",
    "dense3 = Dense(units = u3, activation = activation, kernel_initializer = initializer, name = 'couche3')\n",
    "dense4 = Dense(units = u4, activation = activation, kernel_initializer = initializer, name = 'couche4')\n",
    "dense5 = Dense(units = 2, activation = 'softmax', kernel_initializer = initializer, name = 'couche5')\n",
    "\n",
    "x = dense1(inputs)\n",
    "x = dense2(x)\n",
    "x = dense3(x)\n",
    "x = dense4(x)\n",
    "outputs = dense5(x)\n",
    "\n",
    "model = Model(inputs = inputs, outputs = outputs)\n",
    "model.summary()\n",
    "\n",
    "#compilation et entrainement du modèle\n",
    "model.compile(loss = 'BinaryCrossentropy', \n",
    "              optimizer = 'adam', \n",
    "              metrics = ['accuracy'])\n",
    "\n",
    "train_hist = model.fit(X_train_ru, y_train_ru, \n",
    "                       epochs = epochs, \n",
    "                       batch_size = batch_size, \n",
    "                       validation_split = 0.2,\n",
    "                       verbose = True)\n",
    "\n",
    "#visualisation de l'évolution de la fonction coût\n",
    "plt.figure(figsize=(15,5))\n",
    "plt.subplot(121)\n",
    "plt.plot(train_hist.history['loss'], label='loss')\n",
    "plt.plot(train_hist.history['val_loss'], label='val_loss')\n",
    "plt.xlabel('Epoch')\n",
    "plt.ylabel('Loss')\n",
    "plt.legend()\n",
    "plt.grid(True)\n",
    "plt.title(\"Evolution de la fonction coût\");\n",
    "\n",
    "#visualisation de l'évolution de l'accuracy\n",
    "plt.subplot(122)\n",
    "plt.plot(train_hist.history['accuracy'], label='train')\n",
    "plt.plot(train_hist.history['val_accuracy'], label='validation')\n",
    "plt.xlabel('Epoch')\n",
    "plt.ylabel('Accuracy')\n",
    "plt.legend()\n",
    "plt.grid(True)\n",
    "plt.title(\"Evolution de l'accuracy\");\n",
    "print(\"_________________________________________________________________\")\n",
    "\n",
    "#évaluation du modèle\n",
    "print(\"Valeur de loss :\", model.evaluate(X_test_ru, y_test_ru)[0])\n",
    "print(\"_________________________________________________________________\")\n",
    "\n",
    "y_pred_train_ru = model.predict(X_train_ru)\n",
    "y_pred_train_class_ru = np.argmax(y_pred_train_ru, axis=1)\n",
    "\n",
    "y_pred_test_ru = model.predict(X_test_ru)\n",
    "y_pred_test_class_ru = np.argmax(y_pred_test_ru, axis=1)\n",
    "\n",
    "y_test_class_ru = np.argmax(y_test_ru, axis=1)\n",
    "y_train_class_ru = np.argmax(y_train_ru, axis=1)\n",
    "\n",
    "print(\"performances sur train :\\n\", classification_report(y_train_class_ru, y_pred_train_class_ru))\n",
    "print(\"________________________________________________________________\")\n",
    "print(\"performances sur test :\\n\", classification_report(y_test_class_ru, y_pred_test_class_ru))"
   ]
  },
  {
   "cell_type": "markdown",
   "metadata": {},
   "source": [
    "Conclusion :\n",
    "\n",
    "L'évolution des courbes montrent des irrégularité, les fonctions ne se stabilisent pas.\n",
    "Le rééchantillonnage semble donc perturber le modèle sur ce point, même si les performances globales restent bonnes."
   ]
  },
  {
   "cell_type": "markdown",
   "metadata": {},
   "source": [
    "## 1.3 - Après sur-échantillonnage"
   ]
  },
  {
   "cell_type": "markdown",
   "metadata": {},
   "source": [
    "Le modèle est entrainé sur le jeu de données rééchantillonné par l'algorithme RandomOverSampler."
   ]
  },
  {
   "cell_type": "markdown",
   "metadata": {},
   "source": [
    "#### Avec callbacks\n",
    "- nombre d'époques = 100 max (early stopping)\n",
    "- batch_size = 32\n",
    "- fonction d'activation = ReLu\n",
    "- initialiseur = HeNormal"
   ]
  },
  {
   "cell_type": "code",
   "execution_count": 26,
   "metadata": {
    "execution": {
     "iopub.execute_input": "2022-04-22T16:54:30.561831Z",
     "iopub.status.busy": "2022-04-22T16:54:30.561133Z",
     "iopub.status.idle": "2022-04-22T17:02:16.684725Z",
     "shell.execute_reply": "2022-04-22T17:02:16.683801Z",
     "shell.execute_reply.started": "2022-04-22T16:54:30.561781Z"
    },
    "scrolled": false
   },
   "outputs": [
    {
     "name": "stdout",
     "output_type": "stream",
     "text": [
      "Model: \"model_13\"\n",
      "_________________________________________________________________\n",
      " Layer (type)                Output Shape              Param #   \n",
      "=================================================================\n",
      " Input (InputLayer)          [(None, 29)]              0         \n",
      "                                                                 \n",
      " couche1 (Dense)             (None, 256)               7680      \n",
      "                                                                 \n",
      " couche2 (Dense)             (None, 128)               32896     \n",
      "                                                                 \n",
      " couche3 (Dense)             (None, 64)                8256      \n",
      "                                                                 \n",
      " couche4 (Dense)             (None, 32)                2080      \n",
      "                                                                 \n",
      " couche5 (Dense)             (None, 2)                 66        \n",
      "                                                                 \n",
      "=================================================================\n",
      "Total params: 50,978\n",
      "Trainable params: 50,978\n",
      "Non-trainable params: 0\n",
      "_________________________________________________________________\n",
      "Epoch 1/100\n",
      "1765/1765 [==============================] - 5s 2ms/step - loss: 0.4220 - accuracy: 0.8010 - val_loss: 0.4922 - val_accuracy: 0.7604 - lr: 0.0010\n",
      "Epoch 2/100\n",
      "1765/1765 [==============================] - 4s 2ms/step - loss: 0.3967 - accuracy: 0.8152 - val_loss: 0.5677 - val_accuracy: 0.7603 - lr: 0.0010\n",
      "Epoch 3/100\n",
      "1765/1765 [==============================] - 4s 2ms/step - loss: 0.3866 - accuracy: 0.8186 - val_loss: 0.5210 - val_accuracy: 0.7343 - lr: 0.0010\n",
      "Epoch 4/100\n",
      "1765/1765 [==============================] - 4s 2ms/step - loss: 0.3775 - accuracy: 0.8223 - val_loss: 0.6507 - val_accuracy: 0.6890 - lr: 0.0010\n",
      "Epoch 5/100\n",
      "1760/1765 [============================>.] - ETA: 0s - loss: 0.3702 - accuracy: 0.8263\n",
      "Epoch 5: ReduceLROnPlateau reducing learning rate to 0.00010000000474974513.\n",
      "1765/1765 [==============================] - 4s 2ms/step - loss: 0.3700 - accuracy: 0.8264 - val_loss: 0.5071 - val_accuracy: 0.7570 - lr: 0.0010\n",
      "Epoch 6/100\n",
      "1765/1765 [==============================] - 4s 2ms/step - loss: 0.3460 - accuracy: 0.8374 - val_loss: 0.4891 - val_accuracy: 0.7641 - lr: 1.0000e-04\n",
      "Epoch 7/100\n",
      "1765/1765 [==============================] - 4s 2ms/step - loss: 0.3392 - accuracy: 0.8405 - val_loss: 0.4887 - val_accuracy: 0.7635 - lr: 1.0000e-04\n",
      "Epoch 8/100\n",
      "1765/1765 [==============================] - 4s 2ms/step - loss: 0.3349 - accuracy: 0.8433 - val_loss: 0.4906 - val_accuracy: 0.7696 - lr: 1.0000e-04\n",
      "Epoch 9/100\n",
      "1765/1765 [==============================] - 4s 2ms/step - loss: 0.3310 - accuracy: 0.8451 - val_loss: 0.4611 - val_accuracy: 0.7879 - lr: 1.0000e-04\n",
      "Epoch 10/100\n",
      "1765/1765 [==============================] - 5s 3ms/step - loss: 0.3272 - accuracy: 0.8473 - val_loss: 0.4420 - val_accuracy: 0.8039 - lr: 1.0000e-04\n",
      "Epoch 11/100\n",
      "1765/1765 [==============================] - 4s 2ms/step - loss: 0.3234 - accuracy: 0.8489 - val_loss: 0.4201 - val_accuracy: 0.8152 - lr: 1.0000e-04\n",
      "Epoch 12/100\n",
      "1765/1765 [==============================] - 4s 2ms/step - loss: 0.3197 - accuracy: 0.8511 - val_loss: 0.4594 - val_accuracy: 0.7973 - lr: 1.0000e-04\n",
      "Epoch 13/100\n",
      "1765/1765 [==============================] - 4s 2ms/step - loss: 0.3157 - accuracy: 0.8534 - val_loss: 0.4647 - val_accuracy: 0.7919 - lr: 1.0000e-04\n",
      "Epoch 14/100\n",
      "1765/1765 [==============================] - 4s 2ms/step - loss: 0.3116 - accuracy: 0.8568 - val_loss: 0.4432 - val_accuracy: 0.8093 - lr: 1.0000e-04\n",
      "Epoch 15/100\n",
      "1742/1765 [============================>.] - ETA: 0s - loss: 0.3074 - accuracy: 0.8585\n",
      "Epoch 15: ReduceLROnPlateau reducing learning rate to 1.0000000474974514e-05.\n",
      "1765/1765 [==============================] - 4s 3ms/step - loss: 0.3077 - accuracy: 0.8581 - val_loss: 0.4196 - val_accuracy: 0.8238 - lr: 1.0000e-04\n",
      "Epoch 16/100\n",
      "1765/1765 [==============================] - 4s 2ms/step - loss: 0.3010 - accuracy: 0.8623 - val_loss: 0.4484 - val_accuracy: 0.8034 - lr: 1.0000e-05\n",
      "Epoch 17/100\n",
      "1765/1765 [==============================] - 4s 2ms/step - loss: 0.2999 - accuracy: 0.8632 - val_loss: 0.4440 - val_accuracy: 0.8077 - lr: 1.0000e-05\n",
      "Epoch 18/100\n",
      "1765/1765 [==============================] - 4s 2ms/step - loss: 0.2992 - accuracy: 0.8632 - val_loss: 0.4322 - val_accuracy: 0.8153 - lr: 1.0000e-05\n",
      "Epoch 19/100\n",
      "1765/1765 [==============================] - 4s 3ms/step - loss: 0.2987 - accuracy: 0.8640 - val_loss: 0.4441 - val_accuracy: 0.8091 - lr: 1.0000e-05\n",
      "Epoch 20/100\n",
      "1765/1765 [==============================] - 4s 2ms/step - loss: 0.2981 - accuracy: 0.8644 - val_loss: 0.4360 - val_accuracy: 0.8137 - lr: 1.0000e-05\n",
      "Epoch 21/100\n",
      "1743/1765 [============================>.] - ETA: 0s - loss: 0.2973 - accuracy: 0.8644\n",
      "Epoch 21: ReduceLROnPlateau reducing learning rate to 1.0000000656873453e-06.\n",
      "1765/1765 [==============================] - 4s 2ms/step - loss: 0.2975 - accuracy: 0.8644 - val_loss: 0.4310 - val_accuracy: 0.8184 - lr: 1.0000e-05\n",
      "Epoch 22/100\n",
      "1765/1765 [==============================] - 4s 2ms/step - loss: 0.2967 - accuracy: 0.8649 - val_loss: 0.4344 - val_accuracy: 0.8161 - lr: 1.0000e-06\n",
      "Epoch 23/100\n",
      "1765/1765 [==============================] - 4s 2ms/step - loss: 0.2966 - accuracy: 0.8648 - val_loss: 0.4358 - val_accuracy: 0.8145 - lr: 1.0000e-06\n",
      "Epoch 23: early stopping\n",
      "_________________________________________________________________\n",
      "354/354 [==============================] - 1s 1ms/step - loss: 0.3821 - accuracy: 0.8305\n",
      "Valeur de loss : 0.38208743929862976\n",
      "_________________________________________________________________\n",
      "performances sur train :\n",
      "               precision    recall  f1-score   support\n",
      "\n",
      "           0       0.84      0.88      0.86     35295\n",
      "           1       0.87      0.83      0.85     35295\n",
      "\n",
      "    accuracy                           0.85     70590\n",
      "   macro avg       0.86      0.85      0.85     70590\n",
      "weighted avg       0.86      0.85      0.85     70590\n",
      "\n",
      "________________________________________________________________\n",
      "performances sur test :\n",
      "               precision    recall  f1-score   support\n",
      "\n",
      "           0       0.92      0.86      0.89      8842\n",
      "           1       0.59      0.72      0.65      2471\n",
      "\n",
      "    accuracy                           0.83     11313\n",
      "   macro avg       0.75      0.79      0.77     11313\n",
      "weighted avg       0.85      0.83      0.84     11313\n",
      "\n",
      "Wall time: 1min 40s\n"
     ]
    },
    {
     "data": {
      "image/png": "[encoded data removed]",
      "text/plain": [
       "<Figure size 1080x360 with 2 Axes>"
      ]
     },
     "metadata": {
      "needs_background": "light"
     },
     "output_type": "display_data"
    }
   ],
   "source": [
    "%%time\n",
    "\n",
    "#création des callbacks\n",
    "early_stopping = EarlyStopping(monitor = 'val_loss',\n",
    "                               min_delta = 0.005,\n",
    "                               patience = 12,\n",
    "                               mode = 'min',\n",
    "                               verbose = 1)\n",
    "\n",
    "reduce_learning_rate = ReduceLROnPlateau(monitor = 'val_loss',\n",
    "                                         factor = 0.1,\n",
    "                                         patience = 4,\n",
    "                                         min_delta = 0.01,\n",
    "                                         cooldown = 3,\n",
    "                                         verbose = 1)\n",
    "\n",
    "#inputs des hyperparamètres\n",
    "epochs = 100\n",
    "batch_size = 32\n",
    "u1 = 256\n",
    "u2 = 128\n",
    "u3 = 64\n",
    "u4 = 32\n",
    "activation = 'relu'\n",
    "initializer = tf.keras.initializers.HeNormal()\n",
    "\n",
    "#construction du modèle\n",
    "inputs = Input(shape = X_train.shape[1], name='Input')\n",
    "\n",
    "dense1 = Dense(units = u1, activation = activation, kernel_initializer = initializer, name = 'couche1')\n",
    "dense2 = Dense(units = u2, activation = activation, kernel_initializer = initializer, name = 'couche2')\n",
    "dense3 = Dense(units = u3, activation = activation, kernel_initializer = initializer, name = 'couche3')\n",
    "dense4 = Dense(units = u4, activation = activation, kernel_initializer = initializer, name = 'couche4')\n",
    "dense5 = Dense(units = 2, activation = 'softmax', kernel_initializer = initializer, name = 'couche5')\n",
    "\n",
    "x = dense1(inputs)\n",
    "x = dense2(x)\n",
    "x = dense3(x)\n",
    "x = dense4(x)\n",
    "outputs = dense5(x)\n",
    "\n",
    "model = Model(inputs = inputs, outputs = outputs)\n",
    "model.summary()\n",
    "\n",
    "#compilation et entrainement du modèle\n",
    "model.compile(loss = 'BinaryCrossentropy', \n",
    "              optimizer = 'adam', \n",
    "              metrics = ['accuracy'])\n",
    "\n",
    "train_hist = model.fit(X_train_ro, y_train_ro, \n",
    "                       epochs = epochs, \n",
    "                       batch_size = batch_size, \n",
    "                       validation_split = 0.2,\n",
    "                       callbacks = [reduce_learning_rate, early_stopping],\n",
    "                       verbose = True)\n",
    "\n",
    "#visualisation de l'évolution de la fonction coût\n",
    "plt.figure(figsize=(15,5))\n",
    "plt.subplot(121)\n",
    "plt.plot(train_hist.history['loss'], label='loss')\n",
    "plt.plot(train_hist.history['val_loss'], label='val_loss')\n",
    "plt.xlabel('Epoch')\n",
    "plt.ylabel('Loss')\n",
    "plt.legend()\n",
    "plt.grid(True)\n",
    "plt.title(\"Evolution de la fonction coût\");\n",
    "\n",
    "#visualisation de l'évolution de l'accuracy\n",
    "plt.subplot(122)\n",
    "plt.plot(train_hist.history['accuracy'], label='train')\n",
    "plt.plot(train_hist.history['val_accuracy'], label='validation')\n",
    "plt.xlabel('Epoch')\n",
    "plt.ylabel('Accuracy')\n",
    "plt.legend()\n",
    "plt.grid(True)\n",
    "plt.title(\"Evolution de l'accuracy\");\n",
    "print(\"_________________________________________________________________\")\n",
    "\n",
    "#évaluation du modèle\n",
    "print(\"Valeur de loss :\", model.evaluate(X_test_ro, y_test_ro)[0])\n",
    "print(\"_________________________________________________________________\")\n",
    "\n",
    "y_pred_train_ro = model.predict(X_train_ro)\n",
    "y_pred_train_class_ro = np.argmax(y_pred_train_ro, axis=1)\n",
    "\n",
    "y_pred_test_ro = model.predict(X_test_ro)\n",
    "y_pred_test_class_ro = np.argmax(y_pred_test_ro, axis=1)\n",
    "\n",
    "y_test_class_ro = np.argmax(y_test_ro, axis=1)\n",
    "y_train_class_ro = np.argmax(y_train_ro, axis=1)\n",
    "\n",
    "print(\"performances sur train :\\n\", classification_report(y_train_class_ro, y_pred_train_class_ro))\n",
    "print(\"________________________________________________________________\")\n",
    "print(\"performances sur test :\\n\", classification_report(y_test_class_ro, y_pred_test_class_ro))"
   ]
  },
  {
   "cell_type": "markdown",
   "metadata": {},
   "source": [
    "Conclusion :\n",
    "Les performances et l'évolution des métriques sont comparables à celles du modèle entrainé sur le jeu de donnée sous-échantillonné."
   ]
  },
  {
   "cell_type": "markdown",
   "metadata": {},
   "source": [
    "#### Essai sur 50 époques sans callbacks\n",
    "- nombre d'époques = 50\n",
    "- batch_size = 32\n",
    "- fonction d'activation = ReLu\n",
    "- initialiseur = HeNormal\n",
    "##### Objectif : visualiser l'évolution des courbes d'accuracy et de fonction coût"
   ]
  },
  {
   "cell_type": "code",
   "execution_count": 27,
   "metadata": {
    "execution": {
     "iopub.execute_input": "2022-04-22T17:24:42.469105Z",
     "iopub.status.busy": "2022-04-22T17:24:42.468822Z",
     "iopub.status.idle": "2022-04-22T18:06:14.143666Z",
     "shell.execute_reply": "2022-04-22T18:06:14.142556Z",
     "shell.execute_reply.started": "2022-04-22T17:24:42.469077Z"
    },
    "scrolled": false
   },
   "outputs": [
    {
     "name": "stdout",
     "output_type": "stream",
     "text": [
      "Model: \"model_14\"\n",
      "_________________________________________________________________\n",
      " Layer (type)                Output Shape              Param #   \n",
      "=================================================================\n",
      " Input (InputLayer)          [(None, 29)]              0         \n",
      "                                                                 \n",
      " couche1 (Dense)             (None, 256)               7680      \n",
      "                                                                 \n",
      " couche2 (Dense)             (None, 128)               32896     \n",
      "                                                                 \n",
      " couche3 (Dense)             (None, 64)                8256      \n",
      "                                                                 \n",
      " couche4 (Dense)             (None, 32)                2080      \n",
      "                                                                 \n",
      " couche5 (Dense)             (None, 2)                 66        \n",
      "                                                                 \n",
      "=================================================================\n",
      "Total params: 50,978\n",
      "Trainable params: 50,978\n",
      "Non-trainable params: 0\n",
      "_________________________________________________________________\n",
      "Epoch 1/50\n",
      "1765/1765 [==============================] - 5s 2ms/step - loss: 0.4248 - accuracy: 0.7991 - val_loss: 0.6990 - val_accuracy: 0.6422\n",
      "Epoch 2/50\n",
      "1765/1765 [==============================] - 4s 2ms/step - loss: 0.3991 - accuracy: 0.8142 - val_loss: 0.4044 - val_accuracy: 0.8049\n",
      "Epoch 3/50\n",
      "1765/1765 [==============================] - 4s 2ms/step - loss: 0.3888 - accuracy: 0.8174 - val_loss: 0.4885 - val_accuracy: 0.7483\n",
      "Epoch 4/50\n",
      "1765/1765 [==============================] - 4s 2ms/step - loss: 0.3799 - accuracy: 0.8221 - val_loss: 0.4001 - val_accuracy: 0.8024\n",
      "Epoch 5/50\n",
      "1765/1765 [==============================] - 4s 2ms/step - loss: 0.3709 - accuracy: 0.8270 - val_loss: 0.5846 - val_accuracy: 0.7296\n",
      "Epoch 6/50\n",
      "1765/1765 [==============================] - 4s 2ms/step - loss: 0.3620 - accuracy: 0.8310 - val_loss: 0.5552 - val_accuracy: 0.7450\n",
      "Epoch 7/50\n",
      "1765/1765 [==============================] - 4s 2ms/step - loss: 0.3537 - accuracy: 0.8346 - val_loss: 0.4515 - val_accuracy: 0.7906\n",
      "Epoch 8/50\n",
      "1765/1765 [==============================] - 4s 2ms/step - loss: 0.3433 - accuracy: 0.8393 - val_loss: 0.5077 - val_accuracy: 0.7599\n",
      "Epoch 9/50\n",
      "1765/1765 [==============================] - 4s 2ms/step - loss: 0.3332 - accuracy: 0.8448 - val_loss: 0.3880 - val_accuracy: 0.8424\n",
      "Epoch 10/50\n",
      "1765/1765 [==============================] - 4s 2ms/step - loss: 0.3248 - accuracy: 0.8500 - val_loss: 0.3271 - val_accuracy: 0.8798\n",
      "Epoch 11/50\n",
      "1765/1765 [==============================] - 4s 2ms/step - loss: 0.3132 - accuracy: 0.8566 - val_loss: 0.3966 - val_accuracy: 0.8350\n",
      "Epoch 12/50\n",
      "1765/1765 [==============================] - 4s 2ms/step - loss: 0.3022 - accuracy: 0.8608 - val_loss: 0.4533 - val_accuracy: 0.8001\n",
      "Epoch 13/50\n",
      "1765/1765 [==============================] - 4s 2ms/step - loss: 0.2904 - accuracy: 0.8678 - val_loss: 0.3493 - val_accuracy: 0.8629\n",
      "Epoch 14/50\n",
      "1765/1765 [==============================] - 4s 2ms/step - loss: 0.2810 - accuracy: 0.8731 - val_loss: 0.3414 - val_accuracy: 0.8680\n",
      "Epoch 15/50\n",
      "1765/1765 [==============================] - 4s 2ms/step - loss: 0.2705 - accuracy: 0.8786 - val_loss: 0.4002 - val_accuracy: 0.8365\n",
      "Epoch 16/50\n",
      "1765/1765 [==============================] - 4s 2ms/step - loss: 0.2605 - accuracy: 0.8840 - val_loss: 0.3723 - val_accuracy: 0.8426\n",
      "Epoch 17/50\n",
      "1765/1765 [==============================] - 4s 2ms/step - loss: 0.2523 - accuracy: 0.8876 - val_loss: 0.3010 - val_accuracy: 0.8824\n",
      "Epoch 18/50\n",
      "1765/1765 [==============================] - 4s 2ms/step - loss: 0.2410 - accuracy: 0.8934 - val_loss: 0.3280 - val_accuracy: 0.8659\n",
      "Epoch 19/50\n",
      "1765/1765 [==============================] - 4s 2ms/step - loss: 0.2341 - accuracy: 0.8974 - val_loss: 0.3407 - val_accuracy: 0.8612\n",
      "Epoch 20/50\n",
      "1765/1765 [==============================] - 4s 2ms/step - loss: 0.2245 - accuracy: 0.9022 - val_loss: 0.3270 - val_accuracy: 0.8753\n",
      "Epoch 21/50\n",
      "1765/1765 [==============================] - 4s 2ms/step - loss: 0.2179 - accuracy: 0.9059 - val_loss: 0.3008 - val_accuracy: 0.8819\n",
      "Epoch 22/50\n",
      "1765/1765 [==============================] - 4s 2ms/step - loss: 0.2101 - accuracy: 0.9093 - val_loss: 0.3256 - val_accuracy: 0.8677\n",
      "Epoch 23/50\n",
      "1765/1765 [==============================] - 4s 2ms/step - loss: 0.2042 - accuracy: 0.9121 - val_loss: 0.2231 - val_accuracy: 0.9205\n",
      "Epoch 24/50\n",
      "1765/1765 [==============================] - 4s 2ms/step - loss: 0.1950 - accuracy: 0.9163 - val_loss: 0.2831 - val_accuracy: 0.8916\n",
      "Epoch 25/50\n",
      "1765/1765 [==============================] - 4s 2ms/step - loss: 0.1907 - accuracy: 0.9198 - val_loss: 0.2111 - val_accuracy: 0.9265\n",
      "Epoch 26/50\n",
      "1765/1765 [==============================] - 4s 2ms/step - loss: 0.1828 - accuracy: 0.9233 - val_loss: 0.2497 - val_accuracy: 0.9042\n",
      "Epoch 27/50\n",
      "1765/1765 [==============================] - 4s 3ms/step - loss: 0.1780 - accuracy: 0.9251 - val_loss: 0.2596 - val_accuracy: 0.9054\n",
      "Epoch 28/50\n",
      "1765/1765 [==============================] - 4s 2ms/step - loss: 0.1725 - accuracy: 0.9274 - val_loss: 0.2544 - val_accuracy: 0.8950\n",
      "Epoch 29/50\n",
      "1765/1765 [==============================] - 4s 2ms/step - loss: 0.1677 - accuracy: 0.9302 - val_loss: 0.1956 - val_accuracy: 0.9323\n",
      "Epoch 30/50\n",
      "1765/1765 [==============================] - 4s 2ms/step - loss: 0.1616 - accuracy: 0.9331 - val_loss: 0.2232 - val_accuracy: 0.9119\n",
      "Epoch 31/50\n",
      "1765/1765 [==============================] - 4s 2ms/step - loss: 0.1583 - accuracy: 0.9337 - val_loss: 0.1773 - val_accuracy: 0.9401\n",
      "Epoch 32/50\n",
      "1765/1765 [==============================] - 4s 2ms/step - loss: 0.1520 - accuracy: 0.9374 - val_loss: 0.2315 - val_accuracy: 0.9115\n",
      "Epoch 33/50\n",
      "1765/1765 [==============================] - 4s 2ms/step - loss: 0.1489 - accuracy: 0.9372 - val_loss: 0.2425 - val_accuracy: 0.9035\n",
      "Epoch 34/50\n",
      "1765/1765 [==============================] - 4s 2ms/step - loss: 0.1464 - accuracy: 0.9396 - val_loss: 0.1610 - val_accuracy: 0.9422\n",
      "Epoch 35/50\n",
      "1765/1765 [==============================] - 4s 2ms/step - loss: 0.1408 - accuracy: 0.9433 - val_loss: 0.1264 - val_accuracy: 0.9610\n",
      "Epoch 36/50\n",
      "1765/1765 [==============================] - 4s 2ms/step - loss: 0.1374 - accuracy: 0.9434 - val_loss: 0.1442 - val_accuracy: 0.9511\n",
      "Epoch 37/50\n",
      "1765/1765 [==============================] - 4s 2ms/step - loss: 0.1338 - accuracy: 0.9457 - val_loss: 0.2109 - val_accuracy: 0.9205\n",
      "Epoch 38/50\n",
      "1765/1765 [==============================] - 4s 2ms/step - loss: 0.1309 - accuracy: 0.9466 - val_loss: 0.1925 - val_accuracy: 0.9263\n",
      "Epoch 39/50\n",
      "1765/1765 [==============================] - 4s 2ms/step - loss: 0.1247 - accuracy: 0.9497 - val_loss: 0.1645 - val_accuracy: 0.9383\n",
      "Epoch 40/50\n",
      "1765/1765 [==============================] - 4s 2ms/step - loss: 0.1247 - accuracy: 0.9500 - val_loss: 0.2067 - val_accuracy: 0.9204\n",
      "Epoch 41/50\n",
      "1765/1765 [==============================] - 4s 2ms/step - loss: 0.1210 - accuracy: 0.9510 - val_loss: 0.1530 - val_accuracy: 0.9447\n",
      "Epoch 42/50\n",
      "1765/1765 [==============================] - 4s 2ms/step - loss: 0.1170 - accuracy: 0.9530 - val_loss: 0.1920 - val_accuracy: 0.9256\n",
      "Epoch 43/50\n",
      "1765/1765 [==============================] - 4s 2ms/step - loss: 0.1161 - accuracy: 0.9528 - val_loss: 0.1708 - val_accuracy: 0.9381\n",
      "Epoch 44/50\n",
      "1765/1765 [==============================] - 4s 2ms/step - loss: 0.1134 - accuracy: 0.9548 - val_loss: 0.1482 - val_accuracy: 0.9445\n",
      "Epoch 45/50\n",
      "1765/1765 [==============================] - 4s 2ms/step - loss: 0.1095 - accuracy: 0.9559 - val_loss: 0.1376 - val_accuracy: 0.9525\n",
      "Epoch 46/50\n",
      "1765/1765 [==============================] - 4s 2ms/step - loss: 0.1058 - accuracy: 0.9573 - val_loss: 0.1514 - val_accuracy: 0.9399\n",
      "Epoch 47/50\n",
      "1765/1765 [==============================] - 4s 2ms/step - loss: 0.1065 - accuracy: 0.9577 - val_loss: 0.1535 - val_accuracy: 0.9421\n",
      "Epoch 48/50\n",
      "1765/1765 [==============================] - 4s 2ms/step - loss: 0.1051 - accuracy: 0.9576 - val_loss: 0.1298 - val_accuracy: 0.9506\n",
      "Epoch 49/50\n",
      "1765/1765 [==============================] - 4s 2ms/step - loss: 0.1014 - accuracy: 0.9597 - val_loss: 0.1661 - val_accuracy: 0.9343\n",
      "Epoch 50/50\n",
      "1765/1765 [==============================] - 4s 2ms/step - loss: 0.1002 - accuracy: 0.9613 - val_loss: 0.1551 - val_accuracy: 0.9461\n",
      "_________________________________________________________________\n",
      "354/354 [==============================] - 0s 1ms/step - loss: 0.9281 - accuracy: 0.8224\n",
      "Valeur de loss : 0.9281033873558044\n",
      "_________________________________________________________________\n",
      "performances sur train :\n",
      "               precision    recall  f1-score   support\n",
      "\n",
      "           0       0.96      0.97      0.96     35295\n",
      "           1       0.97      0.96      0.96     35295\n",
      "\n",
      "    accuracy                           0.96     70590\n",
      "   macro avg       0.96      0.96      0.96     70590\n",
      "weighted avg       0.96      0.96      0.96     70590\n",
      "\n",
      "________________________________________________________________\n",
      "performances sur test :\n",
      "               precision    recall  f1-score   support\n",
      "\n",
      "           0       0.89      0.88      0.89      8842\n",
      "           1       0.59      0.62      0.61      2471\n",
      "\n",
      "    accuracy                           0.82     11313\n",
      "   macro avg       0.74      0.75      0.75     11313\n",
      "weighted avg       0.83      0.82      0.82     11313\n",
      "\n",
      "Wall time: 3min 26s\n"
     ]
    },
    {
     "data": {
      "image/png": "[encoded data removed]",
      "text/plain": [
       "<Figure size 1080x360 with 2 Axes>"
      ]
     },
     "metadata": {
      "needs_background": "light"
     },
     "output_type": "display_data"
    }
   ],
   "source": [
    "%%time\n",
    "\n",
    "#inputs des hyperparamètres\n",
    "epochs = 50\n",
    "batch_size = 32\n",
    "u1 = 256\n",
    "u2 = 128\n",
    "u3 = 64\n",
    "u4 = 32\n",
    "activation = 'relu'\n",
    "initializer = tf.keras.initializers.HeNormal()\n",
    "\n",
    "#construction du modèle\n",
    "inputs = Input(shape = X_train.shape[1], name='Input')\n",
    "\n",
    "dense1 = Dense(units = u1, activation = activation, kernel_initializer = initializer, name = 'couche1')\n",
    "dense2 = Dense(units = u2, activation = activation, kernel_initializer = initializer, name = 'couche2')\n",
    "dense3 = Dense(units = u3, activation = activation, kernel_initializer = initializer, name = 'couche3')\n",
    "dense4 = Dense(units = u4, activation = activation, kernel_initializer = initializer, name = 'couche4')\n",
    "dense5 = Dense(units = 2, activation = 'softmax', kernel_initializer = initializer, name = 'couche5')\n",
    "\n",
    "x = dense1(inputs)\n",
    "x = dense2(x)\n",
    "x = dense3(x)\n",
    "x = dense4(x)\n",
    "outputs = dense5(x)\n",
    "\n",
    "model = Model(inputs = inputs, outputs = outputs)\n",
    "model.summary()\n",
    "\n",
    "#compilation et entrainement du modèle\n",
    "model.compile(loss = 'BinaryCrossentropy', \n",
    "              optimizer = 'adam', \n",
    "              metrics = ['accuracy'])\n",
    "\n",
    "train_hist = model.fit(X_train_ro, y_train_ro, \n",
    "                       epochs = epochs, \n",
    "                       batch_size = batch_size, \n",
    "                       validation_split = 0.2,\n",
    "                       verbose = True)\n",
    "\n",
    "#visualisation de l'évolution de la fonction coût\n",
    "plt.figure(figsize=(15,5))\n",
    "plt.subplot(121)\n",
    "plt.plot(train_hist.history['loss'], label='loss')\n",
    "plt.plot(train_hist.history['val_loss'], label='val_loss')\n",
    "plt.xlabel('Epoch')\n",
    "plt.ylabel('Loss')\n",
    "plt.legend()\n",
    "plt.grid(True)\n",
    "plt.title(\"Evolution de la fonction coût\");\n",
    "\n",
    "#visualisation de l'évolution de l'accuracy\n",
    "plt.subplot(122)\n",
    "plt.plot(train_hist.history['accuracy'], label='train')\n",
    "plt.plot(train_hist.history['val_accuracy'], label='validation')\n",
    "plt.xlabel('Epoch')\n",
    "plt.ylabel('Accuracy')\n",
    "plt.legend()\n",
    "plt.grid(True)\n",
    "plt.title(\"Evolution de l'accuracy\");\n",
    "print(\"_________________________________________________________________\")\n",
    "\n",
    "#évaluation du modèle\n",
    "print(\"Valeur de loss :\", model.evaluate(X_test_ro, y_test_ro)[0])\n",
    "print(\"_________________________________________________________________\")\n",
    "\n",
    "y_pred_train_ro = model.predict(X_train_ro)\n",
    "y_pred_train_class_ro = np.argmax(y_pred_train_ro, axis=1)\n",
    "\n",
    "y_pred_test_ro = model.predict(X_test_ro)\n",
    "y_pred_test_class_ro = np.argmax(y_pred_test_ro, axis=1)\n",
    "\n",
    "y_test_class_ro = np.argmax(y_test_ro, axis=1)\n",
    "y_train_class_ro = np.argmax(y_train_ro, axis=1)\n",
    "\n",
    "print(\"performances sur train :\\n\", classification_report(y_train_class_ro, y_pred_train_class_ro))\n",
    "print(\"________________________________________________________________\")\n",
    "print(\"performances sur test :\\n\", classification_report(y_test_class_ro, y_pred_test_class_ro))"
   ]
  },
  {
   "cell_type": "markdown",
   "metadata": {},
   "source": [
    "Conslusion :\n",
    "\n",
    "Même observation que pour le modèle entrainé sur le jeu de données sous-échantillonné : les métriques se stabilisent mal sur l'échantillon de validation."
   ]
  },
  {
   "cell_type": "markdown",
   "metadata": {},
   "source": [
    "## Conclusion pour les modèles Dense de Keras"
   ]
  },
  {
   "cell_type": "markdown",
   "metadata": {},
   "source": [
    "- Sur un jeu de données rééchantillonné, les modèles Dense obtiennent des performances similaires à celles des meilleurs modèles de machine learning classiques, sans toutefois les dépasser.\n",
    "- L'ajout de couches et de neurones supplémentaires n'améliorent pas les scores de façon significative et les écarts de performance sont aléatoires (légères variations d'un entrainement à l'autre). Les différentes fonctions d'activation et initialiseurs couramment utilisés donnent des performances similaires.\n",
    "- Le rééchantillonnage des classes n'améliore pas les performances des modèles qui sont similaires. On observe les mêmes différences entre précision et rappel que pour les modèles de machine learning classiques. L'évolution des métriques au cours des époques est plus erratique après rééchantillonnage."
   ]
  },
  {
   "cell_type": "markdown",
   "metadata": {},
   "source": [
    "<hr>\n",
    "<h1> 2 - Modèles FastAI </h1>\n",
    "<hr>"
   ]
  },
  {
   "cell_type": "markdown",
   "metadata": {},
   "source": [
    "## Installation des packages nécessaires à l'utilisation de FastAI"
   ]
  },
  {
   "cell_type": "code",
   "execution_count": 1,
   "metadata": {
    "execution": {
     "iopub.execute_input": "2022-05-09T19:20:46.439430Z",
     "iopub.status.busy": "2022-05-09T19:20:46.439091Z",
     "iopub.status.idle": "2022-05-09T19:22:38.238670Z",
     "shell.execute_reply": "2022-05-09T19:22:38.237818Z",
     "shell.execute_reply.started": "2022-05-09T19:20:46.439342Z"
    }
   },
   "outputs": [
    {
     "name": "stdout",
     "output_type": "stream",
     "text": [
      "Looking in links: https://download.pytorch.org/whl/torch_stable.html\n",
      "Collecting torch==1.6.0+cu101\n",
      "  Downloading https://download.pytorch.org/whl/cu101/torch-1.6.0%2Bcu101-cp37-cp37m-linux_x86_64.whl (708.0 MB)\n",
      "\u001b[2K     \u001b[90m━━━━━━━━━━━━━━━━━━━━━━━━━━━━━━━━━━━━━━━\u001b[0m \u001b[32m708.0/708.0 MB\u001b[0m \u001b[31m1.4 MB/s\u001b[0m eta \u001b[36m0:00:00\u001b[0m00:01\u001b[0m00:02\u001b[0m\n",
      "\u001b[?25hCollecting torchvision==0.7.0+cu101\n",
      "  Downloading https://download.pytorch.org/whl/cu101/torchvision-0.7.0%2Bcu101-cp37-cp37m-linux_x86_64.whl (5.9 MB)\n",
      "\u001b[2K     \u001b[90m━━━━━━━━━━━━━━━━━━━━━━━━━━━━━━━━━━━━━━━━\u001b[0m \u001b[32m5.9/5.9 MB\u001b[0m \u001b[31m11.7 MB/s\u001b[0m eta \u001b[36m0:00:00\u001b[0m00:01\u001b[0m00:01\u001b[0m\n",
      "\u001b[?25hRequirement already satisfied: future in /opt/conda/lib/python3.7/site-packages (from torch==1.6.0+cu101) (0.18.2)\n",
      "Requirement already satisfied: numpy in /opt/conda/lib/python3.7/site-packages (from torch==1.6.0+cu101) (1.21.6)\n",
      "Requirement already satisfied: pillow>=4.1.1 in /opt/conda/lib/python3.7/site-packages (from torchvision==0.7.0+cu101) (9.0.1)\n",
      "Installing collected packages: torch, torchvision\n",
      "  Attempting uninstall: torch\n",
      "    Found existing installation: torch 1.9.1\n",
      "    Uninstalling torch-1.9.1:\n",
      "      Successfully uninstalled torch-1.9.1\n",
      "  Attempting uninstall: torchvision\n",
      "    Found existing installation: torchvision 0.10.1\n",
      "    Uninstalling torchvision-0.10.1:\n",
      "      Successfully uninstalled torchvision-0.10.1\n",
      "\u001b[31mERROR: pip's dependency resolver does not currently take into account all the packages that are installed. This behaviour is the source of the following dependency conflicts.\n",
      "pytorch-lightning 1.6.1 requires torch>=1.8.*, but you have torch 1.6.0+cu101 which is incompatible.\n",
      "fastai 2.6.0 requires torch<1.12,>=1.7.0, but you have torch 1.6.0+cu101 which is incompatible.\n",
      "fastai 2.6.0 requires torchvision>=0.8.2, but you have torchvision 0.7.0+cu101 which is incompatible.\n",
      "fairscale 0.4.6 requires torch>=1.8.0, but you have torch 1.6.0+cu101 which is incompatible.\n",
      "allennlp 2.9.3 requires torchvision<0.13.0,>=0.8.1, but you have torchvision 0.7.0+cu101 which is incompatible.\u001b[0m\u001b[31m\n",
      "\u001b[0mSuccessfully installed torch-1.6.0+cu101 torchvision-0.7.0+cu101\n",
      "\u001b[33mWARNING: Running pip as the 'root' user can result in broken permissions and conflicting behaviour with the system package manager. It is recommended to use a virtual environment instead: https://pip.pypa.io/warnings/venv\u001b[0m\u001b[33m\n",
      "\u001b[0m"
     ]
    }
   ],
   "source": [
    "!pip install torch==1.6.0+cu101 torchvision==0.7.0+cu101 -f https://download.pytorch.org/whl/torch_stable.html"
   ]
  },
  {
   "cell_type": "code",
   "execution_count": 2,
   "metadata": {
    "execution": {
     "iopub.execute_input": "2022-05-09T19:22:38.241120Z",
     "iopub.status.busy": "2022-05-09T19:22:38.240851Z",
     "iopub.status.idle": "2022-05-09T19:25:52.982810Z",
     "shell.execute_reply": "2022-05-09T19:25:52.981946Z",
     "shell.execute_reply.started": "2022-05-09T19:22:38.241072Z"
    }
   },
   "outputs": [
    {
     "name": "stdout",
     "output_type": "stream",
     "text": [
      "Requirement already satisfied: kornia in /opt/conda/lib/python3.7/site-packages (0.5.8)\n",
      "Collecting kornia\n",
      "  Downloading kornia-0.6.4-py2.py3-none-any.whl (493 kB)\n",
      "\u001b[2K     \u001b[90m━━━━━━━━━━━━━━━━━━━━━━━━━━━━━━━━━━━━━\u001b[0m \u001b[32m493.4/493.4 KB\u001b[0m \u001b[31m674.9 kB/s\u001b[0m eta \u001b[36m0:00:00\u001b[0ma \u001b[36m0:00:01\u001b[0m\n",
      "\u001b[?25hRequirement already satisfied: packaging in /opt/conda/lib/python3.7/site-packages (from kornia) (21.3)\n",
      "Collecting torch>=1.8.1\n",
      "  Downloading torch-1.11.0-cp37-cp37m-manylinux1_x86_64.whl (750.6 MB)\n",
      "\u001b[2K     \u001b[90m━━━━━━━━━━━━━━━━━━━━━━━━━━━━━━━━━━━━━━━\u001b[0m \u001b[32m750.6/750.6 MB\u001b[0m \u001b[31m1.5 MB/s\u001b[0m eta \u001b[36m0:00:00\u001b[0m00:01\u001b[0m00:02\u001b[0m\n",
      "\u001b[?25hRequirement already satisfied: typing-extensions in /opt/conda/lib/python3.7/site-packages (from torch>=1.8.1->kornia) (4.2.0)\n",
      "Requirement already satisfied: pyparsing!=3.0.5,>=2.0.2 in /opt/conda/lib/python3.7/site-packages (from packaging->kornia) (3.0.7)\n",
      "Installing collected packages: torch, kornia\n",
      "  Attempting uninstall: torch\n",
      "    Found existing installation: torch 1.6.0+cu101\n",
      "    Uninstalling torch-1.6.0+cu101:\n",
      "      Successfully uninstalled torch-1.6.0+cu101\n",
      "  Attempting uninstall: kornia\n",
      "    Found existing installation: kornia 0.5.8\n",
      "    Uninstalling kornia-0.5.8:\n",
      "      Successfully uninstalled kornia-0.5.8\n",
      "\u001b[31mERROR: pip's dependency resolver does not currently take into account all the packages that are installed. This behaviour is the source of the following dependency conflicts.\n",
      "torchvision 0.7.0+cu101 requires torch==1.6.0, but you have torch 1.11.0 which is incompatible.\n",
      "fastai 2.6.0 requires torchvision>=0.8.2, but you have torchvision 0.7.0+cu101 which is incompatible.\n",
      "allennlp 2.9.3 requires torchvision<0.13.0,>=0.8.1, but you have torchvision 0.7.0+cu101 which is incompatible.\u001b[0m\u001b[31m\n",
      "\u001b[0mSuccessfully installed kornia-0.6.4 torch-1.11.0\n",
      "\u001b[33mWARNING: Running pip as the 'root' user can result in broken permissions and conflicting behaviour with the system package manager. It is recommended to use a virtual environment instead: https://pip.pypa.io/warnings/venv\u001b[0m\u001b[33m\n",
      "\u001b[0mCollecting allennlp==1.1.0.rc4\n",
      "  Downloading allennlp-1.1.0rc4-py3-none-any.whl (484 kB)\n",
      "\u001b[2K     \u001b[90m━━━━━━━━━━━━━━━━━━━━━━━━━━━━━━━━━━━━━\u001b[0m \u001b[32m484.4/484.4 KB\u001b[0m \u001b[31m763.1 kB/s\u001b[0m eta \u001b[36m0:00:00\u001b[0ma \u001b[36m0:00:01\u001b[0m\n",
      "\u001b[?25hCollecting torch<1.7.0,>=1.6.0\n",
      "  Downloading torch-1.6.0-cp37-cp37m-manylinux1_x86_64.whl (748.8 MB)\n",
      "\u001b[2K     \u001b[90m━━━━━━━━━━━━━━━━━━━━━━━━━━━━━━━━━━━━━━━\u001b[0m \u001b[32m748.8/748.8 MB\u001b[0m \u001b[31m1.6 MB/s\u001b[0m eta \u001b[36m0:00:00\u001b[0m00:01\u001b[0m00:02\u001b[0m\n",
      "\u001b[?25hRequirement already satisfied: pytest in /opt/conda/lib/python3.7/site-packages (from allennlp==1.1.0.rc4) (7.1.2)\n",
      "Requirement already satisfied: numpy in /opt/conda/lib/python3.7/site-packages (from allennlp==1.1.0.rc4) (1.21.6)\n",
      "Collecting transformers<3.1,>=3.0\n",
      "  Downloading transformers-3.0.2-py3-none-any.whl (769 kB)\n",
      "\u001b[2K     \u001b[90m━━━━━━━━━━━━━━━━━━━━━━━━━━━━━━━━━━━━━━\u001b[0m \u001b[32m769.0/769.0 KB\u001b[0m \u001b[31m41.3 MB/s\u001b[0m eta \u001b[36m0:00:00\u001b[0m\n",
      "\u001b[?25hRequirement already satisfied: nltk in /opt/conda/lib/python3.7/site-packages (from allennlp==1.1.0.rc4) (3.2.4)\n",
      "Requirement already satisfied: boto3<2.0,>=1.14 in /opt/conda/lib/python3.7/site-packages (from allennlp==1.1.0.rc4) (1.22.0)\n",
      "Requirement already satisfied: scipy in /opt/conda/lib/python3.7/site-packages (from allennlp==1.1.0.rc4) (1.7.3)\n",
      "Collecting overrides==3.1.0\n",
      "  Downloading overrides-3.1.0.tar.gz (11 kB)\n",
      "  Preparing metadata (setup.py) ... \u001b[?25ldone\n",
      "\u001b[?25hCollecting spacy<2.4,>=2.1.0\n",
      "  Downloading spacy-2.3.7-cp37-cp37m-manylinux_2_17_x86_64.manylinux2014_x86_64.whl (10.4 MB)\n",
      "\u001b[2K     \u001b[90m━━━━━━━━━━━━━━━━━━━━━━━━━━━━━━━━━━━━━━━━\u001b[0m \u001b[32m10.4/10.4 MB\u001b[0m \u001b[31m16.9 MB/s\u001b[0m eta \u001b[36m0:00:00\u001b[0m00:01\u001b[0m0:01\u001b[0m\n",
      "\u001b[?25hRequirement already satisfied: jsonnet>=0.10.0 in /opt/conda/lib/python3.7/site-packages (from allennlp==1.1.0.rc4) (0.18.0)\n",
      "Requirement already satisfied: h5py in /opt/conda/lib/python3.7/site-packages (from allennlp==1.1.0.rc4) (3.1.0)\n",
      "Requirement already satisfied: scikit-learn in /opt/conda/lib/python3.7/site-packages (from allennlp==1.1.0.rc4) (1.0.2)\n",
      "Collecting filelock<3.1,>=3.0\n",
      "  Downloading filelock-3.0.12-py3-none-any.whl (7.6 kB)\n",
      "Requirement already satisfied: tqdm>=4.19 in /opt/conda/lib/python3.7/site-packages (from allennlp==1.1.0.rc4) (4.63.0)\n",
      "Requirement already satisfied: tensorboardX>=1.2 in /opt/conda/lib/python3.7/site-packages (from allennlp==1.1.0.rc4) (2.5)\n",
      "Collecting jsonpickle\n",
      "  Downloading jsonpickle-2.1.0-py2.py3-none-any.whl (38 kB)\n",
      "Requirement already satisfied: requests>=2.18 in /opt/conda/lib/python3.7/site-packages (from allennlp==1.1.0.rc4) (2.27.1)\n",
      "Requirement already satisfied: jmespath<2.0.0,>=0.7.1 in /opt/conda/lib/python3.7/site-packages (from boto3<2.0,>=1.14->allennlp==1.1.0.rc4) (1.0.0)\n",
      "Requirement already satisfied: botocore<1.26.0,>=1.25.0 in /opt/conda/lib/python3.7/site-packages (from boto3<2.0,>=1.14->allennlp==1.1.0.rc4) (1.25.0)\n",
      "Requirement already satisfied: s3transfer<0.6.0,>=0.5.0 in /opt/conda/lib/python3.7/site-packages (from boto3<2.0,>=1.14->allennlp==1.1.0.rc4) (0.5.2)\n",
      "Requirement already satisfied: urllib3<1.27,>=1.21.1 in /opt/conda/lib/python3.7/site-packages (from requests>=2.18->allennlp==1.1.0.rc4) (1.26.8)\n",
      "Requirement already satisfied: idna<4,>=2.5 in /opt/conda/lib/python3.7/site-packages (from requests>=2.18->allennlp==1.1.0.rc4) (3.3)\n",
      "Requirement already satisfied: charset-normalizer~=2.0.0 in /opt/conda/lib/python3.7/site-packages (from requests>=2.18->allennlp==1.1.0.rc4) (2.0.12)\n",
      "Requirement already satisfied: certifi>=2017.4.17 in /opt/conda/lib/python3.7/site-packages (from requests>=2.18->allennlp==1.1.0.rc4) (2021.10.8)\n",
      "Collecting catalogue<1.1.0,>=0.0.7\n",
      "  Downloading catalogue-1.0.0-py2.py3-none-any.whl (7.7 kB)\n",
      "Requirement already satisfied: murmurhash<1.1.0,>=0.28.0 in /opt/conda/lib/python3.7/site-packages (from spacy<2.4,>=2.1.0->allennlp==1.1.0.rc4) (1.0.7)\n",
      "Requirement already satisfied: wasabi<1.1.0,>=0.4.0 in /opt/conda/lib/python3.7/site-packages (from spacy<2.4,>=2.1.0->allennlp==1.1.0.rc4) (0.9.1)\n",
      "Requirement already satisfied: preshed<3.1.0,>=3.0.2 in /opt/conda/lib/python3.7/site-packages (from spacy<2.4,>=2.1.0->allennlp==1.1.0.rc4) (3.0.6)\n",
      "Requirement already satisfied: cymem<2.1.0,>=2.0.2 in /opt/conda/lib/python3.7/site-packages (from spacy<2.4,>=2.1.0->allennlp==1.1.0.rc4) (2.0.6)\n",
      "Collecting srsly<1.1.0,>=1.0.2\n",
      "  Downloading srsly-1.0.5-cp37-cp37m-manylinux2014_x86_64.whl (184 kB)\n",
      "\u001b[2K     \u001b[90m━━━━━━━━━━━━━━━━━━━━━━━━━━━━━━━━━━━━━━\u001b[0m \u001b[32m184.3/184.3 KB\u001b[0m \u001b[31m18.5 MB/s\u001b[0m eta \u001b[36m0:00:00\u001b[0m\n",
      "\u001b[?25hRequirement already satisfied: blis<0.8.0,>=0.4.0 in /opt/conda/lib/python3.7/site-packages (from spacy<2.4,>=2.1.0->allennlp==1.1.0.rc4) (0.7.7)\n",
      "Collecting plac<1.2.0,>=0.9.6\n",
      "  Downloading plac-1.1.3-py2.py3-none-any.whl (20 kB)\n",
      "Requirement already satisfied: setuptools in /opt/conda/lib/python3.7/site-packages (from spacy<2.4,>=2.1.0->allennlp==1.1.0.rc4) (59.8.0)\n",
      "Collecting thinc<7.5.0,>=7.4.1\n",
      "  Downloading thinc-7.4.5-cp37-cp37m-manylinux2014_x86_64.whl (1.0 MB)\n",
      "\u001b[2K     \u001b[90m━━━━━━━━━━━━━━━━━━━━━━━━━━━━━━━━━━━━━━━━\u001b[0m \u001b[32m1.0/1.0 MB\u001b[0m \u001b[31m42.7 MB/s\u001b[0m eta \u001b[36m0:00:00\u001b[0m\n",
      "\u001b[?25hRequirement already satisfied: six in /opt/conda/lib/python3.7/site-packages (from tensorboardX>=1.2->allennlp==1.1.0.rc4) (1.16.0)\n",
      "Requirement already satisfied: protobuf>=3.8.0 in /opt/conda/lib/python3.7/site-packages (from tensorboardX>=1.2->allennlp==1.1.0.rc4) (3.19.4)\n",
      "Requirement already satisfied: future in /opt/conda/lib/python3.7/site-packages (from torch<1.7.0,>=1.6.0->allennlp==1.1.0.rc4) (0.18.2)\n",
      "Requirement already satisfied: sacremoses in /opt/conda/lib/python3.7/site-packages (from transformers<3.1,>=3.0->allennlp==1.1.0.rc4) (0.0.49)\n",
      "Requirement already satisfied: packaging in /opt/conda/lib/python3.7/site-packages (from transformers<3.1,>=3.0->allennlp==1.1.0.rc4) (21.3)\n",
      "Requirement already satisfied: sentencepiece!=0.1.92 in /opt/conda/lib/python3.7/site-packages (from transformers<3.1,>=3.0->allennlp==1.1.0.rc4) (0.1.96)\n",
      "Collecting tokenizers==0.8.1.rc1\n",
      "  Downloading tokenizers-0.8.1rc1-cp37-cp37m-manylinux1_x86_64.whl (3.0 MB)\n",
      "\u001b[2K     \u001b[90m━━━━━━━━━━━━━━━━━━━━━━━━━━━━━━━━━━━━━━━━\u001b[0m \u001b[32m3.0/3.0 MB\u001b[0m \u001b[31m50.6 MB/s\u001b[0m eta \u001b[36m0:00:00\u001b[0ma \u001b[36m0:00:01\u001b[0m\n",
      "\u001b[?25hRequirement already satisfied: regex!=2019.12.17 in /opt/conda/lib/python3.7/site-packages (from transformers<3.1,>=3.0->allennlp==1.1.0.rc4) (2021.11.10)\n",
      "Requirement already satisfied: cached-property in /opt/conda/lib/python3.7/site-packages (from h5py->allennlp==1.1.0.rc4) (1.5.2)\n",
      "Requirement already satisfied: importlib-metadata in /opt/conda/lib/python3.7/site-packages (from jsonpickle->allennlp==1.1.0.rc4) (4.11.3)\n",
      "Requirement already satisfied: iniconfig in /opt/conda/lib/python3.7/site-packages (from pytest->allennlp==1.1.0.rc4) (1.1.1)\n",
      "Requirement already satisfied: pluggy<2.0,>=0.12 in /opt/conda/lib/python3.7/site-packages (from pytest->allennlp==1.1.0.rc4) (1.0.0)\n",
      "Requirement already satisfied: py>=1.8.2 in /opt/conda/lib/python3.7/site-packages (from pytest->allennlp==1.1.0.rc4) (1.11.0)\n",
      "Requirement already satisfied: attrs>=19.2.0 in /opt/conda/lib/python3.7/site-packages (from pytest->allennlp==1.1.0.rc4) (21.4.0)\n",
      "Requirement already satisfied: tomli>=1.0.0 in /opt/conda/lib/python3.7/site-packages (from pytest->allennlp==1.1.0.rc4) (2.0.1)\n",
      "Requirement already satisfied: joblib>=0.11 in /opt/conda/lib/python3.7/site-packages (from scikit-learn->allennlp==1.1.0.rc4) (1.0.1)\n",
      "Requirement already satisfied: threadpoolctl>=2.0.0 in /opt/conda/lib/python3.7/site-packages (from scikit-learn->allennlp==1.1.0.rc4) (3.1.0)\n",
      "Requirement already satisfied: python-dateutil<3.0.0,>=2.1 in /opt/conda/lib/python3.7/site-packages (from botocore<1.26.0,>=1.25.0->boto3<2.0,>=1.14->allennlp==1.1.0.rc4) (2.8.2)\n",
      "Requirement already satisfied: zipp>=0.5 in /opt/conda/lib/python3.7/site-packages (from importlib-metadata->jsonpickle->allennlp==1.1.0.rc4) (3.7.0)\n",
      "Requirement already satisfied: typing-extensions>=3.6.4 in /opt/conda/lib/python3.7/site-packages (from importlib-metadata->jsonpickle->allennlp==1.1.0.rc4) (4.2.0)\n",
      "Requirement already satisfied: pyparsing!=3.0.5,>=2.0.2 in /opt/conda/lib/python3.7/site-packages (from packaging->transformers<3.1,>=3.0->allennlp==1.1.0.rc4) (3.0.7)\n",
      "Requirement already satisfied: click in /opt/conda/lib/python3.7/site-packages (from sacremoses->transformers<3.1,>=3.0->allennlp==1.1.0.rc4) (8.0.4)\n",
      "Building wheels for collected packages: overrides\n",
      "  Building wheel for overrides (setup.py) ... \u001b[?25ldone\n",
      "\u001b[?25h  Created wheel for overrides: filename=overrides-3.1.0-py3-none-any.whl size=10187 sha256=4b967e1f11f6b2d26483dd197515100a7edf6828ed35517ba7213247e86bf435\n",
      "  Stored in directory: /root/.cache/pip/wheels/3a/0d/38/01a9bc6e20dcfaf0a6a7b552d03137558ba1c38aea47644682\n",
      "Successfully built overrides\n",
      "Installing collected packages: tokenizers, srsly, plac, overrides, filelock, torch, jsonpickle, catalogue, thinc, transformers, spacy, allennlp\n",
      "  Attempting uninstall: tokenizers\n",
      "    Found existing installation: tokenizers 0.12.1\n",
      "    Uninstalling tokenizers-0.12.1:\n",
      "      Successfully uninstalled tokenizers-0.12.1\n",
      "  Attempting uninstall: srsly\n",
      "    Found existing installation: srsly 2.4.3\n",
      "    Uninstalling srsly-2.4.3:\n",
      "      Successfully uninstalled srsly-2.4.3\n",
      "  Attempting uninstall: overrides\n",
      "    Found existing installation: overrides 6.1.0\n",
      "    Uninstalling overrides-6.1.0:\n",
      "      Successfully uninstalled overrides-6.1.0\n",
      "  Attempting uninstall: filelock\n",
      "    Found existing installation: filelock 3.6.0\n",
      "    Uninstalling filelock-3.6.0:\n",
      "      Successfully uninstalled filelock-3.6.0\n",
      "  Attempting uninstall: torch\n",
      "    Found existing installation: torch 1.11.0\n",
      "    Uninstalling torch-1.11.0:\n",
      "      Successfully uninstalled torch-1.11.0\n",
      "  Attempting uninstall: catalogue\n",
      "    Found existing installation: catalogue 2.0.7\n",
      "    Uninstalling catalogue-2.0.7:\n",
      "      Successfully uninstalled catalogue-2.0.7\n",
      "  Attempting uninstall: thinc\n",
      "    Found existing installation: thinc 8.0.15\n",
      "    Uninstalling thinc-8.0.15:\n",
      "      Successfully uninstalled thinc-8.0.15\n",
      "  Attempting uninstall: transformers\n",
      "    Found existing installation: transformers 4.18.0\n",
      "    Uninstalling transformers-4.18.0:\n",
      "      Successfully uninstalled transformers-4.18.0\n",
      "  Attempting uninstall: spacy\n",
      "    Found existing installation: spacy 3.2.4\n",
      "    Uninstalling spacy-3.2.4:\n",
      "      Successfully uninstalled spacy-3.2.4\n",
      "  Attempting uninstall: allennlp\n",
      "    Found existing installation: allennlp 2.9.3\n",
      "    Uninstalling allennlp-2.9.3:\n",
      "      Successfully uninstalled allennlp-2.9.3\n",
      "\u001b[31mERROR: pip's dependency resolver does not currently take into account all the packages that are installed. This behaviour is the source of the following dependency conflicts.\n",
      "virtualenv 20.14.1 requires filelock<4,>=3.2, but you have filelock 3.0.12 which is incompatible.\n",
      "pytorch-lightning 1.6.1 requires torch>=1.8.*, but you have torch 1.6.0 which is incompatible.\n",
      "kornia 0.6.4 requires torch>=1.8.1, but you have torch 1.6.0 which is incompatible.\n",
      "google-cloud-pubsublite 1.4.1 requires overrides<7.0.0,>=6.0.1, but you have overrides 3.1.0 which is incompatible.\n",
      "fastai 2.6.0 requires torch<1.12,>=1.7.0, but you have torch 1.6.0 which is incompatible.\n",
      "fastai 2.6.0 requires torchvision>=0.8.2, but you have torchvision 0.7.0+cu101 which is incompatible.\n",
      "fairscale 0.4.6 requires torch>=1.8.0, but you have torch 1.6.0 which is incompatible.\n",
      "en-core-web-sm 3.2.0 requires spacy<3.3.0,>=3.2.0, but you have spacy 2.3.7 which is incompatible.\n",
      "en-core-web-lg 3.2.0 requires spacy<3.3.0,>=3.2.0, but you have spacy 2.3.7 which is incompatible.\n",
      "cached-path 1.1.2 requires filelock<3.7,>=3.4, but you have filelock 3.0.12 which is incompatible.\u001b[0m\u001b[31m\n",
      "\u001b[0mSuccessfully installed allennlp-1.1.0rc4 catalogue-1.0.0 filelock-3.0.12 jsonpickle-2.1.0 overrides-3.1.0 plac-1.1.3 spacy-2.3.7 srsly-1.0.5 thinc-7.4.5 tokenizers-0.8.1rc1 torch-1.6.0 transformers-3.0.2\n",
      "\u001b[33mWARNING: Running pip as the 'root' user can result in broken permissions and conflicting behaviour with the system package manager. It is recommended to use a virtual environment instead: https://pip.pypa.io/warnings/venv\u001b[0m\u001b[33m\n",
      "\u001b[0m"
     ]
    }
   ],
   "source": [
    "!pip install --upgrade kornia\n",
    "!pip install allennlp==1.1.0.rc4"
   ]
  },
  {
   "cell_type": "code",
   "execution_count": 3,
   "metadata": {
    "execution": {
     "iopub.execute_input": "2022-05-09T19:25:52.986040Z",
     "iopub.status.busy": "2022-05-09T19:25:52.985434Z",
     "iopub.status.idle": "2022-05-09T19:26:36.998344Z",
     "shell.execute_reply": "2022-05-09T19:26:36.997382Z",
     "shell.execute_reply.started": "2022-05-09T19:25:52.985993Z"
    }
   },
   "outputs": [
    {
     "name": "stdout",
     "output_type": "stream",
     "text": [
      "Requirement already satisfied: fastai in /opt/conda/lib/python3.7/site-packages (2.6.0)\n",
      "Collecting fastai\n",
      "  Downloading fastai-2.6.3-py3-none-any.whl (197 kB)\n",
      "\u001b[2K     \u001b[90m━━━━━━━━━━━━━━━━━━━━━━━━━━━━━━━━━━━━━\u001b[0m \u001b[32m197.9/197.9 KB\u001b[0m \u001b[31m444.9 kB/s\u001b[0m eta \u001b[36m0:00:00\u001b[0m00:01\u001b[0m00:01\u001b[0m\n",
      "\u001b[?25hRequirement already satisfied: pillow>6.0.0 in /opt/conda/lib/python3.7/site-packages (from fastai) (9.0.1)\n",
      "Requirement already satisfied: fastdownload<2,>=0.0.5 in /opt/conda/lib/python3.7/site-packages (from fastai) (0.0.5)\n",
      "Requirement already satisfied: fastcore<1.5,>=1.3.27 in /opt/conda/lib/python3.7/site-packages (from fastai) (1.4.2)\n",
      "Requirement already satisfied: scikit-learn in /opt/conda/lib/python3.7/site-packages (from fastai) (1.0.2)\n",
      "Requirement already satisfied: pyyaml in /opt/conda/lib/python3.7/site-packages (from fastai) (6.0)\n",
      "Requirement already satisfied: fastprogress>=0.2.4 in /opt/conda/lib/python3.7/site-packages (from fastai) (1.0.2)\n",
      "Requirement already satisfied: scipy in /opt/conda/lib/python3.7/site-packages (from fastai) (1.7.3)\n",
      "Requirement already satisfied: pandas in /opt/conda/lib/python3.7/site-packages (from fastai) (1.3.5)\n",
      "Collecting torchvision>=0.8.2\n",
      "  Downloading torchvision-0.12.0-cp37-cp37m-manylinux1_x86_64.whl (21.0 MB)\n",
      "\u001b[2K     \u001b[90m━━━━━━━━━━━━━━━━━━━━━━━━━━━━━━━━━━━━━━━━\u001b[0m \u001b[32m21.0/21.0 MB\u001b[0m \u001b[31m11.5 MB/s\u001b[0m eta \u001b[36m0:00:00\u001b[0m00:01\u001b[0m00:01\u001b[0m\n",
      "\u001b[?25hCollecting torch<1.12,>=1.7.0\n",
      "  Using cached torch-1.11.0-cp37-cp37m-manylinux1_x86_64.whl (750.6 MB)\n",
      "Requirement already satisfied: pip in /opt/conda/lib/python3.7/site-packages (from fastai) (22.0.4)\n",
      "Requirement already satisfied: spacy<4 in /opt/conda/lib/python3.7/site-packages (from fastai) (2.3.7)\n",
      "Requirement already satisfied: requests in /opt/conda/lib/python3.7/site-packages (from fastai) (2.27.1)\n",
      "Requirement already satisfied: matplotlib in /opt/conda/lib/python3.7/site-packages (from fastai) (3.5.1)\n",
      "Requirement already satisfied: packaging in /opt/conda/lib/python3.7/site-packages (from fastai) (21.3)\n",
      "Requirement already satisfied: wasabi<1.1.0,>=0.4.0 in /opt/conda/lib/python3.7/site-packages (from spacy<4->fastai) (0.9.1)\n",
      "Requirement already satisfied: murmurhash<1.1.0,>=0.28.0 in /opt/conda/lib/python3.7/site-packages (from spacy<4->fastai) (1.0.7)\n",
      "Requirement already satisfied: blis<0.8.0,>=0.4.0 in /opt/conda/lib/python3.7/site-packages (from spacy<4->fastai) (0.7.7)\n",
      "Requirement already satisfied: numpy>=1.15.0 in /opt/conda/lib/python3.7/site-packages (from spacy<4->fastai) (1.21.6)\n",
      "Requirement already satisfied: preshed<3.1.0,>=3.0.2 in /opt/conda/lib/python3.7/site-packages (from spacy<4->fastai) (3.0.6)\n",
      "Requirement already satisfied: cymem<2.1.0,>=2.0.2 in /opt/conda/lib/python3.7/site-packages (from spacy<4->fastai) (2.0.6)\n",
      "Requirement already satisfied: plac<1.2.0,>=0.9.6 in /opt/conda/lib/python3.7/site-packages (from spacy<4->fastai) (1.1.3)\n",
      "Requirement already satisfied: catalogue<1.1.0,>=0.0.7 in /opt/conda/lib/python3.7/site-packages (from spacy<4->fastai) (1.0.0)\n",
      "Requirement already satisfied: setuptools in /opt/conda/lib/python3.7/site-packages (from spacy<4->fastai) (59.8.0)\n",
      "Requirement already satisfied: srsly<1.1.0,>=1.0.2 in /opt/conda/lib/python3.7/site-packages (from spacy<4->fastai) (1.0.5)\n",
      "Requirement already satisfied: thinc<7.5.0,>=7.4.1 in /opt/conda/lib/python3.7/site-packages (from spacy<4->fastai) (7.4.5)\n",
      "Requirement already satisfied: tqdm<5.0.0,>=4.38.0 in /opt/conda/lib/python3.7/site-packages (from spacy<4->fastai) (4.63.0)\n",
      "Requirement already satisfied: certifi>=2017.4.17 in /opt/conda/lib/python3.7/site-packages (from requests->fastai) (2021.10.8)\n",
      "Requirement already satisfied: charset-normalizer~=2.0.0 in /opt/conda/lib/python3.7/site-packages (from requests->fastai) (2.0.12)\n",
      "Requirement already satisfied: urllib3<1.27,>=1.21.1 in /opt/conda/lib/python3.7/site-packages (from requests->fastai) (1.26.8)\n",
      "Requirement already satisfied: idna<4,>=2.5 in /opt/conda/lib/python3.7/site-packages (from requests->fastai) (3.3)\n",
      "Requirement already satisfied: typing-extensions in /opt/conda/lib/python3.7/site-packages (from torch<1.12,>=1.7.0->fastai) (4.2.0)\n",
      "Requirement already satisfied: cycler>=0.10 in /opt/conda/lib/python3.7/site-packages (from matplotlib->fastai) (0.11.0)\n",
      "Requirement already satisfied: fonttools>=4.22.0 in /opt/conda/lib/python3.7/site-packages (from matplotlib->fastai) (4.30.0)\n",
      "Requirement already satisfied: python-dateutil>=2.7 in /opt/conda/lib/python3.7/site-packages (from matplotlib->fastai) (2.8.2)\n",
      "Requirement already satisfied: kiwisolver>=1.0.1 in /opt/conda/lib/python3.7/site-packages (from matplotlib->fastai) (1.4.0)\n",
      "Requirement already satisfied: pyparsing>=2.2.1 in /opt/conda/lib/python3.7/site-packages (from matplotlib->fastai) (3.0.7)\n",
      "Requirement already satisfied: pytz>=2017.3 in /opt/conda/lib/python3.7/site-packages (from pandas->fastai) (2021.3)\n",
      "Requirement already satisfied: threadpoolctl>=2.0.0 in /opt/conda/lib/python3.7/site-packages (from scikit-learn->fastai) (3.1.0)\n",
      "Requirement already satisfied: joblib>=0.11 in /opt/conda/lib/python3.7/site-packages (from scikit-learn->fastai) (1.0.1)\n",
      "Requirement already satisfied: importlib-metadata>=0.20 in /opt/conda/lib/python3.7/site-packages (from catalogue<1.1.0,>=0.0.7->spacy<4->fastai) (4.11.3)\n",
      "Requirement already satisfied: six>=1.5 in /opt/conda/lib/python3.7/site-packages (from python-dateutil>=2.7->matplotlib->fastai) (1.16.0)\n",
      "Requirement already satisfied: zipp>=0.5 in /opt/conda/lib/python3.7/site-packages (from importlib-metadata>=0.20->catalogue<1.1.0,>=0.0.7->spacy<4->fastai) (3.7.0)\n",
      "Installing collected packages: torch, torchvision, fastai\n",
      "  Attempting uninstall: torch\n",
      "    Found existing installation: torch 1.6.0\n",
      "    Uninstalling torch-1.6.0:\n",
      "      Successfully uninstalled torch-1.6.0\n",
      "  Attempting uninstall: torchvision\n",
      "    Found existing installation: torchvision 0.7.0+cu101\n",
      "    Uninstalling torchvision-0.7.0+cu101:\n",
      "      Successfully uninstalled torchvision-0.7.0+cu101\n",
      "  Attempting uninstall: fastai\n",
      "    Found existing installation: fastai 2.6.0\n",
      "    Uninstalling fastai-2.6.0:\n",
      "      Successfully uninstalled fastai-2.6.0\n",
      "\u001b[31mERROR: pip's dependency resolver does not currently take into account all the packages that are installed. This behaviour is the source of the following dependency conflicts.\n",
      "allennlp 1.1.0rc4 requires torch<1.7.0,>=1.6.0, but you have torch 1.11.0 which is incompatible.\u001b[0m\u001b[31m\n",
      "\u001b[0mSuccessfully installed fastai-2.6.3 torch-1.11.0 torchvision-0.12.0\n",
      "\u001b[33mWARNING: Running pip as the 'root' user can result in broken permissions and conflicting behaviour with the system package manager. It is recommended to use a virtual environment instead: https://pip.pypa.io/warnings/venv\u001b[0m\u001b[33m\n",
      "\u001b[0m"
     ]
    }
   ],
   "source": [
    "!pip install --upgrade fastai"
   ]
  },
  {
   "cell_type": "code",
   "execution_count": 4,
   "metadata": {
    "execution": {
     "iopub.execute_input": "2022-05-09T19:26:37.001401Z",
     "iopub.status.busy": "2022-05-09T19:26:37.001064Z",
     "iopub.status.idle": "2022-05-09T19:26:38.861267Z",
     "shell.execute_reply": "2022-05-09T19:26:38.860533Z",
     "shell.execute_reply.started": "2022-05-09T19:26:37.001355Z"
    }
   },
   "outputs": [
    {
     "name": "stdout",
     "output_type": "stream",
     "text": [
      "1.11.0+cu102\n",
      "True\n",
      "2.6.3\n"
     ]
    }
   ],
   "source": [
    "import torch\n",
    "print(torch.__version__)\n",
    "print(torch.cuda.is_available())\n",
    "\n",
    "import fastai\n",
    "print(fastai.__version__)\n",
    "\n",
    "from fastai.vision.all import *"
   ]
  },
  {
   "cell_type": "code",
   "execution_count": 5,
   "metadata": {
    "execution": {
     "iopub.execute_input": "2022-05-09T19:26:38.862951Z",
     "iopub.status.busy": "2022-05-09T19:26:38.862714Z",
     "iopub.status.idle": "2022-05-09T19:26:38.870955Z",
     "shell.execute_reply": "2022-05-09T19:26:38.870277Z",
     "shell.execute_reply.started": "2022-05-09T19:26:38.862917Z"
    }
   },
   "outputs": [],
   "source": [
    "import fastai as fs\n",
    "\n",
    "from fastai import *\n",
    "from fastai.vision import *\n",
    "from fastai.tabular.data import *"
   ]
  },
  {
   "cell_type": "code",
   "execution_count": 6,
   "metadata": {
    "execution": {
     "iopub.execute_input": "2022-05-09T19:26:38.873015Z",
     "iopub.status.busy": "2022-05-09T19:26:38.872452Z",
     "iopub.status.idle": "2022-05-09T19:26:38.883084Z",
     "shell.execute_reply": "2022-05-09T19:26:38.882197Z",
     "shell.execute_reply.started": "2022-05-09T19:26:38.872979Z"
    }
   },
   "outputs": [
    {
     "name": "stdout",
     "output_type": "stream",
     "text": [
      "Help on package fastai.tabular in fastai:\n",
      "\n",
      "NAME\n",
      "    fastai.tabular\n",
      "\n",
      "PACKAGE CONTENTS\n",
      "    all\n",
      "    core\n",
      "    data\n",
      "    learner\n",
      "    model\n",
      "\n",
      "FILE\n",
      "    /opt/conda/lib/python3.7/site-packages/fastai/tabular/__init__.py\n",
      "\n",
      "\n"
     ]
    }
   ],
   "source": [
    "help(fs.tabular)"
   ]
  },
  {
   "cell_type": "code",
   "execution_count": 7,
   "metadata": {
    "execution": {
     "iopub.execute_input": "2022-05-09T19:26:38.885038Z",
     "iopub.status.busy": "2022-05-09T19:26:38.884475Z",
     "iopub.status.idle": "2022-05-09T19:26:38.950755Z",
     "shell.execute_reply": "2022-05-09T19:26:38.950126Z",
     "shell.execute_reply.started": "2022-05-09T19:26:38.885004Z"
    }
   },
   "outputs": [],
   "source": [
    "%reload_ext autoreload\n",
    "%autoreload 2\n",
    "%matplotlib inline"
   ]
  },
  {
   "cell_type": "code",
   "execution_count": 8,
   "metadata": {
    "execution": {
     "iopub.execute_input": "2022-05-09T19:26:38.952303Z",
     "iopub.status.busy": "2022-05-09T19:26:38.952040Z",
     "iopub.status.idle": "2022-05-09T19:26:38.990152Z",
     "shell.execute_reply": "2022-05-09T19:26:38.989417Z",
     "shell.execute_reply.started": "2022-05-09T19:26:38.952258Z"
    }
   },
   "outputs": [
    {
     "name": "stdout",
     "output_type": "stream",
     "text": [
      "['weatheraus-rev3csv']\n"
     ]
    }
   ],
   "source": [
    "import os\n",
    "print(os.listdir(\"../input\"))"
   ]
  },
  {
   "cell_type": "markdown",
   "metadata": {},
   "source": [
    "## Preprocessing"
   ]
  },
  {
   "cell_type": "code",
   "execution_count": 11,
   "metadata": {
    "execution": {
     "iopub.execute_input": "2022-05-09T19:26:40.817095Z",
     "iopub.status.busy": "2022-05-09T19:26:40.816755Z",
     "iopub.status.idle": "2022-05-09T19:26:40.882097Z",
     "shell.execute_reply": "2022-05-09T19:26:40.881249Z",
     "shell.execute_reply.started": "2022-05-09T19:26:40.817062Z"
    }
   },
   "outputs": [],
   "source": [
    "features = [\"RainToday_Num\",\"Rainfall\",\"Rain_J-1\",\"Rain_J-2\",\"MinTemp\",\"MaxTemp\",\"Sunshine\",\"Evaporation\",\n",
    "            \"Humidity3pm\",\"Humidity9am\",\"Pressure9am\",\"Pressure3pm\",\"Cloud3pm\",\"Cloud9am\", \n",
    "            \"Wind9am_cos\",\"Wind3pm_cos\",\"WindGust_cos\",\"Wind9am_sin\",\"Wind3pm_sin\",\"WindGust_sin\",\n",
    "            \"Mois_sin\", \"Mois_cos\", \"Climat_Koppen\",\"RainTomorrow_Num\"]"
   ]
  },
  {
   "cell_type": "code",
   "execution_count": 12,
   "metadata": {
    "execution": {
     "iopub.execute_input": "2022-05-09T19:26:40.883463Z",
     "iopub.status.busy": "2022-05-09T19:26:40.883244Z",
     "iopub.status.idle": "2022-05-09T19:26:40.960154Z",
     "shell.execute_reply": "2022-05-09T19:26:40.955666Z",
     "shell.execute_reply.started": "2022-05-09T19:26:40.883435Z"
    }
   },
   "outputs": [],
   "source": [
    "X = df[features]"
   ]
  },
  {
   "cell_type": "code",
   "execution_count": 13,
   "metadata": {
    "execution": {
     "iopub.execute_input": "2022-05-09T19:26:40.961395Z",
     "iopub.status.busy": "2022-05-09T19:26:40.961155Z",
     "iopub.status.idle": "2022-05-09T19:26:41.032548Z",
     "shell.execute_reply": "2022-05-09T19:26:41.028395Z",
     "shell.execute_reply.started": "2022-05-09T19:26:40.961362Z"
    }
   },
   "outputs": [],
   "source": [
    "#Suppression des climats\n",
    "X=X.drop(\"Climat_Koppen\",axis=1)"
   ]
  },
  {
   "cell_type": "code",
   "execution_count": 14,
   "metadata": {
    "execution": {
     "iopub.execute_input": "2022-05-09T19:26:41.034662Z",
     "iopub.status.busy": "2022-05-09T19:26:41.034273Z",
     "iopub.status.idle": "2022-05-09T19:26:41.106431Z",
     "shell.execute_reply": "2022-05-09T19:26:41.105782Z",
     "shell.execute_reply.started": "2022-05-09T19:26:41.034624Z"
    }
   },
   "outputs": [
    {
     "data": {
      "text/plain": [
       "['Rainfall',\n",
       " 'Rain_J-1',\n",
       " 'Rain_J-2',\n",
       " 'MinTemp',\n",
       " 'MaxTemp',\n",
       " 'Sunshine',\n",
       " 'Evaporation',\n",
       " 'Humidity3pm',\n",
       " 'Humidity9am',\n",
       " 'Pressure9am',\n",
       " 'Pressure3pm',\n",
       " 'Wind9am_cos',\n",
       " 'Wind3pm_cos',\n",
       " 'WindGust_cos',\n",
       " 'Wind9am_sin',\n",
       " 'Wind3pm_sin',\n",
       " 'WindGust_sin',\n",
       " 'Mois_sin',\n",
       " 'Mois_cos',\n",
       " 'RainToday_Num',\n",
       " 'Cloud3pm',\n",
       " 'Cloud9am']"
      ]
     },
     "execution_count": 14,
     "metadata": {},
     "output_type": "execute_result"
    }
   ],
   "source": [
    "cat_col_names = list(X.select_dtypes('object').columns)\n",
    "cat_col_names\n",
    "num_col_names = list(X.select_dtypes('float64').columns)+list(X.select_dtypes('int64').columns)\n",
    "num_col_names.pop()\n",
    "num_col_names"
   ]
  },
  {
   "cell_type": "code",
   "execution_count": 15,
   "metadata": {
    "execution": {
     "iopub.execute_input": "2022-05-09T19:26:41.112000Z",
     "iopub.status.busy": "2022-05-09T19:26:41.110104Z",
     "iopub.status.idle": "2022-05-09T19:26:41.168569Z",
     "shell.execute_reply": "2022-05-09T19:26:41.167885Z",
     "shell.execute_reply.started": "2022-05-09T19:26:41.111965Z"
    }
   },
   "outputs": [
    {
     "name": "stdout",
     "output_type": "stream",
     "text": [
      "Categorical columns are :  []\n",
      "Continuous numerical columns are : ['Rainfall', 'Rain_J-1', 'Rain_J-2', 'MinTemp', 'MaxTemp', 'Sunshine', 'Evaporation', 'Humidity3pm', 'Humidity9am', 'Pressure9am', 'Pressure3pm', 'Wind9am_cos', 'Wind3pm_cos', 'WindGust_cos', 'Wind9am_sin', 'Wind3pm_sin', 'WindGust_sin', 'Mois_sin', 'Mois_cos', 'RainToday_Num', 'Cloud3pm', 'Cloud9am']\n"
     ]
    }
   ],
   "source": [
    "dep_var = \"RainTomorrow_Num\"\n",
    "\n",
    "print(\"Categorical columns are : \", cat_col_names)\n",
    "print('Continuous numerical columns are :', num_col_names)\n",
    "procs = ['FillMissing', 'Categorify', 'Normalize']"
   ]
  },
  {
   "cell_type": "code",
   "execution_count": 19,
   "metadata": {
    "execution": {
     "iopub.execute_input": "2022-05-09T19:33:15.055495Z",
     "iopub.status.busy": "2022-05-09T19:33:15.055092Z",
     "iopub.status.idle": "2022-05-09T19:33:15.290235Z",
     "shell.execute_reply": "2022-05-09T19:33:15.289439Z",
     "shell.execute_reply.started": "2022-05-09T19:33:15.055460Z"
    }
   },
   "outputs": [
    {
     "name": "stdout",
     "output_type": "stream",
     "text": [
      "<class 'pandas.core.frame.DataFrame'>\n",
      "Int64Index: 116364 entries, 51937 to 15725\n",
      "Data columns (total 23 columns):\n",
      " #   Column            Non-Null Count   Dtype  \n",
      "---  ------            --------------   -----  \n",
      " 0   RainToday_Num     116364 non-null  int64  \n",
      " 1   Rainfall          116364 non-null  float64\n",
      " 2   Rain_J-1          116364 non-null  float64\n",
      " 3   Rain_J-2          116364 non-null  float64\n",
      " 4   MinTemp           116364 non-null  float64\n",
      " 5   MaxTemp           116364 non-null  float64\n",
      " 6   Sunshine          116364 non-null  float64\n",
      " 7   Evaporation       116364 non-null  float64\n",
      " 8   Humidity3pm       116364 non-null  float64\n",
      " 9   Humidity9am       116364 non-null  float64\n",
      " 10  Pressure9am       116364 non-null  float64\n",
      " 11  Pressure3pm       116364 non-null  float64\n",
      " 12  Cloud3pm          116364 non-null  int64  \n",
      " 13  Cloud9am          116364 non-null  int64  \n",
      " 14  Wind9am_cos       116364 non-null  float64\n",
      " 15  Wind3pm_cos       116364 non-null  float64\n",
      " 16  WindGust_cos      116364 non-null  float64\n",
      " 17  Wind9am_sin       116364 non-null  float64\n",
      " 18  Wind3pm_sin       116364 non-null  float64\n",
      " 19  WindGust_sin      116364 non-null  float64\n",
      " 20  Mois_sin          116364 non-null  float64\n",
      " 21  Mois_cos          116364 non-null  float64\n",
      " 22  RainTomorrow_Num  116364 non-null  int64  \n",
      "dtypes: float64(19), int64(4)\n",
      "memory usage: 21.3 MB\n",
      "sous-échantillonage : 50918 lignes.\n",
      "sur-échantillonage : 181810 lignes.\n"
     ]
    }
   ],
   "source": [
    "#préparation des JD d'entrainement et de test\n",
    "from sklearn.model_selection import train_test_split\n",
    "X_tr, X_te = train_test_split(X, test_size=0.2, random_state=123)\n",
    "X_tr.info()\n",
    "\n",
    "#préparation des jeux de données sous-échantillonnés et sur-échantillonnés\n",
    "\n",
    "from imblearn.under_sampling import RandomUnderSampler\n",
    "from imblearn.over_sampling import RandomOverSampler\n",
    "\n",
    "rus = RandomUnderSampler()\n",
    "X_train_ru,y_ru = rus.fit_resample(X_tr,X_tr[\"RainTomorrow_Num\"])\n",
    "print(\"sous-échantillonage :\", X_train_ru.shape[0], \"lignes.\")\n",
    "\n",
    "ros = RandomOverSampler()\n",
    "X_train_ro,y_ro = ros.fit_resample(X_tr,X_tr[\"RainTomorrow_Num\"])\n",
    "print(\"sur-échantillonage :\", X_train_ro.shape[0], \"lignes.\")"
   ]
  },
  {
   "cell_type": "code",
   "execution_count": 20,
   "metadata": {
    "execution": {
     "iopub.execute_input": "2022-05-09T19:33:23.617010Z",
     "iopub.status.busy": "2022-05-09T19:33:23.616751Z",
     "iopub.status.idle": "2022-05-09T19:33:23.659471Z",
     "shell.execute_reply": "2022-05-09T19:33:23.658683Z",
     "shell.execute_reply.started": "2022-05-09T19:33:23.616982Z"
    }
   },
   "outputs": [
    {
     "data": {
      "text/plain": [
       "[]"
      ]
     },
     "execution_count": 20,
     "metadata": {},
     "output_type": "execute_result"
    }
   ],
   "source": [
    "cat_col_names"
   ]
  },
  {
   "cell_type": "code",
   "execution_count": 21,
   "metadata": {
    "execution": {
     "iopub.execute_input": "2022-05-09T19:33:25.983355Z",
     "iopub.status.busy": "2022-05-09T19:33:25.983060Z",
     "iopub.status.idle": "2022-05-09T19:33:26.025469Z",
     "shell.execute_reply": "2022-05-09T19:33:26.024755Z",
     "shell.execute_reply.started": "2022-05-09T19:33:25.983323Z"
    }
   },
   "outputs": [
    {
     "data": {
      "text/plain": [
       "['Rainfall',\n",
       " 'Rain_J-1',\n",
       " 'Rain_J-2',\n",
       " 'MinTemp',\n",
       " 'MaxTemp',\n",
       " 'Sunshine',\n",
       " 'Evaporation',\n",
       " 'Humidity3pm',\n",
       " 'Humidity9am',\n",
       " 'Pressure9am',\n",
       " 'Pressure3pm',\n",
       " 'Wind9am_cos',\n",
       " 'Wind3pm_cos',\n",
       " 'WindGust_cos',\n",
       " 'Wind9am_sin',\n",
       " 'Wind3pm_sin',\n",
       " 'WindGust_sin',\n",
       " 'Mois_sin',\n",
       " 'Mois_cos',\n",
       " 'RainToday_Num',\n",
       " 'Cloud3pm',\n",
       " 'Cloud9am']"
      ]
     },
     "execution_count": 21,
     "metadata": {},
     "output_type": "execute_result"
    }
   ],
   "source": [
    "num_col_names"
   ]
  },
  {
   "cell_type": "code",
   "execution_count": 22,
   "metadata": {
    "execution": {
     "iopub.execute_input": "2022-05-09T19:33:32.070325Z",
     "iopub.status.busy": "2022-05-09T19:33:32.069826Z",
     "iopub.status.idle": "2022-05-09T19:33:32.388860Z",
     "shell.execute_reply": "2022-05-09T19:33:32.388147Z",
     "shell.execute_reply.started": "2022-05-09T19:33:32.070269Z"
    }
   },
   "outputs": [],
   "source": [
    "train = TabularDataLoaders.from_df(X_tr, cat_names=cat_col_names, cont_names=num_col_names,y_names=dep_var,y_block = CategoryBlock())\n",
    "train_ru = TabularDataLoaders.from_df(X_train_ru, cat_names=cat_col_names, cont_names=num_col_names,y_names=dep_var,y_block = CategoryBlock())\n",
    "train_ro = TabularDataLoaders.from_df(X_train_ro, cat_names=cat_col_names, cont_names=num_col_names,y_names=dep_var,y_block = CategoryBlock())\n",
    "\n",
    "\n",
    "\n",
    "\n"
   ]
  },
  {
   "cell_type": "markdown",
   "metadata": {},
   "source": [
    "##### Get a Learner using data, with metrics, including a TabularModel"
   ]
  },
  {
   "cell_type": "code",
   "execution_count": 23,
   "metadata": {
    "execution": {
     "iopub.execute_input": "2022-05-09T19:33:39.828170Z",
     "iopub.status.busy": "2022-05-09T19:33:39.827638Z",
     "iopub.status.idle": "2022-05-09T19:33:39.879580Z",
     "shell.execute_reply": "2022-05-09T19:33:39.878942Z",
     "shell.execute_reply.started": "2022-05-09T19:33:39.828134Z"
    }
   },
   "outputs": [],
   "source": [
    "from fastai.tabular.all import *\n",
    "tab_learn = tabular_learner(train, metrics=[accuracy, error_rate, Recall(), F1Score(),Precision()])\n",
    "tab_learn_ru = tabular_learner(train_ru, metrics=[accuracy, error_rate, Recall(), F1Score(),Precision()])\n",
    "tab_learn_ro = tabular_learner(train_ro, metrics=[accuracy, error_rate, Recall(), F1Score(),Precision()])"
   ]
  },
  {
   "cell_type": "code",
   "execution_count": 24,
   "metadata": {
    "execution": {
     "iopub.execute_input": "2022-05-09T19:33:42.417975Z",
     "iopub.status.busy": "2022-05-09T19:33:42.417723Z",
     "iopub.status.idle": "2022-05-09T19:33:42.460730Z",
     "shell.execute_reply": "2022-05-09T19:33:42.460008Z",
     "shell.execute_reply.started": "2022-05-09T19:33:42.417946Z"
    }
   },
   "outputs": [
    {
     "data": {
      "text/plain": [
       "TabularModel(\n",
       "  (embeds): ModuleList()\n",
       "  (emb_drop): Dropout(p=0.0, inplace=False)\n",
       "  (bn_cont): BatchNorm1d(22, eps=1e-05, momentum=0.1, affine=True, track_running_stats=True)\n",
       "  (layers): Sequential(\n",
       "    (0): LinBnDrop(\n",
       "      (0): Linear(in_features=22, out_features=200, bias=False)\n",
       "      (1): ReLU(inplace=True)\n",
       "      (2): BatchNorm1d(200, eps=1e-05, momentum=0.1, affine=True, track_running_stats=True)\n",
       "    )\n",
       "    (1): LinBnDrop(\n",
       "      (0): Linear(in_features=200, out_features=100, bias=False)\n",
       "      (1): ReLU(inplace=True)\n",
       "      (2): BatchNorm1d(100, eps=1e-05, momentum=0.1, affine=True, track_running_stats=True)\n",
       "    )\n",
       "    (2): LinBnDrop(\n",
       "      (0): Linear(in_features=100, out_features=2, bias=True)\n",
       "    )\n",
       "  )\n",
       ")"
      ]
     },
     "execution_count": 24,
     "metadata": {},
     "output_type": "execute_result"
    }
   ],
   "source": [
    "tab_learn.model\n",
    "tab_learn_ru.model\n",
    "tab_learn_ro.model"
   ]
  },
  {
   "cell_type": "markdown",
   "metadata": {},
   "source": [
    "## Recherche du taux d'apprentissage adapté à notre modèle"
   ]
  },
  {
   "cell_type": "code",
   "execution_count": 25,
   "metadata": {
    "execution": {
     "iopub.execute_input": "2022-05-09T19:33:58.112922Z",
     "iopub.status.busy": "2022-05-09T19:33:58.112648Z",
     "iopub.status.idle": "2022-05-09T19:34:01.772348Z",
     "shell.execute_reply": "2022-05-09T19:34:01.771656Z",
     "shell.execute_reply.started": "2022-05-09T19:33:58.112891Z"
    }
   },
   "outputs": [
    {
     "data": {
      "text/html": [
       "\n",
       "<style>\n",
       "    /* Turns off some styling */\n",
       "    progress {\n",
       "        /* gets rid of default border in Firefox and Opera. */\n",
       "        border: none;\n",
       "        /* Needs to be in here for Safari polyfill so background images work as expected. */\n",
       "        background-size: auto;\n",
       "    }\n",
       "    .progress-bar-interrupted, .progress-bar-interrupted::-webkit-progress-bar {\n",
       "        background: #F44336;\n",
       "    }\n",
       "</style>\n"
      ],
      "text/plain": [
       "<IPython.core.display.HTML object>"
      ]
     },
     "metadata": {},
     "output_type": "display_data"
    },
    {
     "data": {
      "text/html": [],
      "text/plain": [
       "<IPython.core.display.HTML object>"
      ]
     },
     "metadata": {},
     "output_type": "display_data"
    },
    {
     "data": {
      "text/plain": [
       "SuggestedLRs(valley=0.0020892962347716093)"
      ]
     },
     "execution_count": 25,
     "metadata": {},
     "output_type": "execute_result"
    },
    {
     "data": {
      "image/png": "[encoded data removed]",
      "text/plain": [
       "<Figure size 432x288 with 1 Axes>"
      ]
     },
     "metadata": {
      "needs_background": "light"
     },
     "output_type": "display_data"
    }
   ],
   "source": [
    "tab_learn.lr_find()"
   ]
  },
  {
   "cell_type": "code",
   "execution_count": 26,
   "metadata": {
    "execution": {
     "iopub.execute_input": "2022-05-09T19:34:09.259308Z",
     "iopub.status.busy": "2022-05-09T19:34:09.259011Z",
     "iopub.status.idle": "2022-05-09T19:38:25.282408Z",
     "shell.execute_reply": "2022-05-09T19:38:25.281515Z",
     "shell.execute_reply.started": "2022-05-09T19:34:09.259261Z"
    }
   },
   "outputs": [
    {
     "data": {
      "text/html": [
       "\n",
       "<style>\n",
       "    /* Turns off some styling */\n",
       "    progress {\n",
       "        /* gets rid of default border in Firefox and Opera. */\n",
       "        border: none;\n",
       "        /* Needs to be in here for Safari polyfill so background images work as expected. */\n",
       "        background-size: auto;\n",
       "    }\n",
       "    .progress-bar-interrupted, .progress-bar-interrupted::-webkit-progress-bar {\n",
       "        background: #F44336;\n",
       "    }\n",
       "</style>\n"
      ],
      "text/plain": [
       "<IPython.core.display.HTML object>"
      ]
     },
     "metadata": {},
     "output_type": "display_data"
    },
    {
     "data": {
      "text/html": [
       "<table border=\"1\" class=\"dataframe\">\n",
       "  <thead>\n",
       "    <tr style=\"text-align: left;\">\n",
       "      <th>epoch</th>\n",
       "      <th>train_loss</th>\n",
       "      <th>valid_loss</th>\n",
       "      <th>accuracy</th>\n",
       "      <th>error_rate</th>\n",
       "      <th>recall_score</th>\n",
       "      <th>f1_score</th>\n",
       "      <th>precision_score</th>\n",
       "      <th>time</th>\n",
       "    </tr>\n",
       "  </thead>\n",
       "  <tbody>\n",
       "    <tr>\n",
       "      <td>0</td>\n",
       "      <td>0.365368</td>\n",
       "      <td>0.361009</td>\n",
       "      <td>0.842472</td>\n",
       "      <td>0.157528</td>\n",
       "      <td>0.527553</td>\n",
       "      <td>0.593028</td>\n",
       "      <td>0.677060</td>\n",
       "      <td>00:13</td>\n",
       "    </tr>\n",
       "    <tr>\n",
       "      <td>1</td>\n",
       "      <td>0.357486</td>\n",
       "      <td>0.358764</td>\n",
       "      <td>0.844964</td>\n",
       "      <td>0.155036</td>\n",
       "      <td>0.555402</td>\n",
       "      <td>0.609185</td>\n",
       "      <td>0.674502</td>\n",
       "      <td>00:12</td>\n",
       "    </tr>\n",
       "    <tr>\n",
       "      <td>2</td>\n",
       "      <td>0.361025</td>\n",
       "      <td>0.355420</td>\n",
       "      <td>0.845523</td>\n",
       "      <td>0.154477</td>\n",
       "      <td>0.541576</td>\n",
       "      <td>0.604031</td>\n",
       "      <td>0.682769</td>\n",
       "      <td>00:12</td>\n",
       "    </tr>\n",
       "    <tr>\n",
       "      <td>3</td>\n",
       "      <td>0.359743</td>\n",
       "      <td>0.361253</td>\n",
       "      <td>0.843804</td>\n",
       "      <td>0.156196</td>\n",
       "      <td>0.408849</td>\n",
       "      <td>0.532476</td>\n",
       "      <td>0.763274</td>\n",
       "      <td>00:13</td>\n",
       "    </tr>\n",
       "    <tr>\n",
       "      <td>4</td>\n",
       "      <td>0.345783</td>\n",
       "      <td>0.347624</td>\n",
       "      <td>0.849218</td>\n",
       "      <td>0.150782</td>\n",
       "      <td>0.482323</td>\n",
       "      <td>0.581913</td>\n",
       "      <td>0.733333</td>\n",
       "      <td>00:12</td>\n",
       "    </tr>\n",
       "    <tr>\n",
       "      <td>5</td>\n",
       "      <td>0.348399</td>\n",
       "      <td>0.346457</td>\n",
       "      <td>0.850937</td>\n",
       "      <td>0.149063</td>\n",
       "      <td>0.490223</td>\n",
       "      <td>0.588640</td>\n",
       "      <td>0.736499</td>\n",
       "      <td>00:12</td>\n",
       "    </tr>\n",
       "    <tr>\n",
       "      <td>6</td>\n",
       "      <td>0.340667</td>\n",
       "      <td>0.347725</td>\n",
       "      <td>0.848273</td>\n",
       "      <td>0.151727</td>\n",
       "      <td>0.440253</td>\n",
       "      <td>0.558017</td>\n",
       "      <td>0.761791</td>\n",
       "      <td>00:12</td>\n",
       "    </tr>\n",
       "    <tr>\n",
       "      <td>7</td>\n",
       "      <td>0.347803</td>\n",
       "      <td>0.347473</td>\n",
       "      <td>0.848573</td>\n",
       "      <td>0.151427</td>\n",
       "      <td>0.432747</td>\n",
       "      <td>0.554263</td>\n",
       "      <td>0.770665</td>\n",
       "      <td>00:12</td>\n",
       "    </tr>\n",
       "    <tr>\n",
       "      <td>8</td>\n",
       "      <td>0.355900</td>\n",
       "      <td>0.344510</td>\n",
       "      <td>0.849089</td>\n",
       "      <td>0.150911</td>\n",
       "      <td>0.495556</td>\n",
       "      <td>0.588277</td>\n",
       "      <td>0.723680</td>\n",
       "      <td>00:12</td>\n",
       "    </tr>\n",
       "    <tr>\n",
       "      <td>9</td>\n",
       "      <td>0.348532</td>\n",
       "      <td>0.344401</td>\n",
       "      <td>0.849175</td>\n",
       "      <td>0.150825</td>\n",
       "      <td>0.444401</td>\n",
       "      <td>0.561798</td>\n",
       "      <td>0.763488</td>\n",
       "      <td>00:13</td>\n",
       "    </tr>\n",
       "    <tr>\n",
       "      <td>10</td>\n",
       "      <td>0.347042</td>\n",
       "      <td>0.342798</td>\n",
       "      <td>0.849863</td>\n",
       "      <td>0.150137</td>\n",
       "      <td>0.544144</td>\n",
       "      <td>0.611950</td>\n",
       "      <td>0.699061</td>\n",
       "      <td>00:12</td>\n",
       "    </tr>\n",
       "    <tr>\n",
       "      <td>11</td>\n",
       "      <td>0.348143</td>\n",
       "      <td>0.343902</td>\n",
       "      <td>0.850722</td>\n",
       "      <td>0.149278</td>\n",
       "      <td>0.486470</td>\n",
       "      <td>0.586429</td>\n",
       "      <td>0.738088</td>\n",
       "      <td>00:12</td>\n",
       "    </tr>\n",
       "    <tr>\n",
       "      <td>12</td>\n",
       "      <td>0.336060</td>\n",
       "      <td>0.343128</td>\n",
       "      <td>0.849261</td>\n",
       "      <td>0.150739</td>\n",
       "      <td>0.545329</td>\n",
       "      <td>0.611517</td>\n",
       "      <td>0.695992</td>\n",
       "      <td>00:12</td>\n",
       "    </tr>\n",
       "    <tr>\n",
       "      <td>13</td>\n",
       "      <td>0.334158</td>\n",
       "      <td>0.339811</td>\n",
       "      <td>0.851452</td>\n",
       "      <td>0.148548</td>\n",
       "      <td>0.501086</td>\n",
       "      <td>0.594772</td>\n",
       "      <td>0.731546</td>\n",
       "      <td>00:12</td>\n",
       "    </tr>\n",
       "    <tr>\n",
       "      <td>14</td>\n",
       "      <td>0.327997</td>\n",
       "      <td>0.341133</td>\n",
       "      <td>0.850378</td>\n",
       "      <td>0.149622</td>\n",
       "      <td>0.530713</td>\n",
       "      <td>0.606820</td>\n",
       "      <td>0.708410</td>\n",
       "      <td>00:12</td>\n",
       "    </tr>\n",
       "    <tr>\n",
       "      <td>15</td>\n",
       "      <td>0.319807</td>\n",
       "      <td>0.340131</td>\n",
       "      <td>0.851452</td>\n",
       "      <td>0.148548</td>\n",
       "      <td>0.491606</td>\n",
       "      <td>0.590160</td>\n",
       "      <td>0.738138</td>\n",
       "      <td>00:13</td>\n",
       "    </tr>\n",
       "    <tr>\n",
       "      <td>16</td>\n",
       "      <td>0.341184</td>\n",
       "      <td>0.341350</td>\n",
       "      <td>0.849863</td>\n",
       "      <td>0.150137</td>\n",
       "      <td>0.523010</td>\n",
       "      <td>0.602503</td>\n",
       "      <td>0.710491</td>\n",
       "      <td>00:12</td>\n",
       "    </tr>\n",
       "    <tr>\n",
       "      <td>17</td>\n",
       "      <td>0.327368</td>\n",
       "      <td>0.340329</td>\n",
       "      <td>0.851409</td>\n",
       "      <td>0.148591</td>\n",
       "      <td>0.494568</td>\n",
       "      <td>0.591543</td>\n",
       "      <td>0.735821</td>\n",
       "      <td>00:12</td>\n",
       "    </tr>\n",
       "    <tr>\n",
       "      <td>18</td>\n",
       "      <td>0.330375</td>\n",
       "      <td>0.341120</td>\n",
       "      <td>0.849863</td>\n",
       "      <td>0.150137</td>\n",
       "      <td>0.551057</td>\n",
       "      <td>0.614944</td>\n",
       "      <td>0.695587</td>\n",
       "      <td>00:13</td>\n",
       "    </tr>\n",
       "    <tr>\n",
       "      <td>19</td>\n",
       "      <td>0.324870</td>\n",
       "      <td>0.339931</td>\n",
       "      <td>0.851023</td>\n",
       "      <td>0.148977</td>\n",
       "      <td>0.505234</td>\n",
       "      <td>0.596062</td>\n",
       "      <td>0.726705</td>\n",
       "      <td>00:12</td>\n",
       "    </tr>\n",
       "  </tbody>\n",
       "</table>"
      ],
      "text/plain": [
       "<IPython.core.display.HTML object>"
      ]
     },
     "metadata": {},
     "output_type": "display_data"
    }
   ],
   "source": [
    "tab_learn.fit_one_cycle(20, lr_max=0.005)"
   ]
  },
  {
   "cell_type": "code",
   "execution_count": 27,
   "metadata": {
    "execution": {
     "iopub.execute_input": "2022-05-09T19:38:31.324377Z",
     "iopub.status.busy": "2022-05-09T19:38:31.324115Z",
     "iopub.status.idle": "2022-05-09T19:38:32.377808Z",
     "shell.execute_reply": "2022-05-09T19:38:32.377145Z",
     "shell.execute_reply.started": "2022-05-09T19:38:31.324347Z"
    }
   },
   "outputs": [
    {
     "data": {
      "image/png": "[encoded data removed]",
      "text/plain": [
       "<Figure size 432x288 with 1 Axes>"
      ]
     },
     "metadata": {
      "needs_background": "light"
     },
     "output_type": "display_data"
    }
   ],
   "source": [
    "tab_learn.recorder.plot_loss()"
   ]
  },
  {
   "cell_type": "code",
   "execution_count": 28,
   "metadata": {
    "execution": {
     "iopub.execute_input": "2022-05-09T19:38:36.495082Z",
     "iopub.status.busy": "2022-05-09T19:38:36.494832Z",
     "iopub.status.idle": "2022-05-09T19:38:41.655872Z",
     "shell.execute_reply": "2022-05-09T19:38:41.655202Z",
     "shell.execute_reply.started": "2022-05-09T19:38:36.495053Z"
    }
   },
   "outputs": [
    {
     "data": {
      "text/html": [
       "\n",
       "<style>\n",
       "    /* Turns off some styling */\n",
       "    progress {\n",
       "        /* gets rid of default border in Firefox and Opera. */\n",
       "        border: none;\n",
       "        /* Needs to be in here for Safari polyfill so background images work as expected. */\n",
       "        background-size: auto;\n",
       "    }\n",
       "    .progress-bar-interrupted, .progress-bar-interrupted::-webkit-progress-bar {\n",
       "        background: #F44336;\n",
       "    }\n",
       "</style>\n"
      ],
      "text/plain": [
       "<IPython.core.display.HTML object>"
      ]
     },
     "metadata": {},
     "output_type": "display_data"
    },
    {
     "data": {
      "text/html": [],
      "text/plain": [
       "<IPython.core.display.HTML object>"
      ]
     },
     "metadata": {},
     "output_type": "display_data"
    },
    {
     "data": {
      "text/html": [
       "\n",
       "<style>\n",
       "    /* Turns off some styling */\n",
       "    progress {\n",
       "        /* gets rid of default border in Firefox and Opera. */\n",
       "        border: none;\n",
       "        /* Needs to be in here for Safari polyfill so background images work as expected. */\n",
       "        background-size: auto;\n",
       "    }\n",
       "    .progress-bar-interrupted, .progress-bar-interrupted::-webkit-progress-bar {\n",
       "        background: #F44336;\n",
       "    }\n",
       "</style>\n"
      ],
      "text/plain": [
       "<IPython.core.display.HTML object>"
      ]
     },
     "metadata": {},
     "output_type": "display_data"
    },
    {
     "data": {
      "text/html": [],
      "text/plain": [
       "<IPython.core.display.HTML object>"
      ]
     },
     "metadata": {},
     "output_type": "display_data"
    },
    {
     "data": {
      "image/png": "[encoded data removed]",
      "text/plain": [
       "<Figure size 432x288 with 1 Axes>"
      ]
     },
     "metadata": {
      "needs_background": "light"
     },
     "output_type": "display_data"
    }
   ],
   "source": [
    "interpret = ClassificationInterpretation.from_learner(tab_learn)\n",
    "interpret.plot_confusion_matrix()"
   ]
  },
  {
   "cell_type": "code",
   "execution_count": 29,
   "metadata": {
    "execution": {
     "iopub.execute_input": "2022-05-09T19:38:51.428315Z",
     "iopub.status.busy": "2022-05-09T19:38:51.428045Z",
     "iopub.status.idle": "2022-05-09T19:38:52.800106Z",
     "shell.execute_reply": "2022-05-09T19:38:52.799439Z",
     "shell.execute_reply.started": "2022-05-09T19:38:51.428268Z"
    }
   },
   "outputs": [
    {
     "data": {
      "text/html": [
       "\n",
       "<style>\n",
       "    /* Turns off some styling */\n",
       "    progress {\n",
       "        /* gets rid of default border in Firefox and Opera. */\n",
       "        border: none;\n",
       "        /* Needs to be in here for Safari polyfill so background images work as expected. */\n",
       "        background-size: auto;\n",
       "    }\n",
       "    .progress-bar-interrupted, .progress-bar-interrupted::-webkit-progress-bar {\n",
       "        background: #F44336;\n",
       "    }\n",
       "</style>\n"
      ],
      "text/plain": [
       "<IPython.core.display.HTML object>"
      ]
     },
     "metadata": {},
     "output_type": "display_data"
    },
    {
     "data": {
      "text/html": [],
      "text/plain": [
       "<IPython.core.display.HTML object>"
      ]
     },
     "metadata": {},
     "output_type": "display_data"
    },
    {
     "data": {
      "text/plain": [
       "SuggestedLRs(valley=0.0012022644514217973)"
      ]
     },
     "execution_count": 29,
     "metadata": {},
     "output_type": "execute_result"
    },
    {
     "data": {
      "image/png": "[encoded data removed]",
      "text/plain": [
       "<Figure size 432x288 with 1 Axes>"
      ]
     },
     "metadata": {
      "needs_background": "light"
     },
     "output_type": "display_data"
    }
   ],
   "source": [
    "tab_learn_ru.lr_find()"
   ]
  },
  {
   "cell_type": "code",
   "execution_count": 30,
   "metadata": {
    "execution": {
     "iopub.execute_input": "2022-05-09T19:38:57.637532Z",
     "iopub.status.busy": "2022-05-09T19:38:57.636783Z",
     "iopub.status.idle": "2022-05-09T19:40:47.727139Z",
     "shell.execute_reply": "2022-05-09T19:40:47.726352Z",
     "shell.execute_reply.started": "2022-05-09T19:38:57.637482Z"
    }
   },
   "outputs": [
    {
     "data": {
      "text/html": [
       "\n",
       "<style>\n",
       "    /* Turns off some styling */\n",
       "    progress {\n",
       "        /* gets rid of default border in Firefox and Opera. */\n",
       "        border: none;\n",
       "        /* Needs to be in here for Safari polyfill so background images work as expected. */\n",
       "        background-size: auto;\n",
       "    }\n",
       "    .progress-bar-interrupted, .progress-bar-interrupted::-webkit-progress-bar {\n",
       "        background: #F44336;\n",
       "    }\n",
       "</style>\n"
      ],
      "text/plain": [
       "<IPython.core.display.HTML object>"
      ]
     },
     "metadata": {},
     "output_type": "display_data"
    },
    {
     "data": {
      "text/html": [
       "<table border=\"1\" class=\"dataframe\">\n",
       "  <thead>\n",
       "    <tr style=\"text-align: left;\">\n",
       "      <th>epoch</th>\n",
       "      <th>train_loss</th>\n",
       "      <th>valid_loss</th>\n",
       "      <th>accuracy</th>\n",
       "      <th>error_rate</th>\n",
       "      <th>recall_score</th>\n",
       "      <th>f1_score</th>\n",
       "      <th>precision_score</th>\n",
       "      <th>time</th>\n",
       "    </tr>\n",
       "  </thead>\n",
       "  <tbody>\n",
       "    <tr>\n",
       "      <td>0</td>\n",
       "      <td>0.475205</td>\n",
       "      <td>0.458941</td>\n",
       "      <td>0.781891</td>\n",
       "      <td>0.218109</td>\n",
       "      <td>0.795517</td>\n",
       "      <td>0.786093</td>\n",
       "      <td>0.776889</td>\n",
       "      <td>00:05</td>\n",
       "    </tr>\n",
       "    <tr>\n",
       "      <td>1</td>\n",
       "      <td>0.473558</td>\n",
       "      <td>0.469961</td>\n",
       "      <td>0.775017</td>\n",
       "      <td>0.224983</td>\n",
       "      <td>0.751462</td>\n",
       "      <td>0.770923</td>\n",
       "      <td>0.791419</td>\n",
       "      <td>00:05</td>\n",
       "    </tr>\n",
       "    <tr>\n",
       "      <td>2</td>\n",
       "      <td>0.474184</td>\n",
       "      <td>0.456795</td>\n",
       "      <td>0.785427</td>\n",
       "      <td>0.214573</td>\n",
       "      <td>0.775828</td>\n",
       "      <td>0.784623</td>\n",
       "      <td>0.793619</td>\n",
       "      <td>00:05</td>\n",
       "    </tr>\n",
       "    <tr>\n",
       "      <td>3</td>\n",
       "      <td>0.469209</td>\n",
       "      <td>0.474802</td>\n",
       "      <td>0.777570</td>\n",
       "      <td>0.222430</td>\n",
       "      <td>0.833333</td>\n",
       "      <td>0.790569</td>\n",
       "      <td>0.751979</td>\n",
       "      <td>00:05</td>\n",
       "    </tr>\n",
       "    <tr>\n",
       "      <td>4</td>\n",
       "      <td>0.466961</td>\n",
       "      <td>0.457518</td>\n",
       "      <td>0.782972</td>\n",
       "      <td>0.217028</td>\n",
       "      <td>0.780702</td>\n",
       "      <td>0.783757</td>\n",
       "      <td>0.786837</td>\n",
       "      <td>00:05</td>\n",
       "    </tr>\n",
       "    <tr>\n",
       "      <td>5</td>\n",
       "      <td>0.457775</td>\n",
       "      <td>0.450175</td>\n",
       "      <td>0.787096</td>\n",
       "      <td>0.212904</td>\n",
       "      <td>0.830214</td>\n",
       "      <td>0.797118</td>\n",
       "      <td>0.766559</td>\n",
       "      <td>00:05</td>\n",
       "    </tr>\n",
       "    <tr>\n",
       "      <td>6</td>\n",
       "      <td>0.452323</td>\n",
       "      <td>0.448598</td>\n",
       "      <td>0.787194</td>\n",
       "      <td>0.212806</td>\n",
       "      <td>0.780702</td>\n",
       "      <td>0.787069</td>\n",
       "      <td>0.793541</td>\n",
       "      <td>00:05</td>\n",
       "    </tr>\n",
       "    <tr>\n",
       "      <td>7</td>\n",
       "      <td>0.455289</td>\n",
       "      <td>0.449685</td>\n",
       "      <td>0.791417</td>\n",
       "      <td>0.208583</td>\n",
       "      <td>0.802924</td>\n",
       "      <td>0.795020</td>\n",
       "      <td>0.787271</td>\n",
       "      <td>00:05</td>\n",
       "    </tr>\n",
       "    <tr>\n",
       "      <td>8</td>\n",
       "      <td>0.448695</td>\n",
       "      <td>0.444297</td>\n",
       "      <td>0.787489</td>\n",
       "      <td>0.212511</td>\n",
       "      <td>0.809162</td>\n",
       "      <td>0.793235</td>\n",
       "      <td>0.777924</td>\n",
       "      <td>00:05</td>\n",
       "    </tr>\n",
       "    <tr>\n",
       "      <td>9</td>\n",
       "      <td>0.436137</td>\n",
       "      <td>0.447059</td>\n",
       "      <td>0.786114</td>\n",
       "      <td>0.213886</td>\n",
       "      <td>0.783821</td>\n",
       "      <td>0.786888</td>\n",
       "      <td>0.789980</td>\n",
       "      <td>00:05</td>\n",
       "    </tr>\n",
       "    <tr>\n",
       "      <td>10</td>\n",
       "      <td>0.429929</td>\n",
       "      <td>0.445118</td>\n",
       "      <td>0.789944</td>\n",
       "      <td>0.210056</td>\n",
       "      <td>0.818324</td>\n",
       "      <td>0.796963</td>\n",
       "      <td>0.776688</td>\n",
       "      <td>00:05</td>\n",
       "    </tr>\n",
       "    <tr>\n",
       "      <td>11</td>\n",
       "      <td>0.428631</td>\n",
       "      <td>0.445755</td>\n",
       "      <td>0.790042</td>\n",
       "      <td>0.209958</td>\n",
       "      <td>0.813840</td>\n",
       "      <td>0.796148</td>\n",
       "      <td>0.779209</td>\n",
       "      <td>00:05</td>\n",
       "    </tr>\n",
       "    <tr>\n",
       "      <td>12</td>\n",
       "      <td>0.422567</td>\n",
       "      <td>0.441641</td>\n",
       "      <td>0.790239</td>\n",
       "      <td>0.209761</td>\n",
       "      <td>0.803704</td>\n",
       "      <td>0.794259</td>\n",
       "      <td>0.785034</td>\n",
       "      <td>00:05</td>\n",
       "    </tr>\n",
       "    <tr>\n",
       "      <td>13</td>\n",
       "      <td>0.432292</td>\n",
       "      <td>0.441804</td>\n",
       "      <td>0.791319</td>\n",
       "      <td>0.208681</td>\n",
       "      <td>0.812086</td>\n",
       "      <td>0.796787</td>\n",
       "      <td>0.782054</td>\n",
       "      <td>00:05</td>\n",
       "    </tr>\n",
       "    <tr>\n",
       "      <td>14</td>\n",
       "      <td>0.428440</td>\n",
       "      <td>0.444314</td>\n",
       "      <td>0.790926</td>\n",
       "      <td>0.209074</td>\n",
       "      <td>0.815595</td>\n",
       "      <td>0.797180</td>\n",
       "      <td>0.779579</td>\n",
       "      <td>00:05</td>\n",
       "    </tr>\n",
       "    <tr>\n",
       "      <td>15</td>\n",
       "      <td>0.419055</td>\n",
       "      <td>0.442504</td>\n",
       "      <td>0.790435</td>\n",
       "      <td>0.209565</td>\n",
       "      <td>0.806043</td>\n",
       "      <td>0.794887</td>\n",
       "      <td>0.784035</td>\n",
       "      <td>00:05</td>\n",
       "    </tr>\n",
       "    <tr>\n",
       "      <td>16</td>\n",
       "      <td>0.411956</td>\n",
       "      <td>0.443179</td>\n",
       "      <td>0.790828</td>\n",
       "      <td>0.209172</td>\n",
       "      <td>0.818324</td>\n",
       "      <td>0.797644</td>\n",
       "      <td>0.777984</td>\n",
       "      <td>00:05</td>\n",
       "    </tr>\n",
       "    <tr>\n",
       "      <td>17</td>\n",
       "      <td>0.410051</td>\n",
       "      <td>0.443043</td>\n",
       "      <td>0.791221</td>\n",
       "      <td>0.208779</td>\n",
       "      <td>0.804678</td>\n",
       "      <td>0.795223</td>\n",
       "      <td>0.785986</td>\n",
       "      <td>00:05</td>\n",
       "    </tr>\n",
       "    <tr>\n",
       "      <td>18</td>\n",
       "      <td>0.409610</td>\n",
       "      <td>0.450910</td>\n",
       "      <td>0.787489</td>\n",
       "      <td>0.212511</td>\n",
       "      <td>0.833333</td>\n",
       "      <td>0.798021</td>\n",
       "      <td>0.765580</td>\n",
       "      <td>00:05</td>\n",
       "    </tr>\n",
       "    <tr>\n",
       "      <td>19</td>\n",
       "      <td>0.401819</td>\n",
       "      <td>0.446577</td>\n",
       "      <td>0.788766</td>\n",
       "      <td>0.211234</td>\n",
       "      <td>0.823977</td>\n",
       "      <td>0.797171</td>\n",
       "      <td>0.772055</td>\n",
       "      <td>00:05</td>\n",
       "    </tr>\n",
       "  </tbody>\n",
       "</table>"
      ],
      "text/plain": [
       "<IPython.core.display.HTML object>"
      ]
     },
     "metadata": {},
     "output_type": "display_data"
    }
   ],
   "source": [
    "tab_learn_ru.fit_one_cycle(20, lr_max=0.005)"
   ]
  },
  {
   "cell_type": "code",
   "execution_count": 31,
   "metadata": {
    "execution": {
     "iopub.execute_input": "2022-05-09T19:47:44.057787Z",
     "iopub.status.busy": "2022-05-09T19:47:44.057231Z",
     "iopub.status.idle": "2022-05-09T19:47:44.669805Z",
     "shell.execute_reply": "2022-05-09T19:47:44.669144Z",
     "shell.execute_reply.started": "2022-05-09T19:47:44.057751Z"
    }
   },
   "outputs": [
    {
     "data": {
      "image/png": "[encoded data removed]",
      "text/plain": [
       "<Figure size 432x288 with 1 Axes>"
      ]
     },
     "metadata": {
      "needs_background": "light"
     },
     "output_type": "display_data"
    }
   ],
   "source": [
    "tab_learn_ru.recorder.plot_loss()"
   ]
  },
  {
   "cell_type": "code",
   "execution_count": 32,
   "metadata": {
    "execution": {
     "iopub.execute_input": "2022-05-09T19:47:51.028979Z",
     "iopub.status.busy": "2022-05-09T19:47:51.028237Z",
     "iopub.status.idle": "2022-05-09T19:47:53.311647Z",
     "shell.execute_reply": "2022-05-09T19:47:53.310989Z",
     "shell.execute_reply.started": "2022-05-09T19:47:51.028940Z"
    }
   },
   "outputs": [
    {
     "data": {
      "text/html": [
       "\n",
       "<style>\n",
       "    /* Turns off some styling */\n",
       "    progress {\n",
       "        /* gets rid of default border in Firefox and Opera. */\n",
       "        border: none;\n",
       "        /* Needs to be in here for Safari polyfill so background images work as expected. */\n",
       "        background-size: auto;\n",
       "    }\n",
       "    .progress-bar-interrupted, .progress-bar-interrupted::-webkit-progress-bar {\n",
       "        background: #F44336;\n",
       "    }\n",
       "</style>\n"
      ],
      "text/plain": [
       "<IPython.core.display.HTML object>"
      ]
     },
     "metadata": {},
     "output_type": "display_data"
    },
    {
     "data": {
      "text/html": [],
      "text/plain": [
       "<IPython.core.display.HTML object>"
      ]
     },
     "metadata": {},
     "output_type": "display_data"
    },
    {
     "data": {
      "text/html": [
       "\n",
       "<style>\n",
       "    /* Turns off some styling */\n",
       "    progress {\n",
       "        /* gets rid of default border in Firefox and Opera. */\n",
       "        border: none;\n",
       "        /* Needs to be in here for Safari polyfill so background images work as expected. */\n",
       "        background-size: auto;\n",
       "    }\n",
       "    .progress-bar-interrupted, .progress-bar-interrupted::-webkit-progress-bar {\n",
       "        background: #F44336;\n",
       "    }\n",
       "</style>\n"
      ],
      "text/plain": [
       "<IPython.core.display.HTML object>"
      ]
     },
     "metadata": {},
     "output_type": "display_data"
    },
    {
     "data": {
      "text/html": [],
      "text/plain": [
       "<IPython.core.display.HTML object>"
      ]
     },
     "metadata": {},
     "output_type": "display_data"
    },
    {
     "data": {
      "image/png": "[encoded data removed]",
      "text/plain": [
       "<Figure size 432x288 with 1 Axes>"
      ]
     },
     "metadata": {
      "needs_background": "light"
     },
     "output_type": "display_data"
    }
   ],
   "source": [
    "interpret_ru = ClassificationInterpretation.from_learner(tab_learn_ru)\n",
    "interpret_ru.plot_confusion_matrix()"
   ]
  },
  {
   "cell_type": "code",
   "execution_count": 33,
   "metadata": {
    "execution": {
     "iopub.execute_input": "2022-05-09T19:48:04.514310Z",
     "iopub.status.busy": "2022-05-09T19:48:04.514031Z",
     "iopub.status.idle": "2022-05-09T19:48:06.141865Z",
     "shell.execute_reply": "2022-05-09T19:48:06.141202Z",
     "shell.execute_reply.started": "2022-05-09T19:48:04.514263Z"
    }
   },
   "outputs": [
    {
     "data": {
      "text/html": [
       "\n",
       "<style>\n",
       "    /* Turns off some styling */\n",
       "    progress {\n",
       "        /* gets rid of default border in Firefox and Opera. */\n",
       "        border: none;\n",
       "        /* Needs to be in here for Safari polyfill so background images work as expected. */\n",
       "        background-size: auto;\n",
       "    }\n",
       "    .progress-bar-interrupted, .progress-bar-interrupted::-webkit-progress-bar {\n",
       "        background: #F44336;\n",
       "    }\n",
       "</style>\n"
      ],
      "text/plain": [
       "<IPython.core.display.HTML object>"
      ]
     },
     "metadata": {},
     "output_type": "display_data"
    },
    {
     "data": {
      "text/html": [],
      "text/plain": [
       "<IPython.core.display.HTML object>"
      ]
     },
     "metadata": {},
     "output_type": "display_data"
    },
    {
     "data": {
      "text/plain": [
       "SuggestedLRs(valley=0.0008317637839354575)"
      ]
     },
     "execution_count": 33,
     "metadata": {},
     "output_type": "execute_result"
    },
    {
     "data": {
      "image/png": "[encoded data removed]",
      "text/plain": [
       "<Figure size 432x288 with 1 Axes>"
      ]
     },
     "metadata": {
      "needs_background": "light"
     },
     "output_type": "display_data"
    }
   ],
   "source": [
    "tab_learn_ro.lr_find()"
   ]
  },
  {
   "cell_type": "code",
   "execution_count": 34,
   "metadata": {
    "execution": {
     "iopub.execute_input": "2022-05-09T19:48:18.265230Z",
     "iopub.status.busy": "2022-05-09T19:48:18.264976Z",
     "iopub.status.idle": "2022-05-09T19:54:50.058504Z",
     "shell.execute_reply": "2022-05-09T19:54:50.057786Z",
     "shell.execute_reply.started": "2022-05-09T19:48:18.265200Z"
    }
   },
   "outputs": [
    {
     "data": {
      "text/html": [
       "\n",
       "<style>\n",
       "    /* Turns off some styling */\n",
       "    progress {\n",
       "        /* gets rid of default border in Firefox and Opera. */\n",
       "        border: none;\n",
       "        /* Needs to be in here for Safari polyfill so background images work as expected. */\n",
       "        background-size: auto;\n",
       "    }\n",
       "    .progress-bar-interrupted, .progress-bar-interrupted::-webkit-progress-bar {\n",
       "        background: #F44336;\n",
       "    }\n",
       "</style>\n"
      ],
      "text/plain": [
       "<IPython.core.display.HTML object>"
      ]
     },
     "metadata": {},
     "output_type": "display_data"
    },
    {
     "data": {
      "text/html": [
       "<table border=\"1\" class=\"dataframe\">\n",
       "  <thead>\n",
       "    <tr style=\"text-align: left;\">\n",
       "      <th>epoch</th>\n",
       "      <th>train_loss</th>\n",
       "      <th>valid_loss</th>\n",
       "      <th>accuracy</th>\n",
       "      <th>error_rate</th>\n",
       "      <th>recall_score</th>\n",
       "      <th>f1_score</th>\n",
       "      <th>precision_score</th>\n",
       "      <th>time</th>\n",
       "    </tr>\n",
       "  </thead>\n",
       "  <tbody>\n",
       "    <tr>\n",
       "      <td>0</td>\n",
       "      <td>0.463979</td>\n",
       "      <td>0.454782</td>\n",
       "      <td>0.783345</td>\n",
       "      <td>0.216655</td>\n",
       "      <td>0.774749</td>\n",
       "      <td>0.780911</td>\n",
       "      <td>0.787172</td>\n",
       "      <td>00:19</td>\n",
       "    </tr>\n",
       "    <tr>\n",
       "      <td>1</td>\n",
       "      <td>0.454685</td>\n",
       "      <td>0.445286</td>\n",
       "      <td>0.791623</td>\n",
       "      <td>0.208377</td>\n",
       "      <td>0.818949</td>\n",
       "      <td>0.796640</td>\n",
       "      <td>0.775513</td>\n",
       "      <td>00:19</td>\n",
       "    </tr>\n",
       "    <tr>\n",
       "      <td>2</td>\n",
       "      <td>0.449668</td>\n",
       "      <td>0.441474</td>\n",
       "      <td>0.793548</td>\n",
       "      <td>0.206452</td>\n",
       "      <td>0.813707</td>\n",
       "      <td>0.797103</td>\n",
       "      <td>0.781162</td>\n",
       "      <td>00:19</td>\n",
       "    </tr>\n",
       "    <tr>\n",
       "      <td>3</td>\n",
       "      <td>0.447246</td>\n",
       "      <td>0.433699</td>\n",
       "      <td>0.795748</td>\n",
       "      <td>0.204252</td>\n",
       "      <td>0.812548</td>\n",
       "      <td>0.798601</td>\n",
       "      <td>0.785124</td>\n",
       "      <td>00:19</td>\n",
       "    </tr>\n",
       "    <tr>\n",
       "      <td>4</td>\n",
       "      <td>0.435393</td>\n",
       "      <td>0.436357</td>\n",
       "      <td>0.795143</td>\n",
       "      <td>0.204857</td>\n",
       "      <td>0.789703</td>\n",
       "      <td>0.793491</td>\n",
       "      <td>0.797315</td>\n",
       "      <td>00:19</td>\n",
       "    </tr>\n",
       "    <tr>\n",
       "      <td>5</td>\n",
       "      <td>0.451119</td>\n",
       "      <td>0.428039</td>\n",
       "      <td>0.801221</td>\n",
       "      <td>0.198779</td>\n",
       "      <td>0.833021</td>\n",
       "      <td>0.806841</td>\n",
       "      <td>0.782257</td>\n",
       "      <td>00:19</td>\n",
       "    </tr>\n",
       "    <tr>\n",
       "      <td>6</td>\n",
       "      <td>0.422383</td>\n",
       "      <td>0.431200</td>\n",
       "      <td>0.798223</td>\n",
       "      <td>0.201777</td>\n",
       "      <td>0.814756</td>\n",
       "      <td>0.800987</td>\n",
       "      <td>0.787677</td>\n",
       "      <td>00:19</td>\n",
       "    </tr>\n",
       "    <tr>\n",
       "      <td>7</td>\n",
       "      <td>0.430305</td>\n",
       "      <td>0.417688</td>\n",
       "      <td>0.805951</td>\n",
       "      <td>0.194049</td>\n",
       "      <td>0.807527</td>\n",
       "      <td>0.805748</td>\n",
       "      <td>0.803978</td>\n",
       "      <td>00:19</td>\n",
       "    </tr>\n",
       "    <tr>\n",
       "      <td>8</td>\n",
       "      <td>0.410397</td>\n",
       "      <td>0.420418</td>\n",
       "      <td>0.806529</td>\n",
       "      <td>0.193471</td>\n",
       "      <td>0.849630</td>\n",
       "      <td>0.814032</td>\n",
       "      <td>0.781296</td>\n",
       "      <td>00:19</td>\n",
       "    </tr>\n",
       "    <tr>\n",
       "      <td>9</td>\n",
       "      <td>0.417862</td>\n",
       "      <td>0.414030</td>\n",
       "      <td>0.808069</td>\n",
       "      <td>0.191931</td>\n",
       "      <td>0.844278</td>\n",
       "      <td>0.814285</td>\n",
       "      <td>0.786349</td>\n",
       "      <td>00:19</td>\n",
       "    </tr>\n",
       "    <tr>\n",
       "      <td>10</td>\n",
       "      <td>0.407897</td>\n",
       "      <td>0.414894</td>\n",
       "      <td>0.809691</td>\n",
       "      <td>0.190309</td>\n",
       "      <td>0.858901</td>\n",
       "      <td>0.818134</td>\n",
       "      <td>0.781062</td>\n",
       "      <td>00:19</td>\n",
       "    </tr>\n",
       "    <tr>\n",
       "      <td>11</td>\n",
       "      <td>0.399522</td>\n",
       "      <td>0.409153</td>\n",
       "      <td>0.811919</td>\n",
       "      <td>0.188081</td>\n",
       "      <td>0.826509</td>\n",
       "      <td>0.814132</td>\n",
       "      <td>0.802121</td>\n",
       "      <td>00:19</td>\n",
       "    </tr>\n",
       "    <tr>\n",
       "      <td>12</td>\n",
       "      <td>0.397739</td>\n",
       "      <td>0.406977</td>\n",
       "      <td>0.814807</td>\n",
       "      <td>0.185193</td>\n",
       "      <td>0.855590</td>\n",
       "      <td>0.821588</td>\n",
       "      <td>0.790184</td>\n",
       "      <td>00:19</td>\n",
       "    </tr>\n",
       "    <tr>\n",
       "      <td>13</td>\n",
       "      <td>0.381389</td>\n",
       "      <td>0.398007</td>\n",
       "      <td>0.817667</td>\n",
       "      <td>0.182333</td>\n",
       "      <td>0.827006</td>\n",
       "      <td>0.818872</td>\n",
       "      <td>0.810897</td>\n",
       "      <td>00:19</td>\n",
       "    </tr>\n",
       "    <tr>\n",
       "      <td>14</td>\n",
       "      <td>0.390723</td>\n",
       "      <td>0.399018</td>\n",
       "      <td>0.820114</td>\n",
       "      <td>0.179886</td>\n",
       "      <td>0.869440</td>\n",
       "      <td>0.828108</td>\n",
       "      <td>0.790527</td>\n",
       "      <td>00:19</td>\n",
       "    </tr>\n",
       "    <tr>\n",
       "      <td>15</td>\n",
       "      <td>0.375546</td>\n",
       "      <td>0.395303</td>\n",
       "      <td>0.820829</td>\n",
       "      <td>0.179171</td>\n",
       "      <td>0.860280</td>\n",
       "      <td>0.827165</td>\n",
       "      <td>0.796505</td>\n",
       "      <td>00:19</td>\n",
       "    </tr>\n",
       "    <tr>\n",
       "      <td>16</td>\n",
       "      <td>0.381738</td>\n",
       "      <td>0.392943</td>\n",
       "      <td>0.823222</td>\n",
       "      <td>0.176778</td>\n",
       "      <td>0.861218</td>\n",
       "      <td>0.829233</td>\n",
       "      <td>0.799539</td>\n",
       "      <td>00:19</td>\n",
       "    </tr>\n",
       "    <tr>\n",
       "      <td>17</td>\n",
       "      <td>0.372115</td>\n",
       "      <td>0.388114</td>\n",
       "      <td>0.824515</td>\n",
       "      <td>0.175485</td>\n",
       "      <td>0.854817</td>\n",
       "      <td>0.829216</td>\n",
       "      <td>0.805104</td>\n",
       "      <td>00:19</td>\n",
       "    </tr>\n",
       "    <tr>\n",
       "      <td>18</td>\n",
       "      <td>0.362016</td>\n",
       "      <td>0.385340</td>\n",
       "      <td>0.826330</td>\n",
       "      <td>0.173670</td>\n",
       "      <td>0.845823</td>\n",
       "      <td>0.829190</td>\n",
       "      <td>0.813200</td>\n",
       "      <td>00:19</td>\n",
       "    </tr>\n",
       "    <tr>\n",
       "      <td>19</td>\n",
       "      <td>0.357598</td>\n",
       "      <td>0.387600</td>\n",
       "      <td>0.823827</td>\n",
       "      <td>0.176173</td>\n",
       "      <td>0.856473</td>\n",
       "      <td>0.828936</td>\n",
       "      <td>0.803115</td>\n",
       "      <td>00:19</td>\n",
       "    </tr>\n",
       "  </tbody>\n",
       "</table>"
      ],
      "text/plain": [
       "<IPython.core.display.HTML object>"
      ]
     },
     "metadata": {},
     "output_type": "display_data"
    }
   ],
   "source": [
    "tab_learn_ro.fit_one_cycle(20, lr_max=0.001)"
   ]
  },
  {
   "cell_type": "code",
   "execution_count": 35,
   "metadata": {
    "execution": {
     "iopub.execute_input": "2022-05-09T19:54:54.865009Z",
     "iopub.status.busy": "2022-05-09T19:54:54.864276Z",
     "iopub.status.idle": "2022-05-09T19:54:56.370859Z",
     "shell.execute_reply": "2022-05-09T19:54:56.370181Z",
     "shell.execute_reply.started": "2022-05-09T19:54:54.864972Z"
    }
   },
   "outputs": [
    {
     "data": {
      "image/png": "[encoded data removed]",
      "text/plain": [
       "<Figure size 432x288 with 1 Axes>"
      ]
     },
     "metadata": {
      "needs_background": "light"
     },
     "output_type": "display_data"
    }
   ],
   "source": [
    "tab_learn_ro.recorder.plot_loss()"
   ]
  },
  {
   "cell_type": "code",
   "execution_count": 36,
   "metadata": {
    "execution": {
     "iopub.execute_input": "2022-05-09T19:55:05.273823Z",
     "iopub.status.busy": "2022-05-09T19:55:05.273554Z",
     "iopub.status.idle": "2022-05-09T19:55:13.138955Z",
     "shell.execute_reply": "2022-05-09T19:55:13.138301Z",
     "shell.execute_reply.started": "2022-05-09T19:55:05.273793Z"
    }
   },
   "outputs": [
    {
     "data": {
      "text/html": [
       "\n",
       "<style>\n",
       "    /* Turns off some styling */\n",
       "    progress {\n",
       "        /* gets rid of default border in Firefox and Opera. */\n",
       "        border: none;\n",
       "        /* Needs to be in here for Safari polyfill so background images work as expected. */\n",
       "        background-size: auto;\n",
       "    }\n",
       "    .progress-bar-interrupted, .progress-bar-interrupted::-webkit-progress-bar {\n",
       "        background: #F44336;\n",
       "    }\n",
       "</style>\n"
      ],
      "text/plain": [
       "<IPython.core.display.HTML object>"
      ]
     },
     "metadata": {},
     "output_type": "display_data"
    },
    {
     "data": {
      "text/html": [],
      "text/plain": [
       "<IPython.core.display.HTML object>"
      ]
     },
     "metadata": {},
     "output_type": "display_data"
    },
    {
     "data": {
      "text/html": [
       "\n",
       "<style>\n",
       "    /* Turns off some styling */\n",
       "    progress {\n",
       "        /* gets rid of default border in Firefox and Opera. */\n",
       "        border: none;\n",
       "        /* Needs to be in here for Safari polyfill so background images work as expected. */\n",
       "        background-size: auto;\n",
       "    }\n",
       "    .progress-bar-interrupted, .progress-bar-interrupted::-webkit-progress-bar {\n",
       "        background: #F44336;\n",
       "    }\n",
       "</style>\n"
      ],
      "text/plain": [
       "<IPython.core.display.HTML object>"
      ]
     },
     "metadata": {},
     "output_type": "display_data"
    },
    {
     "data": {
      "text/html": [],
      "text/plain": [
       "<IPython.core.display.HTML object>"
      ]
     },
     "metadata": {},
     "output_type": "display_data"
    },
    {
     "data": {
      "image/png": "[encoded data removed]",
      "text/plain": [
       "<Figure size 432x288 with 1 Axes>"
      ]
     },
     "metadata": {
      "needs_background": "light"
     },
     "output_type": "display_data"
    }
   ],
   "source": [
    "interpret_ro = ClassificationInterpretation.from_learner(tab_learn_ro)\n",
    "interpret_ro.plot_confusion_matrix()"
   ]
  },
  {
   "cell_type": "markdown",
   "metadata": {},
   "source": [
    "## Performance sur Train"
   ]
  },
  {
   "cell_type": "code",
   "execution_count": 37,
   "metadata": {
    "execution": {
     "iopub.execute_input": "2022-05-09T19:55:24.070866Z",
     "iopub.status.busy": "2022-05-09T19:55:24.070609Z",
     "iopub.status.idle": "2022-05-09T19:55:26.610673Z",
     "shell.execute_reply": "2022-05-09T19:55:26.609824Z",
     "shell.execute_reply.started": "2022-05-09T19:55:24.070836Z"
    }
   },
   "outputs": [
    {
     "data": {
      "text/html": [
       "\n",
       "<style>\n",
       "    /* Turns off some styling */\n",
       "    progress {\n",
       "        /* gets rid of default border in Firefox and Opera. */\n",
       "        border: none;\n",
       "        /* Needs to be in here for Safari polyfill so background images work as expected. */\n",
       "        background-size: auto;\n",
       "    }\n",
       "    .progress-bar-interrupted, .progress-bar-interrupted::-webkit-progress-bar {\n",
       "        background: #F44336;\n",
       "    }\n",
       "</style>\n"
      ],
      "text/plain": [
       "<IPython.core.display.HTML object>"
      ]
     },
     "metadata": {},
     "output_type": "display_data"
    },
    {
     "data": {
      "text/html": [],
      "text/plain": [
       "<IPython.core.display.HTML object>"
      ]
     },
     "metadata": {},
     "output_type": "display_data"
    },
    {
     "name": "stdout",
     "output_type": "stream",
     "text": [
      "              precision    recall  f1-score   support\n",
      "\n",
      "           0       0.87      0.95      0.91     18209\n",
      "           1       0.73      0.51      0.60      5063\n",
      "\n",
      "    accuracy                           0.85     23272\n",
      "   macro avg       0.80      0.73      0.75     23272\n",
      "weighted avg       0.84      0.85      0.84     23272\n",
      "\n"
     ]
    }
   ],
   "source": [
    "interpret.print_classification_report()"
   ]
  },
  {
   "cell_type": "code",
   "execution_count": 38,
   "metadata": {
    "execution": {
     "iopub.execute_input": "2022-05-09T19:55:32.630839Z",
     "iopub.status.busy": "2022-05-09T19:55:32.630580Z",
     "iopub.status.idle": "2022-05-09T19:55:33.743980Z",
     "shell.execute_reply": "2022-05-09T19:55:33.743203Z",
     "shell.execute_reply.started": "2022-05-09T19:55:32.630811Z"
    }
   },
   "outputs": [
    {
     "data": {
      "text/html": [
       "\n",
       "<style>\n",
       "    /* Turns off some styling */\n",
       "    progress {\n",
       "        /* gets rid of default border in Firefox and Opera. */\n",
       "        border: none;\n",
       "        /* Needs to be in here for Safari polyfill so background images work as expected. */\n",
       "        background-size: auto;\n",
       "    }\n",
       "    .progress-bar-interrupted, .progress-bar-interrupted::-webkit-progress-bar {\n",
       "        background: #F44336;\n",
       "    }\n",
       "</style>\n"
      ],
      "text/plain": [
       "<IPython.core.display.HTML object>"
      ]
     },
     "metadata": {},
     "output_type": "display_data"
    },
    {
     "data": {
      "text/html": [],
      "text/plain": [
       "<IPython.core.display.HTML object>"
      ]
     },
     "metadata": {},
     "output_type": "display_data"
    },
    {
     "name": "stdout",
     "output_type": "stream",
     "text": [
      "              precision    recall  f1-score   support\n",
      "\n",
      "           0       0.81      0.75      0.78      5053\n",
      "           1       0.77      0.82      0.80      5130\n",
      "\n",
      "    accuracy                           0.79     10183\n",
      "   macro avg       0.79      0.79      0.79     10183\n",
      "weighted avg       0.79      0.79      0.79     10183\n",
      "\n"
     ]
    }
   ],
   "source": [
    "interpret_ru.print_classification_report()"
   ]
  },
  {
   "cell_type": "code",
   "execution_count": 39,
   "metadata": {
    "execution": {
     "iopub.execute_input": "2022-05-09T19:55:37.826163Z",
     "iopub.status.busy": "2022-05-09T19:55:37.825907Z",
     "iopub.status.idle": "2022-05-09T19:55:41.620945Z",
     "shell.execute_reply": "2022-05-09T19:55:41.620107Z",
     "shell.execute_reply.started": "2022-05-09T19:55:37.826134Z"
    }
   },
   "outputs": [
    {
     "data": {
      "text/html": [
       "\n",
       "<style>\n",
       "    /* Turns off some styling */\n",
       "    progress {\n",
       "        /* gets rid of default border in Firefox and Opera. */\n",
       "        border: none;\n",
       "        /* Needs to be in here for Safari polyfill so background images work as expected. */\n",
       "        background-size: auto;\n",
       "    }\n",
       "    .progress-bar-interrupted, .progress-bar-interrupted::-webkit-progress-bar {\n",
       "        background: #F44336;\n",
       "    }\n",
       "</style>\n"
      ],
      "text/plain": [
       "<IPython.core.display.HTML object>"
      ]
     },
     "metadata": {},
     "output_type": "display_data"
    },
    {
     "data": {
      "text/html": [],
      "text/plain": [
       "<IPython.core.display.HTML object>"
      ]
     },
     "metadata": {},
     "output_type": "display_data"
    },
    {
     "name": "stdout",
     "output_type": "stream",
     "text": [
      "              precision    recall  f1-score   support\n",
      "\n",
      "           0       0.85      0.79      0.82     18240\n",
      "           1       0.80      0.86      0.83     18122\n",
      "\n",
      "    accuracy                           0.82     36362\n",
      "   macro avg       0.83      0.82      0.82     36362\n",
      "weighted avg       0.83      0.82      0.82     36362\n",
      "\n"
     ]
    }
   ],
   "source": [
    "interpret_ro.print_classification_report()"
   ]
  },
  {
   "cell_type": "markdown",
   "metadata": {},
   "source": [
    "## Test du modèle sur les données de test"
   ]
  },
  {
   "cell_type": "code",
   "execution_count": 40,
   "metadata": {
    "execution": {
     "iopub.execute_input": "2022-05-09T19:56:07.274869Z",
     "iopub.status.busy": "2022-05-09T19:56:07.274618Z",
     "iopub.status.idle": "2022-05-09T19:56:07.344810Z",
     "shell.execute_reply": "2022-05-09T19:56:07.344142Z",
     "shell.execute_reply.started": "2022-05-09T19:56:07.274841Z"
    }
   },
   "outputs": [
    {
     "data": {
      "text/html": [
       "<table border=\"1\" class=\"dataframe\">\n",
       "  <thead>\n",
       "    <tr style=\"text-align: right;\">\n",
       "      <th></th>\n",
       "      <th>Rainfall</th>\n",
       "      <th>Rain_J-1</th>\n",
       "      <th>Rain_J-2</th>\n",
       "      <th>MinTemp</th>\n",
       "      <th>MaxTemp</th>\n",
       "      <th>Sunshine</th>\n",
       "      <th>Evaporation</th>\n",
       "      <th>Humidity3pm</th>\n",
       "      <th>Humidity9am</th>\n",
       "      <th>Pressure9am</th>\n",
       "      <th>Pressure3pm</th>\n",
       "      <th>Wind9am_cos</th>\n",
       "      <th>Wind3pm_cos</th>\n",
       "      <th>WindGust_cos</th>\n",
       "      <th>Wind9am_sin</th>\n",
       "      <th>Wind3pm_sin</th>\n",
       "      <th>WindGust_sin</th>\n",
       "      <th>Mois_sin</th>\n",
       "      <th>Mois_cos</th>\n",
       "      <th>RainToday_Num</th>\n",
       "      <th>Cloud3pm</th>\n",
       "      <th>Cloud9am</th>\n",
       "      <th>RainTomorrow_Num</th>\n",
       "    </tr>\n",
       "  </thead>\n",
       "  <tbody>\n",
       "    <tr>\n",
       "      <th>0</th>\n",
       "      <td>0.0</td>\n",
       "      <td>0.0</td>\n",
       "      <td>0.0</td>\n",
       "      <td>2.0</td>\n",
       "      <td>18.000000</td>\n",
       "      <td>6.80</td>\n",
       "      <td>4.20</td>\n",
       "      <td>33.0</td>\n",
       "      <td>62.0</td>\n",
       "      <td>1022.099976</td>\n",
       "      <td>1018.299988</td>\n",
       "      <td>1.000000e+00</td>\n",
       "      <td>9.238795e-01</td>\n",
       "      <td>9.238795e-01</td>\n",
       "      <td>0.000000</td>\n",
       "      <td>-0.382683</td>\n",
       "      <td>-3.826834e-01</td>\n",
       "      <td>5.000000e-01</td>\n",
       "      <td>-8.660254e-01</td>\n",
       "      <td>0.0</td>\n",
       "      <td>6.0</td>\n",
       "      <td>2.0</td>\n",
       "      <td>0</td>\n",
       "    </tr>\n",
       "    <tr>\n",
       "      <th>1</th>\n",
       "      <td>1.2</td>\n",
       "      <td>0.0</td>\n",
       "      <td>0.0</td>\n",
       "      <td>6.2</td>\n",
       "      <td>14.000000</td>\n",
       "      <td>5.50</td>\n",
       "      <td>2.00</td>\n",
       "      <td>62.0</td>\n",
       "      <td>56.0</td>\n",
       "      <td>1015.599976</td>\n",
       "      <td>1014.200012</td>\n",
       "      <td>-7.071068e-01</td>\n",
       "      <td>-7.071068e-01</td>\n",
       "      <td>-9.238795e-01</td>\n",
       "      <td>-0.707107</td>\n",
       "      <td>-0.707107</td>\n",
       "      <td>-3.826834e-01</td>\n",
       "      <td>-8.660254e-01</td>\n",
       "      <td>-5.000000e-01</td>\n",
       "      <td>1.0</td>\n",
       "      <td>6.0</td>\n",
       "      <td>6.0</td>\n",
       "      <td>0</td>\n",
       "    </tr>\n",
       "    <tr>\n",
       "      <th>2</th>\n",
       "      <td>0.0</td>\n",
       "      <td>0.0</td>\n",
       "      <td>0.0</td>\n",
       "      <td>15.2</td>\n",
       "      <td>25.700001</td>\n",
       "      <td>11.50</td>\n",
       "      <td>13.40</td>\n",
       "      <td>30.0</td>\n",
       "      <td>56.0</td>\n",
       "      <td>1017.200012</td>\n",
       "      <td>1015.099976</td>\n",
       "      <td>-1.836970e-16</td>\n",
       "      <td>-3.826834e-01</td>\n",
       "      <td>-3.826834e-01</td>\n",
       "      <td>-1.000000</td>\n",
       "      <td>-0.923880</td>\n",
       "      <td>-9.238795e-01</td>\n",
       "      <td>5.000000e-01</td>\n",
       "      <td>8.660254e-01</td>\n",
       "      <td>0.0</td>\n",
       "      <td>1.0</td>\n",
       "      <td>0.0</td>\n",
       "      <td>0</td>\n",
       "    </tr>\n",
       "    <tr>\n",
       "      <th>3</th>\n",
       "      <td>0.0</td>\n",
       "      <td>0.0</td>\n",
       "      <td>0.0</td>\n",
       "      <td>21.0</td>\n",
       "      <td>26.600000</td>\n",
       "      <td>2.56</td>\n",
       "      <td>5.64</td>\n",
       "      <td>76.0</td>\n",
       "      <td>86.0</td>\n",
       "      <td>1007.500000</td>\n",
       "      <td>1006.900024</td>\n",
       "      <td>1.913417e-01</td>\n",
       "      <td>-1.836970e-16</td>\n",
       "      <td>-1.836970e-16</td>\n",
       "      <td>0.961940</td>\n",
       "      <td>-1.000000</td>\n",
       "      <td>-1.000000e+00</td>\n",
       "      <td>-8.660254e-01</td>\n",
       "      <td>5.000000e-01</td>\n",
       "      <td>0.0</td>\n",
       "      <td>6.0</td>\n",
       "      <td>6.0</td>\n",
       "      <td>0</td>\n",
       "    </tr>\n",
       "    <tr>\n",
       "      <th>4</th>\n",
       "      <td>0.0</td>\n",
       "      <td>0.0</td>\n",
       "      <td>0.0</td>\n",
       "      <td>15.0</td>\n",
       "      <td>29.700001</td>\n",
       "      <td>0.40</td>\n",
       "      <td>10.60</td>\n",
       "      <td>39.0</td>\n",
       "      <td>26.0</td>\n",
       "      <td>1004.900024</td>\n",
       "      <td>1006.099976</td>\n",
       "      <td>6.123234e-17</td>\n",
       "      <td>7.071068e-01</td>\n",
       "      <td>-1.000000e+00</td>\n",
       "      <td>1.000000</td>\n",
       "      <td>0.707107</td>\n",
       "      <td>1.224647e-16</td>\n",
       "      <td>0.000000e+00</td>\n",
       "      <td>1.000000e+00</td>\n",
       "      <td>0.0</td>\n",
       "      <td>7.0</td>\n",
       "      <td>7.0</td>\n",
       "      <td>1</td>\n",
       "    </tr>\n",
       "    <tr>\n",
       "      <th>5</th>\n",
       "      <td>0.0</td>\n",
       "      <td>0.0</td>\n",
       "      <td>1.0</td>\n",
       "      <td>9.4</td>\n",
       "      <td>18.900000</td>\n",
       "      <td>5.30</td>\n",
       "      <td>3.00</td>\n",
       "      <td>53.0</td>\n",
       "      <td>60.0</td>\n",
       "      <td>1021.200012</td>\n",
       "      <td>1019.500000</td>\n",
       "      <td>-7.071068e-01</td>\n",
       "      <td>-3.826834e-01</td>\n",
       "      <td>-9.238795e-01</td>\n",
       "      <td>0.707107</td>\n",
       "      <td>0.923880</td>\n",
       "      <td>3.826834e-01</td>\n",
       "      <td>1.224647e-16</td>\n",
       "      <td>-1.000000e+00</td>\n",
       "      <td>0.0</td>\n",
       "      <td>3.0</td>\n",
       "      <td>5.0</td>\n",
       "      <td>0</td>\n",
       "    </tr>\n",
       "    <tr>\n",
       "      <th>6</th>\n",
       "      <td>0.0</td>\n",
       "      <td>0.0</td>\n",
       "      <td>0.0</td>\n",
       "      <td>11.9</td>\n",
       "      <td>33.200001</td>\n",
       "      <td>9.94</td>\n",
       "      <td>6.84</td>\n",
       "      <td>32.0</td>\n",
       "      <td>69.0</td>\n",
       "      <td>1020.000000</td>\n",
       "      <td>1015.299988</td>\n",
       "      <td>-9.238795e-01</td>\n",
       "      <td>7.071068e-01</td>\n",
       "      <td>1.000000e+00</td>\n",
       "      <td>0.382683</td>\n",
       "      <td>0.707107</td>\n",
       "      <td>0.000000e+00</td>\n",
       "      <td>5.000000e-01</td>\n",
       "      <td>8.660254e-01</td>\n",
       "      <td>0.0</td>\n",
       "      <td>3.0</td>\n",
       "      <td>2.0</td>\n",
       "      <td>0</td>\n",
       "    </tr>\n",
       "    <tr>\n",
       "      <th>7</th>\n",
       "      <td>0.0</td>\n",
       "      <td>0.0</td>\n",
       "      <td>0.0</td>\n",
       "      <td>22.4</td>\n",
       "      <td>30.799999</td>\n",
       "      <td>7.90</td>\n",
       "      <td>9.00</td>\n",
       "      <td>56.0</td>\n",
       "      <td>63.0</td>\n",
       "      <td>1017.000000</td>\n",
       "      <td>1014.500000</td>\n",
       "      <td>9.238795e-01</td>\n",
       "      <td>1.000000e+00</td>\n",
       "      <td>1.000000e+00</td>\n",
       "      <td>-0.382683</td>\n",
       "      <td>0.000000</td>\n",
       "      <td>0.000000e+00</td>\n",
       "      <td>-1.000000e+00</td>\n",
       "      <td>-1.836970e-16</td>\n",
       "      <td>0.0</td>\n",
       "      <td>7.0</td>\n",
       "      <td>7.0</td>\n",
       "      <td>0</td>\n",
       "    </tr>\n",
       "    <tr>\n",
       "      <th>8</th>\n",
       "      <td>0.0</td>\n",
       "      <td>1.0</td>\n",
       "      <td>1.0</td>\n",
       "      <td>23.9</td>\n",
       "      <td>34.599998</td>\n",
       "      <td>6.54</td>\n",
       "      <td>4.80</td>\n",
       "      <td>61.0</td>\n",
       "      <td>70.0</td>\n",
       "      <td>1009.000000</td>\n",
       "      <td>1005.400024</td>\n",
       "      <td>-7.071068e-01</td>\n",
       "      <td>7.071068e-01</td>\n",
       "      <td>-1.836970e-16</td>\n",
       "      <td>0.707107</td>\n",
       "      <td>0.707107</td>\n",
       "      <td>-1.000000e+00</td>\n",
       "      <td>-8.660254e-01</td>\n",
       "      <td>5.000000e-01</td>\n",
       "      <td>0.0</td>\n",
       "      <td>5.0</td>\n",
       "      <td>5.0</td>\n",
       "      <td>0</td>\n",
       "    </tr>\n",
       "    <tr>\n",
       "      <th>9</th>\n",
       "      <td>0.0</td>\n",
       "      <td>0.0</td>\n",
       "      <td>0.0</td>\n",
       "      <td>3.3</td>\n",
       "      <td>12.200000</td>\n",
       "      <td>6.20</td>\n",
       "      <td>1.20</td>\n",
       "      <td>66.0</td>\n",
       "      <td>92.0</td>\n",
       "      <td>1026.000000</td>\n",
       "      <td>1022.799988</td>\n",
       "      <td>-3.826834e-01</td>\n",
       "      <td>-3.826834e-01</td>\n",
       "      <td>-3.826834e-01</td>\n",
       "      <td>0.923880</td>\n",
       "      <td>0.923880</td>\n",
       "      <td>9.238795e-01</td>\n",
       "      <td>1.224647e-16</td>\n",
       "      <td>-1.000000e+00</td>\n",
       "      <td>0.0</td>\n",
       "      <td>4.0</td>\n",
       "      <td>5.0</td>\n",
       "      <td>0</td>\n",
       "    </tr>\n",
       "  </tbody>\n",
       "</table>"
      ],
      "text/plain": [
       "<IPython.core.display.HTML object>"
      ]
     },
     "metadata": {},
     "output_type": "display_data"
    }
   ],
   "source": [
    "test = tab_learn.dls.test_dl(X_te)\n",
    "test.show_batch()"
   ]
  },
  {
   "cell_type": "code",
   "execution_count": 41,
   "metadata": {
    "execution": {
     "iopub.execute_input": "2022-05-09T19:56:30.105187Z",
     "iopub.status.busy": "2022-05-09T19:56:30.104927Z",
     "iopub.status.idle": "2022-05-09T19:56:33.103259Z",
     "shell.execute_reply": "2022-05-09T19:56:33.102634Z",
     "shell.execute_reply.started": "2022-05-09T19:56:30.105156Z"
    }
   },
   "outputs": [
    {
     "data": {
      "text/html": [
       "\n",
       "<style>\n",
       "    /* Turns off some styling */\n",
       "    progress {\n",
       "        /* gets rid of default border in Firefox and Opera. */\n",
       "        border: none;\n",
       "        /* Needs to be in here for Safari polyfill so background images work as expected. */\n",
       "        background-size: auto;\n",
       "    }\n",
       "    .progress-bar-interrupted, .progress-bar-interrupted::-webkit-progress-bar {\n",
       "        background: #F44336;\n",
       "    }\n",
       "</style>\n"
      ],
      "text/plain": [
       "<IPython.core.display.HTML object>"
      ]
     },
     "metadata": {},
     "output_type": "display_data"
    },
    {
     "data": {
      "text/html": [],
      "text/plain": [
       "<IPython.core.display.HTML object>"
      ]
     },
     "metadata": {},
     "output_type": "display_data"
    }
   ],
   "source": [
    "preds, test_labels = tab_learn.get_preds(dl=test)"
   ]
  },
  {
   "cell_type": "code",
   "execution_count": 42,
   "metadata": {
    "execution": {
     "iopub.execute_input": "2022-05-09T19:56:38.105371Z",
     "iopub.status.busy": "2022-05-09T19:56:38.105085Z",
     "iopub.status.idle": "2022-05-09T19:56:38.150140Z",
     "shell.execute_reply": "2022-05-09T19:56:38.149346Z",
     "shell.execute_reply.started": "2022-05-09T19:56:38.105339Z"
    }
   },
   "outputs": [
    {
     "data": {
      "text/plain": [
       "tensor([[0.9336, 0.0664],\n",
       "        [0.7322, 0.2678],\n",
       "        [0.9980, 0.0020],\n",
       "        ...,\n",
       "        [0.8934, 0.1066],\n",
       "        [0.9578, 0.0422],\n",
       "        [0.5486, 0.4514]])"
      ]
     },
     "execution_count": 42,
     "metadata": {},
     "output_type": "execute_result"
    }
   ],
   "source": [
    "preds"
   ]
  },
  {
   "cell_type": "code",
   "execution_count": 43,
   "metadata": {
    "execution": {
     "iopub.execute_input": "2022-05-09T19:56:41.460693Z",
     "iopub.status.busy": "2022-05-09T19:56:41.460078Z",
     "iopub.status.idle": "2022-05-09T19:56:41.501822Z",
     "shell.execute_reply": "2022-05-09T19:56:41.501002Z",
     "shell.execute_reply.started": "2022-05-09T19:56:41.460650Z"
    }
   },
   "outputs": [],
   "source": [
    "final_preds = preds.numpy()\n",
    "final_preds = np.argmax(final_preds, axis=1)"
   ]
  },
  {
   "cell_type": "code",
   "execution_count": 44,
   "metadata": {
    "execution": {
     "iopub.execute_input": "2022-05-09T19:56:46.580840Z",
     "iopub.status.busy": "2022-05-09T19:56:46.579943Z",
     "iopub.status.idle": "2022-05-09T19:56:46.679244Z",
     "shell.execute_reply": "2022-05-09T19:56:46.678372Z",
     "shell.execute_reply.started": "2022-05-09T19:56:46.580801Z"
    }
   },
   "outputs": [
    {
     "name": "stdout",
     "output_type": "stream",
     "text": [
      "performances sur test :\n",
      "               precision    recall  f1-score   support\n",
      "\n",
      "           0       0.87      0.94      0.91     22673\n",
      "           1       0.72      0.51      0.59      6418\n",
      "\n",
      "    accuracy                           0.85     29091\n",
      "   macro avg       0.79      0.72      0.75     29091\n",
      "weighted avg       0.84      0.85      0.84     29091\n",
      "\n"
     ]
    }
   ],
   "source": [
    "from sklearn.metrics import classification_report, confusion_matrix\n",
    "print(\"performances sur test :\\n\", classification_report(X_te.RainTomorrow_Num, final_preds))"
   ]
  },
  {
   "cell_type": "code",
   "execution_count": 47,
   "metadata": {
    "execution": {
     "iopub.execute_input": "2022-05-09T20:03:01.215916Z",
     "iopub.status.busy": "2022-05-09T20:03:01.215638Z",
     "iopub.status.idle": "2022-05-09T20:03:04.457235Z",
     "shell.execute_reply": "2022-05-09T20:03:04.456357Z",
     "shell.execute_reply.started": "2022-05-09T20:03:01.215887Z"
    }
   },
   "outputs": [
    {
     "data": {
      "text/html": [
       "\n",
       "<style>\n",
       "    /* Turns off some styling */\n",
       "    progress {\n",
       "        /* gets rid of default border in Firefox and Opera. */\n",
       "        border: none;\n",
       "        /* Needs to be in here for Safari polyfill so background images work as expected. */\n",
       "        background-size: auto;\n",
       "    }\n",
       "    .progress-bar-interrupted, .progress-bar-interrupted::-webkit-progress-bar {\n",
       "        background: #F44336;\n",
       "    }\n",
       "</style>\n"
      ],
      "text/plain": [
       "<IPython.core.display.HTML object>"
      ]
     },
     "metadata": {},
     "output_type": "display_data"
    },
    {
     "data": {
      "text/html": [],
      "text/plain": [
       "<IPython.core.display.HTML object>"
      ]
     },
     "metadata": {},
     "output_type": "display_data"
    },
    {
     "name": "stdout",
     "output_type": "stream",
     "text": [
      "performances sur test - oversampling :\n",
      "               precision    recall  f1-score   support\n",
      "\n",
      "           0       0.93      0.79      0.85     22673\n",
      "           1       0.51      0.79      0.62      6418\n",
      "\n",
      "    accuracy                           0.79     29091\n",
      "   macro avg       0.72      0.79      0.73     29091\n",
      "weighted avg       0.84      0.79      0.80     29091\n",
      "\n"
     ]
    }
   ],
   "source": [
    "preds, test_labels = tab_learn_ro.get_preds(dl=test)\n",
    "final_preds = preds.numpy()\n",
    "final_preds = np.argmax(final_preds, axis=1)\n",
    "from sklearn.metrics import classification_report, confusion_matrix\n",
    "print(\"performances sur test - oversampling :\\n\", classification_report(X_te.RainTomorrow_Num, final_preds))"
   ]
  },
  {
   "cell_type": "code",
   "execution_count": 48,
   "metadata": {
    "execution": {
     "iopub.execute_input": "2022-05-09T20:03:40.909411Z",
     "iopub.status.busy": "2022-05-09T20:03:40.909148Z",
     "iopub.status.idle": "2022-05-09T20:03:43.940095Z",
     "shell.execute_reply": "2022-05-09T20:03:43.939329Z",
     "shell.execute_reply.started": "2022-05-09T20:03:40.909380Z"
    }
   },
   "outputs": [
    {
     "data": {
      "text/html": [
       "\n",
       "<style>\n",
       "    /* Turns off some styling */\n",
       "    progress {\n",
       "        /* gets rid of default border in Firefox and Opera. */\n",
       "        border: none;\n",
       "        /* Needs to be in here for Safari polyfill so background images work as expected. */\n",
       "        background-size: auto;\n",
       "    }\n",
       "    .progress-bar-interrupted, .progress-bar-interrupted::-webkit-progress-bar {\n",
       "        background: #F44336;\n",
       "    }\n",
       "</style>\n"
      ],
      "text/plain": [
       "<IPython.core.display.HTML object>"
      ]
     },
     "metadata": {},
     "output_type": "display_data"
    },
    {
     "data": {
      "text/html": [],
      "text/plain": [
       "<IPython.core.display.HTML object>"
      ]
     },
     "metadata": {},
     "output_type": "display_data"
    },
    {
     "name": "stdout",
     "output_type": "stream",
     "text": [
      "performances sur test - undersampling :\n",
      "               precision    recall  f1-score   support\n",
      "\n",
      "           0       0.94      0.75      0.84     22673\n",
      "           1       0.49      0.83      0.61      6418\n",
      "\n",
      "    accuracy                           0.77     29091\n",
      "   macro avg       0.71      0.79      0.72     29091\n",
      "weighted avg       0.84      0.77      0.79     29091\n",
      "\n"
     ]
    }
   ],
   "source": [
    "preds, test_labels = tab_learn_ru.get_preds(dl=test)\n",
    "final_preds = preds.numpy()\n",
    "final_preds = np.argmax(final_preds, axis=1)\n",
    "from sklearn.metrics import classification_report, confusion_matrix\n",
    "print(\"performances sur test - undersampling :\\n\", classification_report(X_te.RainTomorrow_Num, final_preds))"
   ]
  },
  {
   "cell_type": "markdown",
   "metadata": {},
   "source": [
    "## Conclusion FastAI"
   ]
  },
  {
   "cell_type": "markdown",
   "metadata": {},
   "source": [
    "Les performances obtenues avec sur ou sous-échantillonnage conduisent aux mêmes conclusions que pour les réseaux de neurones denses classiques."
   ]
  },
  {
   "cell_type": "markdown",
   "metadata": {},
   "source": [
    "<hr>\n",
    "<h1> Conclusion générale sur les modèles de Deep Learning</h1>\n",
    "<hr>"
   ]
  },
  {
   "cell_type": "markdown",
   "metadata": {},
   "source": [
    "- Les modèles de Deep Learning développés n’ont pas démontré de meilleurs résultats que les modèles de machine learning étudiés en début de projet.\n",
    "- Par ailleurs, au-delà des performances peu convaincantes sur notre jeu de données, le manque d’interprétabilité des modèles de Deep Learning par rapport au machine learning ne pousse pas à les développer davantage lors de ce projet."
   ]
  }
 ],
 "metadata": {
  "kernelspec": {
   "display_name": "Python 3",
   "language": "python",
   "name": "python3"
  },
  "language_info": {
   "codemirror_mode": {
    "name": "ipython",
    "version": 3
   },
   "file_extension": ".py",
   "mimetype": "text/x-python",
   "name": "python",
   "nbconvert_exporter": "python",
   "pygments_lexer": "ipython3",
   "version": "3.8.8"
  }
 },
 "nbformat": 4,
 "nbformat_minor": 4
}
